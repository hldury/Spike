{
 "cells": [
  {
   "cell_type": "markdown",
   "metadata": {
    "colab_type": "text",
    "id": "ZCwcgFwsCTrT"
   },
   "source": [
    "# Spike Sandbox"
   ]
  },
  {
   "cell_type": "markdown",
   "metadata": {
    "colab_type": "text",
    "id": "IafevlSI-yCo"
   },
   "source": [
    "The following Colaboratory notebook enables rapid proto-typing of C++ code for the Spike simulator. For an introduction to Spike, click [here](https://sites.google.com/view/spike-simulator/home)"
   ]
  },
  {
   "cell_type": "markdown",
   "metadata": {
    "colab_type": "text",
    "id": "_MF9k73OBRsa"
   },
   "source": [
    "To get started, you can simply run every cell up until the section entitled 'Sandbox'"
   ]
  },
  {
   "cell_type": "markdown",
   "metadata": {
    "colab_type": "text",
    "id": "O7rknd8lBZFp"
   },
   "source": [
    "After that, you will be able to edit, compile, and run C++ code for Spike simulations, using only the commands under Sandbox. The simulation generated if you run all of these cells without further edits is from the model, 'Simple Example', which you can find out more about [here](https://sites.google.com/view/spike-simulator/home/simple-example?authuser=0)"
   ]
  },
  {
   "cell_type": "markdown",
   "metadata": {
    "colab_type": "text",
    "id": "-1CL09wUBsjo"
   },
   "source": [
    "Everytime you want to make a further change to the Sandbox.cpp source code, begin at the top of the Sandbox section."
   ]
  },
  {
   "cell_type": "markdown",
   "metadata": {
    "colab_type": "text",
    "id": "EXw7dq6bBuIC"
   },
   "source": [
    "If you run into an issue and want to start from a clean installation, select 'Restart runtime...' under the 'Runtime' option. Then, begin at the top of this notebook under 'Setting up environment'."
   ]
  },
  {
   "cell_type": "markdown",
   "metadata": {
    "colab_type": "text",
    "id": "gf65gEHRGFzI"
   },
   "source": [
    "*This Colaboratory notebook was created by members of the [Oxford Foundation for Theoretical Neuroscience and Artificial Intelligence](https://www.oftnai.org/). *"
   ]
  },
  {
   "cell_type": "markdown",
   "metadata": {
    "colab_type": "text",
    "id": "AasvU3fqLxux"
   },
   "source": [
    "#Setup"
   ]
  },
  {
   "cell_type": "markdown",
   "metadata": {
    "colab_type": "text",
    "id": "yoBmdr2EQJi1"
   },
   "source": [
    "## Setting up environment"
   ]
  },
  {
   "cell_type": "markdown",
   "metadata": {
    "colab_type": "text",
    "id": "-ZNN9eC-7l96"
   },
   "source": [
    "The following lines of code are useful if you want to do a clean re-installation of Spike and its dependencies. If you are running this Colab document for the first time, you can skip to the !git clone cell, but running these commands will not cause any issues."
   ]
  },
  {
   "cell_type": "code",
   "execution_count": 1,
   "metadata": {
    "colab": {
     "base_uri": "https://localhost:8080/",
     "height": 34
    },
    "colab_type": "code",
    "id": "znPGglDunVfy",
    "outputId": "2218d89d-e6e1-4bf3-fad8-4bfccdacd918"
   },
   "outputs": [
    {
     "name": "stdout",
     "output_type": "stream",
     "text": [
      "/content\n"
     ]
    }
   ],
   "source": [
    "cd /content"
   ]
  },
  {
   "cell_type": "code",
   "execution_count": 2,
   "metadata": {
    "colab": {
     "base_uri": "https://localhost:8080/",
     "height": 34
    },
    "colab_type": "code",
    "id": "2N9qpTzInpSd",
    "outputId": "66764842-d5ef-46ee-f2eb-6a72284275eb"
   },
   "outputs": [
    {
     "name": "stdout",
     "output_type": "stream",
     "text": [
      "\u001b[0m\u001b[01;34msample_data\u001b[0m/\n"
     ]
    }
   ],
   "source": [
    "ls"
   ]
  },
  {
   "cell_type": "code",
   "execution_count": 0,
   "metadata": {
    "colab": {},
    "colab_type": "code",
    "collapsed": true,
    "id": "2G9FdeignuG3"
   },
   "outputs": [],
   "source": [
    "rm -rf Spike #Run if Spike folder is present"
   ]
  },
  {
   "cell_type": "code",
   "execution_count": 4,
   "metadata": {
    "colab": {
     "base_uri": "https://localhost:8080/",
     "height": 706
    },
    "colab_type": "code",
    "id": "KccdK9rHNcs4",
    "outputId": "bc54efb3-e0dc-4216-c889-2ec3d25caa9f"
   },
   "outputs": [
    {
     "name": "stdout",
     "output_type": "stream",
     "text": [
      "Cloning into 'Spike'...\n",
      "remote: Enumerating objects: 4, done.\u001b[K\n",
      "remote: Counting objects: 100% (4/4), done.\u001b[K\n",
      "remote: Compressing objects: 100% (4/4), done.\u001b[K\n",
      "remote: Total 13288 (delta 0), reused 0 (delta 0), pack-reused 13284\u001b[K\n",
      "Receiving objects: 100% (13288/13288), 59.51 MiB | 19.82 MiB/s, done.\n",
      "Resolving deltas: 100% (10246/10246), done.\n",
      "Hit:1 http://ppa.launchpad.net/graphics-drivers/ppa/ubuntu bionic InRelease\n",
      "Hit:2 http://archive.ubuntu.com/ubuntu bionic InRelease\n",
      "Get:3 http://security.ubuntu.com/ubuntu bionic-security InRelease [88.7 kB]\n",
      "Get:4 http://ppa.launchpad.net/marutter/c2d4u3.5/ubuntu bionic InRelease [15.4 kB]\n",
      "Get:5 http://archive.ubuntu.com/ubuntu bionic-updates InRelease [88.7 kB]\n",
      "Get:6 http://archive.ubuntu.com/ubuntu bionic-backports InRelease [74.6 kB]\n",
      "Get:7 https://cloud.r-project.org/bin/linux/ubuntu bionic-cran35/ InRelease [3,626 B]\n",
      "Ign:8 https://developer.download.nvidia.com/compute/cuda/repos/ubuntu1804/x86_64  InRelease\n",
      "Ign:9 https://developer.download.nvidia.com/compute/machine-learning/repos/ubuntu1804/x86_64  InRelease\n",
      "Hit:10 https://developer.download.nvidia.com/compute/cuda/repos/ubuntu1804/x86_64  Release\n",
      "Get:11 https://developer.download.nvidia.com/compute/machine-learning/repos/ubuntu1804/x86_64  Release [564 B]\n",
      "Get:12 https://developer.download.nvidia.com/compute/machine-learning/repos/ubuntu1804/x86_64  Release.gpg [833 B]\n",
      "Get:13 http://ppa.launchpad.net/marutter/c2d4u3.5/ubuntu bionic/main Sources [1,667 kB]\n",
      "Get:14 http://ppa.launchpad.net/marutter/c2d4u3.5/ubuntu bionic/main amd64 Packages [800 kB]\n",
      "Get:15 http://security.ubuntu.com/ubuntu bionic-security/universe amd64 Packages [727 kB]\n",
      "Get:16 http://security.ubuntu.com/ubuntu bionic-security/main amd64 Packages [591 kB]\n",
      "Get:17 http://archive.ubuntu.com/ubuntu bionic-updates/main amd64 Packages [902 kB]\n",
      "Get:18 http://archive.ubuntu.com/ubuntu bionic-updates/universe amd64 Packages [1,248 kB]\n",
      "Get:19 http://archive.ubuntu.com/ubuntu bionic-backports/universe amd64 Packages [3,930 B]\n",
      "Get:20 https://cloud.r-project.org/bin/linux/ubuntu bionic-cran35/ Packages [65.5 kB]\n",
      "Get:22 https://developer.download.nvidia.com/compute/machine-learning/repos/ubuntu1804/x86_64  Packages [11.5 kB]\n",
      "Fetched 6,289 kB in 2s (2,846 kB/s)\n",
      "Reading package lists... Done\n",
      "Building dependency tree       \n",
      "Reading state information... Done\n",
      "34 packages can be upgraded. Run 'apt list --upgradable' to see them.\n",
      "Reading package lists... Done\n",
      "Building dependency tree       \n",
      "Reading state information... Done\n",
      "cmake is already the newest version (3.10.2-1ubuntu2).\n",
      "The following package was automatically installed and is no longer required:\n",
      "  libnvidia-common-410\n",
      "Use 'apt autoremove' to remove it.\n",
      "0 upgraded, 0 newly installed, 0 to remove and 34 not upgraded.\n"
     ]
    }
   ],
   "source": [
    "!git clone https://github.com/OFTNAI/Spike #Note '!' is necessary in Colab to run shell commands\n",
    "!apt update #apt = 'Advanced Package Tool'; checks the versions of various files and update as necessary\n",
    "!apt install cmake"
   ]
  },
  {
   "cell_type": "code",
   "execution_count": 5,
   "metadata": {
    "colab": {
     "base_uri": "https://localhost:8080/",
     "height": 134
    },
    "colab_type": "code",
    "id": "tObp2St9wg3u",
    "outputId": "b38ffb0b-9285-4ecc-8c3e-dd8c17e19b0b"
   },
   "outputs": [
    {
     "name": "stdout",
     "output_type": "stream",
     "text": [
      "Reading package lists... Done\n",
      "Building dependency tree       \n",
      "Reading state information... Done\n",
      "The following package was automatically installed and is no longer required:\n",
      "  libnvidia-common-410\n",
      "Use 'apt autoremove' to remove it.\n",
      "0 upgraded, 0 newly installed, 0 to remove and 34 not upgraded.\n"
     ]
    }
   ],
   "source": [
    "!apt --fix-broken install #Run if an error message is returned following !apt update"
   ]
  },
  {
   "cell_type": "code",
   "execution_count": 6,
   "metadata": {
    "colab": {
     "base_uri": "https://localhost:8080/",
     "height": 34
    },
    "colab_type": "code",
    "id": "eO98DAAnnTDM",
    "outputId": "728b8dc4-dc65-4962-b1b5-641da8ba22af"
   },
   "outputs": [
    {
     "name": "stdout",
     "output_type": "stream",
     "text": [
      "/content/Spike\n"
     ]
    }
   ],
   "source": [
    "cd /content/Spike"
   ]
  },
  {
   "cell_type": "code",
   "execution_count": 7,
   "metadata": {
    "colab": {
     "base_uri": "https://localhost:8080/",
     "height": 67
    },
    "colab_type": "code",
    "id": "SPp_ORidgn_r",
    "outputId": "d806424c-f780-4c7e-a645-8dacf3af472d"
   },
   "outputs": [
    {
     "name": "stdout",
     "output_type": "stream",
     "text": [
      "Already up to date.\n",
      "Already on 'master'\n",
      "Your branch is up to date with 'origin/master'.\n"
     ]
    }
   ],
   "source": [
    "!git pull \n",
    "!git checkout master "
   ]
  },
  {
   "cell_type": "code",
   "execution_count": 8,
   "metadata": {
    "colab": {
     "base_uri": "https://localhost:8080/",
     "height": 1000
    },
    "colab_type": "code",
    "id": "cu4U-kiBSz8-",
    "outputId": "91ecf171-7119-46bc-f801-8f87e630b68a"
   },
   "outputs": [
    {
     "name": "stdout",
     "output_type": "stream",
     "text": [
      "--2019-07-29 15:31:11--  https://developer.nvidia.com/compute/cuda/8.0/Prod2/local_installers/cuda-repo-ubuntu1604-8-0-local-ga2_8.0.61-1_amd64-deb\n",
      "Resolving developer.nvidia.com (developer.nvidia.com)... 192.229.182.215\n",
      "Connecting to developer.nvidia.com (developer.nvidia.com)|192.229.182.215|:443... connected.\n",
      "HTTP request sent, awaiting response... 302 Found\n",
      "Location: https://developer.download.nvidia.com/compute/cuda/8.0/secure/Prod2/local_installers/cuda-repo-ubuntu1604-8-0-local-ga2_8.0.61-1_amd64.deb?EkDAlH57UJmVKBfXfqPjrsEpSu-izvv7VUYjJ6AN6QsCC8nYS1iWDLYqR2sYBjX9Z6damUEYbNIVSYOKbeePI298-oj7tGHe77cngeBFIpDyVxgZjF8VUoOgaGBeUNuoaCV9jnX5lMGgK5kMbiJeU9qk6ieXChLsCiG9Bk7FKeF7y3r7igjs7NbgAFaM1wl0TQHV_GKSpR50OTKgTXe5kIyBrA [following]\n",
      "--2019-07-29 15:31:12--  https://developer.download.nvidia.com/compute/cuda/8.0/secure/Prod2/local_installers/cuda-repo-ubuntu1604-8-0-local-ga2_8.0.61-1_amd64.deb?EkDAlH57UJmVKBfXfqPjrsEpSu-izvv7VUYjJ6AN6QsCC8nYS1iWDLYqR2sYBjX9Z6damUEYbNIVSYOKbeePI298-oj7tGHe77cngeBFIpDyVxgZjF8VUoOgaGBeUNuoaCV9jnX5lMGgK5kMbiJeU9qk6ieXChLsCiG9Bk7FKeF7y3r7igjs7NbgAFaM1wl0TQHV_GKSpR50OTKgTXe5kIyBrA\n",
      "Resolving developer.download.nvidia.com (developer.download.nvidia.com)... 192.229.221.58, 2606:2800:233:ef6:15dd:1ece:1d50:1e1\n",
      "Connecting to developer.download.nvidia.com (developer.download.nvidia.com)|192.229.221.58|:443... connected.\n",
      "HTTP request sent, awaiting response... 200 OK\n",
      "Length: 1913589814 (1.8G) [application/x-deb]\n",
      "Saving to: ‘cuda-repo-ubuntu1604-8-0-local-ga2_8.0.61-1_amd64-deb’\n",
      "\n",
      "cuda-repo-ubuntu160 100%[===================>]   1.78G   135MB/s    in 13s     \n",
      "\n",
      "2019-07-29 15:31:25 (138 MB/s) - ‘cuda-repo-ubuntu1604-8-0-local-ga2_8.0.61-1_amd64-deb’ saved [1913589814/1913589814]\n",
      "\n",
      "Selecting previously unselected package cuda-repo-ubuntu1604-8-0-local-ga2.\n",
      "(Reading database ... 131331 files and directories currently installed.)\n",
      "Preparing to unpack cuda-repo-ubuntu1604-8-0-local-ga2_8.0.61-1_amd64-deb ...\n",
      "Unpacking cuda-repo-ubuntu1604-8-0-local-ga2 (8.0.61-1) ...\n",
      "Setting up cuda-repo-ubuntu1604-8-0-local-ga2 (8.0.61-1) ...\n",
      "Warning: The postinst maintainerscript of the package cuda-repo-ubuntu1604-8-0-local-ga2\n",
      "Warning: seems to use apt-key (provided by apt) without depending on gnupg or gnupg2.\n",
      "Warning: This will BREAK in the future and should be fixed by the package maintainer(s).\n",
      "Note: Check first if apt-key functionality is needed at all - it probably isn't!\n",
      "Warning: apt-key should not be used in scripts (called from postinst maintainerscript of the package cuda-repo-ubuntu1604-8-0-local-ga2)\n",
      "OK\n",
      "OK\n",
      "Get:1 file:/var/cuda-repo-8-0-local-ga2  InRelease\n",
      "Ign:1 file:/var/cuda-repo-8-0-local-ga2  InRelease\n",
      "Get:2 file:/var/cuda-repo-8-0-local-ga2  Release [574 B]\n",
      "Hit:3 http://security.ubuntu.com/ubuntu bionic-security InRelease\n",
      "Hit:4 http://ppa.launchpad.net/graphics-drivers/ppa/ubuntu bionic InRelease\n",
      "Get:2 file:/var/cuda-repo-8-0-local-ga2  Release [574 B]\n",
      "Hit:5 http://archive.ubuntu.com/ubuntu bionic InRelease\n",
      "Get:6 file:/var/cuda-repo-8-0-local-ga2  Release.gpg [819 B]\n",
      "Get:6 file:/var/cuda-repo-8-0-local-ga2  Release.gpg [819 B]\n",
      "Hit:7 http://ppa.launchpad.net/marutter/c2d4u3.5/ubuntu bionic InRelease\n",
      "Hit:8 http://archive.ubuntu.com/ubuntu bionic-updates InRelease\n",
      "Hit:9 https://cloud.r-project.org/bin/linux/ubuntu bionic-cran35/ InRelease\n",
      "Hit:10 http://archive.ubuntu.com/ubuntu bionic-backports InRelease\n",
      "Ign:11 https://developer.download.nvidia.com/compute/cuda/repos/ubuntu1804/x86_64  InRelease\n",
      "Ign:12 https://developer.download.nvidia.com/compute/machine-learning/repos/ubuntu1804/x86_64  InRelease\n",
      "Hit:13 https://developer.download.nvidia.com/compute/cuda/repos/ubuntu1804/x86_64  Release\n",
      "Hit:14 https://developer.download.nvidia.com/compute/machine-learning/repos/ubuntu1804/x86_64  Release\n",
      "Get:15 file:/var/cuda-repo-8-0-local-ga2  Packages [22.7 kB]\n",
      "Reading package lists... Done\n",
      "Reading package lists... Done\n",
      "Building dependency tree       \n",
      "Reading state information... Done\n",
      "The following package was automatically installed and is no longer required:\n",
      "  libnvidia-common-410\n",
      "Use 'apt autoremove' to remove it.\n",
      "The following additional packages will be installed:\n",
      "  cpp-5 cuda-10-1 cuda-command-line-tools-10-1 cuda-compiler-10-1\n",
      "  cuda-cudart-10-1 cuda-cudart-dev-10-1 cuda-cufft-10-1 cuda-cufft-dev-10-1\n",
      "  cuda-cuobjdump-10-1 cuda-cupti-10-1 cuda-curand-10-1 cuda-curand-dev-10-1\n",
      "  cuda-cusolver-10-1 cuda-cusolver-dev-10-1 cuda-cusparse-10-1\n",
      "  cuda-cusparse-dev-10-1 cuda-demo-suite-10-1 cuda-documentation-10-1\n",
      "  cuda-driver-dev-10-1 cuda-gdb-10-1 cuda-gpu-library-advisor-10-1\n",
      "  cuda-libraries-10-1 cuda-libraries-dev-10-1 cuda-license-10-1\n",
      "  cuda-memcheck-10-1 cuda-misc-headers-10-1 cuda-npp-10-1 cuda-npp-dev-10-1\n",
      "  cuda-nsight-10-1 cuda-nsight-compute-10-1 cuda-nsight-systems-10-1\n",
      "  cuda-nvcc-10-1 cuda-nvdisasm-10-1 cuda-nvgraph-10-1 cuda-nvgraph-dev-10-1\n",
      "  cuda-nvjpeg-10-1 cuda-nvjpeg-dev-10-1 cuda-nvml-dev-10-1 cuda-nvprof-10-1\n",
      "  cuda-nvprune-10-1 cuda-nvrtc-10-1 cuda-nvrtc-dev-10-1 cuda-nvtx-10-1\n",
      "  cuda-nvvp-10-1 cuda-runtime-10-1 cuda-samples-10-1 cuda-sanitizer-api-10-1\n",
      "  cuda-toolkit-10-1 cuda-tools-10-1 cuda-visual-tools-10-1 gcc-5-base libasan2\n",
      "  libcublas-dev libcublas10 libgcc-5-dev libisl15 libmpx0 libstdc++-5-dev\n",
      "Suggested packages:\n",
      "  gcc-5-locales g++-5-multilib gcc-5-doc libstdc++6-5-dbg gcc-5-multilib\n",
      "  libgcc1-dbg libgomp1-dbg libitm1-dbg libatomic1-dbg libasan2-dbg\n",
      "  liblsan0-dbg libtsan0-dbg libubsan0-dbg libcilkrts5-dbg libmpx0-dbg\n",
      "  libquadmath0-dbg libstdc++-5-doc\n",
      "The following NEW packages will be installed:\n",
      "  cpp-5 cuda cuda-10-1 cuda-command-line-tools-10-1 cuda-compiler-10-1\n",
      "  cuda-cudart-10-1 cuda-cudart-dev-10-1 cuda-cufft-10-1 cuda-cufft-dev-10-1\n",
      "  cuda-cuobjdump-10-1 cuda-cupti-10-1 cuda-curand-10-1 cuda-curand-dev-10-1\n",
      "  cuda-cusolver-10-1 cuda-cusolver-dev-10-1 cuda-cusparse-10-1\n",
      "  cuda-cusparse-dev-10-1 cuda-demo-suite-10-1 cuda-documentation-10-1\n",
      "  cuda-driver-dev-10-1 cuda-gdb-10-1 cuda-gpu-library-advisor-10-1\n",
      "  cuda-libraries-10-1 cuda-libraries-dev-10-1 cuda-license-10-1\n",
      "  cuda-memcheck-10-1 cuda-misc-headers-10-1 cuda-npp-10-1 cuda-npp-dev-10-1\n",
      "  cuda-nsight-10-1 cuda-nsight-compute-10-1 cuda-nsight-systems-10-1\n",
      "  cuda-nvcc-10-1 cuda-nvdisasm-10-1 cuda-nvgraph-10-1 cuda-nvgraph-dev-10-1\n",
      "  cuda-nvjpeg-10-1 cuda-nvjpeg-dev-10-1 cuda-nvml-dev-10-1 cuda-nvprof-10-1\n",
      "  cuda-nvprune-10-1 cuda-nvrtc-10-1 cuda-nvrtc-dev-10-1 cuda-nvtx-10-1\n",
      "  cuda-nvvp-10-1 cuda-runtime-10-1 cuda-samples-10-1 cuda-sanitizer-api-10-1\n",
      "  cuda-toolkit-10-1 cuda-tools-10-1 cuda-visual-tools-10-1 g++-5 gcc-5\n",
      "  gcc-5-base libasan2 libcublas-dev libcublas10 libgcc-5-dev libisl15 libmpx0\n",
      "  libstdc++-5-dev\n",
      "0 upgraded, 61 newly installed, 0 to remove and 34 not upgraded.\n",
      "Need to get 1,654 MB of archives.\n",
      "After this operation, 4,139 MB of additional disk space will be used.\n",
      "Get:1 http://archive.ubuntu.com/ubuntu bionic/universe amd64 gcc-5-base amd64 5.5.0-12ubuntu1 [17.1 kB]\n",
      "Get:2 https://developer.download.nvidia.com/compute/cuda/repos/ubuntu1804/x86_64  cuda-license-10-1 10.1.168-1 [16.2 kB]\n",
      "Get:3 http://archive.ubuntu.com/ubuntu bionic/universe amd64 libisl15 amd64 0.18-4 [548 kB]\n",
      "Get:4 https://developer.download.nvidia.com/compute/cuda/repos/ubuntu1804/x86_64  cuda-misc-headers-10-1 10.1.168-1 [691 kB]\n",
      "Get:5 https://developer.download.nvidia.com/compute/cuda/repos/ubuntu1804/x86_64  cuda-nvcc-10-1 10.1.168-1 [15.7 MB]\n",
      "Get:6 http://archive.ubuntu.com/ubuntu bionic/universe amd64 cpp-5 amd64 5.5.0-12ubuntu1 [7,785 kB]\n",
      "Get:7 http://archive.ubuntu.com/ubuntu bionic/universe amd64 libasan2 amd64 5.5.0-12ubuntu1 [264 kB]\n",
      "Get:8 http://archive.ubuntu.com/ubuntu bionic/universe amd64 libmpx0 amd64 5.5.0-12ubuntu1 [9,888 B]\n",
      "Get:9 http://archive.ubuntu.com/ubuntu bionic/universe amd64 libgcc-5-dev amd64 5.5.0-12ubuntu1 [2,224 kB]\n",
      "Get:10 http://archive.ubuntu.com/ubuntu bionic/universe amd64 gcc-5 amd64 5.5.0-12ubuntu1 [8,357 kB]\n",
      "Get:11 https://developer.download.nvidia.com/compute/cuda/repos/ubuntu1804/x86_64  cuda-cuobjdump-10-1 10.1.168-1 [81.7 kB]\n",
      "Get:12 https://developer.download.nvidia.com/compute/cuda/repos/ubuntu1804/x86_64  cuda-nvprune-10-1 10.1.168-1 [36.9 kB]\n",
      "Get:13 https://developer.download.nvidia.com/compute/cuda/repos/ubuntu1804/x86_64  cuda-compiler-10-1 10.1.168-1 [2,530 B]\n",
      "Get:14 https://developer.download.nvidia.com/compute/cuda/repos/ubuntu1804/x86_64  cuda-nvdisasm-10-1 10.1.168-1 [22.1 MB]\n",
      "Get:15 http://archive.ubuntu.com/ubuntu bionic/universe amd64 libstdc++-5-dev amd64 5.5.0-12ubuntu1 [1,415 kB]\n",
      "Get:16 http://archive.ubuntu.com/ubuntu bionic/universe amd64 g++-5 amd64 5.5.0-12ubuntu1 [8,450 kB]\n",
      "Get:17 https://developer.download.nvidia.com/compute/cuda/repos/ubuntu1804/x86_64  cuda-gdb-10-1 10.1.168-1 [2,770 kB]\n",
      "Get:18 https://developer.download.nvidia.com/compute/cuda/repos/ubuntu1804/x86_64  cuda-nvprof-10-1 10.1.168-1 [4,569 kB]\n",
      "Get:19 https://developer.download.nvidia.com/compute/cuda/repos/ubuntu1804/x86_64  cuda-sanitizer-api-10-1 10.1.168-1 [2,105 kB]\n",
      "Get:20 https://developer.download.nvidia.com/compute/cuda/repos/ubuntu1804/x86_64  cuda-memcheck-10-1 10.1.168-1 [139 kB]\n",
      "Get:21 https://developer.download.nvidia.com/compute/cuda/repos/ubuntu1804/x86_64  cuda-cudart-10-1 10.1.168-1 [110 kB]\n",
      "Get:22 https://developer.download.nvidia.com/compute/cuda/repos/ubuntu1804/x86_64  cuda-driver-dev-10-1 10.1.168-1 [12.0 kB]\n",
      "Get:23 https://developer.download.nvidia.com/compute/cuda/repos/ubuntu1804/x86_64  cuda-cudart-dev-10-1 10.1.168-1 [448 kB]\n",
      "Get:24 https://developer.download.nvidia.com/compute/cuda/repos/ubuntu1804/x86_64  cuda-cupti-10-1 10.1.168-1 [10.5 MB]\n",
      "Get:25 https://developer.download.nvidia.com/compute/cuda/repos/ubuntu1804/x86_64  cuda-gpu-library-advisor-10-1 10.1.168-1 [1,004 kB]\n",
      "Get:26 https://developer.download.nvidia.com/compute/cuda/repos/ubuntu1804/x86_64  cuda-nvtx-10-1 10.1.168-1 [38.9 kB]\n",
      "Get:27 https://developer.download.nvidia.com/compute/cuda/repos/ubuntu1804/x86_64  cuda-command-line-tools-10-1 10.1.168-1 [27.3 kB]\n",
      "Get:28 https://developer.download.nvidia.com/compute/cuda/repos/ubuntu1804/x86_64  cuda-nsight-10-1 10.1.168-1 [2,582 B]\n",
      "Get:29 https://developer.download.nvidia.com/compute/cuda/repos/ubuntu1804/x86_64  cuda-nvvp-10-1 10.1.168-1 [2,528 B]\n",
      "Get:30 https://developer.download.nvidia.com/compute/cuda/repos/ubuntu1804/x86_64  cuda-nvrtc-10-1 10.1.168-1 [6,285 kB]\n",
      "Get:31 https://developer.download.nvidia.com/compute/cuda/repos/ubuntu1804/x86_64  cuda-nvrtc-dev-10-1 10.1.168-1 [9,374 B]\n",
      "Get:32 https://developer.download.nvidia.com/compute/cuda/repos/ubuntu1804/x86_64  cuda-cusolver-10-1 10.1.168-1 [46.7 MB]\n",
      "Get:33 https://developer.download.nvidia.com/compute/cuda/repos/ubuntu1804/x86_64  cuda-cusolver-dev-10-1 10.1.168-1 [15.7 MB]\n",
      "Get:34 https://developer.download.nvidia.com/compute/cuda/repos/ubuntu1804/x86_64  libcublas10 10.2.0.168-1 [38.9 MB]\n",
      "Get:35 https://developer.download.nvidia.com/compute/cuda/repos/ubuntu1804/x86_64  libcublas-dev 10.2.0.168-1 [39.1 MB]\n",
      "Get:36 https://developer.download.nvidia.com/compute/cuda/repos/ubuntu1804/x86_64  cuda-cufft-10-1 10.1.168-1 [84.6 MB]\n",
      "Get:37 https://developer.download.nvidia.com/compute/cuda/repos/ubuntu1804/x86_64  cuda-cufft-dev-10-1 10.1.168-1 [159 MB]\n",
      "Get:38 https://developer.download.nvidia.com/compute/cuda/repos/ubuntu1804/x86_64  cuda-curand-10-1 10.1.168-1 [38.9 MB]\n",
      "Get:39 https://developer.download.nvidia.com/compute/cuda/repos/ubuntu1804/x86_64  cuda-curand-dev-10-1 10.1.168-1 [58.1 MB]\n",
      "Get:40 https://developer.download.nvidia.com/compute/cuda/repos/ubuntu1804/x86_64  cuda-cusparse-10-1 10.1.168-1 [57.0 MB]\n",
      "Get:41 https://developer.download.nvidia.com/compute/cuda/repos/ubuntu1804/x86_64  cuda-cusparse-dev-10-1 10.1.168-1 [57.4 MB]\n",
      "Get:42 https://developer.download.nvidia.com/compute/cuda/repos/ubuntu1804/x86_64  cuda-npp-10-1 10.1.168-1 [53.8 MB]\n",
      "Get:43 https://developer.download.nvidia.com/compute/cuda/repos/ubuntu1804/x86_64  cuda-npp-dev-10-1 10.1.168-1 [54.7 MB]\n",
      "Get:44 https://developer.download.nvidia.com/compute/cuda/repos/ubuntu1804/x86_64  cuda-nvml-dev-10-1 10.1.168-1 [52.9 kB]\n",
      "Get:45 https://developer.download.nvidia.com/compute/cuda/repos/ubuntu1804/x86_64  cuda-nvjpeg-10-1 10.1.168-1 [1,135 kB]\n",
      "Get:46 https://developer.download.nvidia.com/compute/cuda/repos/ubuntu1804/x86_64  cuda-nvjpeg-dev-10-1 10.1.168-1 [1,069 kB]\n",
      "Get:47 https://developer.download.nvidia.com/compute/cuda/repos/ubuntu1804/x86_64  cuda-nsight-compute-10-1 10.1.168-1 [191 MB]\n",
      "Get:48 https://developer.download.nvidia.com/compute/cuda/repos/ubuntu1804/x86_64  cuda-nsight-systems-10-1 10.1.168-1 [70.3 MB]\n",
      "Get:49 https://developer.download.nvidia.com/compute/cuda/repos/ubuntu1804/x86_64  cuda-nvgraph-10-1 10.1.168-1 [42.3 MB]\n",
      "Get:50 https://developer.download.nvidia.com/compute/cuda/repos/ubuntu1804/x86_64  cuda-nvgraph-dev-10-1 10.1.168-1 [34.2 MB]\n",
      "Get:51 https://developer.download.nvidia.com/compute/cuda/repos/ubuntu1804/x86_64  cuda-visual-tools-10-1 10.1.168-1 [398 MB]\n",
      "Get:52 https://developer.download.nvidia.com/compute/cuda/repos/ubuntu1804/x86_64  cuda-tools-10-1 10.1.168-1 [2,492 B]\n",
      "Get:53 https://developer.download.nvidia.com/compute/cuda/repos/ubuntu1804/x86_64  cuda-samples-10-1 10.1.168-1 [61.1 MB]\n",
      "Get:54 https://developer.download.nvidia.com/compute/cuda/repos/ubuntu1804/x86_64  cuda-documentation-10-1 10.1.168-1 [51.7 MB]\n",
      "Get:55 https://developer.download.nvidia.com/compute/cuda/repos/ubuntu1804/x86_64  cuda-libraries-dev-10-1 10.1.168-1 [2,614 B]\n",
      "Get:56 https://developer.download.nvidia.com/compute/cuda/repos/ubuntu1804/x86_64  cuda-toolkit-10-1 10.1.168-1 [2,828 B]\n",
      "Get:57 https://developer.download.nvidia.com/compute/cuda/repos/ubuntu1804/x86_64  cuda-libraries-10-1 10.1.168-1 [2,586 B]\n",
      "Get:58 https://developer.download.nvidia.com/compute/cuda/repos/ubuntu1804/x86_64  cuda-runtime-10-1 10.1.168-1 [2,530 B]\n",
      "Get:59 https://developer.download.nvidia.com/compute/cuda/repos/ubuntu1804/x86_64  cuda-demo-suite-10-1 10.1.168-1 [3,851 kB]\n",
      "Get:60 https://developer.download.nvidia.com/compute/cuda/repos/ubuntu1804/x86_64  cuda-10-1 10.1.168-1 [2,560 B]\n",
      "Get:61 https://developer.download.nvidia.com/compute/cuda/repos/ubuntu1804/x86_64  cuda 10.1.168-1 [2,512 B]\n",
      "Fetched 1,654 MB in 32s (51.5 MB/s)\n",
      "Extracting templates from packages: 100%\n",
      "Selecting previously unselected package gcc-5-base:amd64.\n",
      "(Reading database ... 131425 files and directories currently installed.)\n",
      "Preparing to unpack .../00-gcc-5-base_5.5.0-12ubuntu1_amd64.deb ...\n",
      "Unpacking gcc-5-base:amd64 (5.5.0-12ubuntu1) ...\n",
      "Selecting previously unselected package libisl15:amd64.\n",
      "Preparing to unpack .../01-libisl15_0.18-4_amd64.deb ...\n",
      "Unpacking libisl15:amd64 (0.18-4) ...\n",
      "Selecting previously unselected package cpp-5.\n",
      "Preparing to unpack .../02-cpp-5_5.5.0-12ubuntu1_amd64.deb ...\n",
      "Unpacking cpp-5 (5.5.0-12ubuntu1) ...\n",
      "Selecting previously unselected package cuda-license-10-1.\n",
      "Preparing to unpack .../03-cuda-license-10-1_10.1.168-1_amd64.deb ...\n",
      "Unpacking cuda-license-10-1 (10.1.168-1) ...\n",
      "Selecting previously unselected package cuda-misc-headers-10-1.\n",
      "Preparing to unpack .../04-cuda-misc-headers-10-1_10.1.168-1_amd64.deb ...\n",
      "Unpacking cuda-misc-headers-10-1 (10.1.168-1) ...\n",
      "Selecting previously unselected package cuda-nvcc-10-1.\n",
      "Preparing to unpack .../05-cuda-nvcc-10-1_10.1.168-1_amd64.deb ...\n",
      "Unpacking cuda-nvcc-10-1 (10.1.168-1) ...\n",
      "Selecting previously unselected package cuda-cuobjdump-10-1.\n",
      "Preparing to unpack .../06-cuda-cuobjdump-10-1_10.1.168-1_amd64.deb ...\n",
      "Unpacking cuda-cuobjdump-10-1 (10.1.168-1) ...\n",
      "Selecting previously unselected package cuda-nvprune-10-1.\n",
      "Preparing to unpack .../07-cuda-nvprune-10-1_10.1.168-1_amd64.deb ...\n",
      "Unpacking cuda-nvprune-10-1 (10.1.168-1) ...\n",
      "Selecting previously unselected package cuda-compiler-10-1.\n",
      "Preparing to unpack .../08-cuda-compiler-10-1_10.1.168-1_amd64.deb ...\n",
      "Unpacking cuda-compiler-10-1 (10.1.168-1) ...\n",
      "Selecting previously unselected package cuda-nvdisasm-10-1.\n",
      "Preparing to unpack .../09-cuda-nvdisasm-10-1_10.1.168-1_amd64.deb ...\n",
      "Unpacking cuda-nvdisasm-10-1 (10.1.168-1) ...\n",
      "Selecting previously unselected package cuda-gdb-10-1.\n",
      "Preparing to unpack .../10-cuda-gdb-10-1_10.1.168-1_amd64.deb ...\n",
      "Unpacking cuda-gdb-10-1 (10.1.168-1) ...\n",
      "Selecting previously unselected package cuda-nvprof-10-1.\n",
      "Preparing to unpack .../11-cuda-nvprof-10-1_10.1.168-1_amd64.deb ...\n",
      "Unpacking cuda-nvprof-10-1 (10.1.168-1) ...\n",
      "Selecting previously unselected package cuda-sanitizer-api-10-1.\n",
      "Preparing to unpack .../12-cuda-sanitizer-api-10-1_10.1.168-1_amd64.deb ...\n",
      "Unpacking cuda-sanitizer-api-10-1 (10.1.168-1) ...\n",
      "Selecting previously unselected package cuda-memcheck-10-1.\n",
      "Preparing to unpack .../13-cuda-memcheck-10-1_10.1.168-1_amd64.deb ...\n",
      "Unpacking cuda-memcheck-10-1 (10.1.168-1) ...\n",
      "Selecting previously unselected package cuda-cudart-10-1.\n",
      "Preparing to unpack .../14-cuda-cudart-10-1_10.1.168-1_amd64.deb ...\n",
      "Unpacking cuda-cudart-10-1 (10.1.168-1) ...\n",
      "Selecting previously unselected package cuda-driver-dev-10-1.\n",
      "Preparing to unpack .../15-cuda-driver-dev-10-1_10.1.168-1_amd64.deb ...\n",
      "Unpacking cuda-driver-dev-10-1 (10.1.168-1) ...\n",
      "Selecting previously unselected package cuda-cudart-dev-10-1.\n",
      "Preparing to unpack .../16-cuda-cudart-dev-10-1_10.1.168-1_amd64.deb ...\n",
      "Unpacking cuda-cudart-dev-10-1 (10.1.168-1) ...\n",
      "Selecting previously unselected package cuda-cupti-10-1.\n",
      "Preparing to unpack .../17-cuda-cupti-10-1_10.1.168-1_amd64.deb ...\n",
      "Unpacking cuda-cupti-10-1 (10.1.168-1) ...\n",
      "Selecting previously unselected package cuda-gpu-library-advisor-10-1.\n",
      "Preparing to unpack .../18-cuda-gpu-library-advisor-10-1_10.1.168-1_amd64.deb ...\n",
      "Unpacking cuda-gpu-library-advisor-10-1 (10.1.168-1) ...\n",
      "Selecting previously unselected package cuda-nvtx-10-1.\n",
      "Preparing to unpack .../19-cuda-nvtx-10-1_10.1.168-1_amd64.deb ...\n",
      "Unpacking cuda-nvtx-10-1 (10.1.168-1) ...\n",
      "Selecting previously unselected package cuda-command-line-tools-10-1.\n",
      "Preparing to unpack .../20-cuda-command-line-tools-10-1_10.1.168-1_amd64.deb ...\n",
      "Unpacking cuda-command-line-tools-10-1 (10.1.168-1) ...\n",
      "Selecting previously unselected package cuda-nsight-10-1.\n",
      "Preparing to unpack .../21-cuda-nsight-10-1_10.1.168-1_amd64.deb ...\n",
      "Unpacking cuda-nsight-10-1 (10.1.168-1) ...\n",
      "Selecting previously unselected package cuda-nvvp-10-1.\n",
      "Preparing to unpack .../22-cuda-nvvp-10-1_10.1.168-1_amd64.deb ...\n",
      "Unpacking cuda-nvvp-10-1 (10.1.168-1) ...\n",
      "Selecting previously unselected package cuda-nvrtc-10-1.\n",
      "Preparing to unpack .../23-cuda-nvrtc-10-1_10.1.168-1_amd64.deb ...\n",
      "Unpacking cuda-nvrtc-10-1 (10.1.168-1) ...\n",
      "Selecting previously unselected package cuda-nvrtc-dev-10-1.\n",
      "Preparing to unpack .../24-cuda-nvrtc-dev-10-1_10.1.168-1_amd64.deb ...\n",
      "Unpacking cuda-nvrtc-dev-10-1 (10.1.168-1) ...\n",
      "Selecting previously unselected package cuda-cusolver-10-1.\n",
      "Preparing to unpack .../25-cuda-cusolver-10-1_10.1.168-1_amd64.deb ...\n",
      "Unpacking cuda-cusolver-10-1 (10.1.168-1) ...\n",
      "Selecting previously unselected package cuda-cusolver-dev-10-1.\n",
      "Preparing to unpack .../26-cuda-cusolver-dev-10-1_10.1.168-1_amd64.deb ...\n",
      "Unpacking cuda-cusolver-dev-10-1 (10.1.168-1) ...\n",
      "Selecting previously unselected package libcublas10.\n",
      "Preparing to unpack .../27-libcublas10_10.2.0.168-1_amd64.deb ...\n",
      "Unpacking libcublas10 (10.2.0.168-1) ...\n",
      "Selecting previously unselected package libcublas-dev.\n",
      "Preparing to unpack .../28-libcublas-dev_10.2.0.168-1_amd64.deb ...\n",
      "Unpacking libcublas-dev (10.2.0.168-1) ...\n",
      "Selecting previously unselected package cuda-cufft-10-1.\n",
      "Preparing to unpack .../29-cuda-cufft-10-1_10.1.168-1_amd64.deb ...\n",
      "Unpacking cuda-cufft-10-1 (10.1.168-1) ...\n",
      "Selecting previously unselected package cuda-cufft-dev-10-1.\n",
      "Preparing to unpack .../30-cuda-cufft-dev-10-1_10.1.168-1_amd64.deb ...\n",
      "Unpacking cuda-cufft-dev-10-1 (10.1.168-1) ...\n",
      "Selecting previously unselected package cuda-curand-10-1.\n",
      "Preparing to unpack .../31-cuda-curand-10-1_10.1.168-1_amd64.deb ...\n",
      "Unpacking cuda-curand-10-1 (10.1.168-1) ...\n",
      "Selecting previously unselected package cuda-curand-dev-10-1.\n",
      "Preparing to unpack .../32-cuda-curand-dev-10-1_10.1.168-1_amd64.deb ...\n",
      "Unpacking cuda-curand-dev-10-1 (10.1.168-1) ...\n",
      "Selecting previously unselected package cuda-cusparse-10-1.\n",
      "Preparing to unpack .../33-cuda-cusparse-10-1_10.1.168-1_amd64.deb ...\n",
      "Unpacking cuda-cusparse-10-1 (10.1.168-1) ...\n",
      "Selecting previously unselected package cuda-cusparse-dev-10-1.\n",
      "Preparing to unpack .../34-cuda-cusparse-dev-10-1_10.1.168-1_amd64.deb ...\n",
      "Unpacking cuda-cusparse-dev-10-1 (10.1.168-1) ...\n",
      "Selecting previously unselected package cuda-npp-10-1.\n",
      "Preparing to unpack .../35-cuda-npp-10-1_10.1.168-1_amd64.deb ...\n",
      "Unpacking cuda-npp-10-1 (10.1.168-1) ...\n",
      "Selecting previously unselected package cuda-npp-dev-10-1.\n",
      "Preparing to unpack .../36-cuda-npp-dev-10-1_10.1.168-1_amd64.deb ...\n",
      "Unpacking cuda-npp-dev-10-1 (10.1.168-1) ...\n",
      "Selecting previously unselected package cuda-nvml-dev-10-1.\n",
      "Preparing to unpack .../37-cuda-nvml-dev-10-1_10.1.168-1_amd64.deb ...\n",
      "Unpacking cuda-nvml-dev-10-1 (10.1.168-1) ...\n",
      "Selecting previously unselected package cuda-nvjpeg-10-1.\n",
      "Preparing to unpack .../38-cuda-nvjpeg-10-1_10.1.168-1_amd64.deb ...\n",
      "Unpacking cuda-nvjpeg-10-1 (10.1.168-1) ...\n",
      "Selecting previously unselected package cuda-nvjpeg-dev-10-1.\n",
      "Preparing to unpack .../39-cuda-nvjpeg-dev-10-1_10.1.168-1_amd64.deb ...\n",
      "Unpacking cuda-nvjpeg-dev-10-1 (10.1.168-1) ...\n",
      "Selecting previously unselected package cuda-nsight-compute-10-1.\n",
      "Preparing to unpack .../40-cuda-nsight-compute-10-1_10.1.168-1_amd64.deb ...\n",
      "Unpacking cuda-nsight-compute-10-1 (10.1.168-1) ...\n",
      "Selecting previously unselected package cuda-nsight-systems-10-1.\n",
      "Preparing to unpack .../41-cuda-nsight-systems-10-1_10.1.168-1_amd64.deb ...\n",
      "Unpacking cuda-nsight-systems-10-1 (10.1.168-1) ...\n",
      "Selecting previously unselected package cuda-nvgraph-10-1.\n",
      "Preparing to unpack .../42-cuda-nvgraph-10-1_10.1.168-1_amd64.deb ...\n",
      "Unpacking cuda-nvgraph-10-1 (10.1.168-1) ...\n",
      "Selecting previously unselected package cuda-nvgraph-dev-10-1.\n",
      "Preparing to unpack .../43-cuda-nvgraph-dev-10-1_10.1.168-1_amd64.deb ...\n",
      "Unpacking cuda-nvgraph-dev-10-1 (10.1.168-1) ...\n",
      "Selecting previously unselected package cuda-visual-tools-10-1.\n",
      "Preparing to unpack .../44-cuda-visual-tools-10-1_10.1.168-1_amd64.deb ...\n",
      "Unpacking cuda-visual-tools-10-1 (10.1.168-1) ...\n",
      "Selecting previously unselected package cuda-tools-10-1.\n",
      "Preparing to unpack .../45-cuda-tools-10-1_10.1.168-1_amd64.deb ...\n",
      "Unpacking cuda-tools-10-1 (10.1.168-1) ...\n",
      "Selecting previously unselected package cuda-samples-10-1.\n",
      "Preparing to unpack .../46-cuda-samples-10-1_10.1.168-1_amd64.deb ...\n",
      "Unpacking cuda-samples-10-1 (10.1.168-1) ...\n",
      "Selecting previously unselected package cuda-documentation-10-1.\n",
      "Preparing to unpack .../47-cuda-documentation-10-1_10.1.168-1_amd64.deb ...\n",
      "Unpacking cuda-documentation-10-1 (10.1.168-1) ...\n",
      "Selecting previously unselected package cuda-libraries-dev-10-1.\n",
      "Preparing to unpack .../48-cuda-libraries-dev-10-1_10.1.168-1_amd64.deb ...\n",
      "Unpacking cuda-libraries-dev-10-1 (10.1.168-1) ...\n",
      "Selecting previously unselected package cuda-toolkit-10-1.\n",
      "Preparing to unpack .../49-cuda-toolkit-10-1_10.1.168-1_amd64.deb ...\n",
      "Unpacking cuda-toolkit-10-1 (10.1.168-1) ...\n",
      "Selecting previously unselected package cuda-libraries-10-1.\n",
      "Preparing to unpack .../50-cuda-libraries-10-1_10.1.168-1_amd64.deb ...\n",
      "Unpacking cuda-libraries-10-1 (10.1.168-1) ...\n",
      "Selecting previously unselected package cuda-runtime-10-1.\n",
      "Preparing to unpack .../51-cuda-runtime-10-1_10.1.168-1_amd64.deb ...\n",
      "Unpacking cuda-runtime-10-1 (10.1.168-1) ...\n",
      "Selecting previously unselected package cuda-demo-suite-10-1.\n",
      "Preparing to unpack .../52-cuda-demo-suite-10-1_10.1.168-1_amd64.deb ...\n",
      "Unpacking cuda-demo-suite-10-1 (10.1.168-1) ...\n",
      "Selecting previously unselected package cuda-10-1.\n",
      "Preparing to unpack .../53-cuda-10-1_10.1.168-1_amd64.deb ...\n",
      "Unpacking cuda-10-1 (10.1.168-1) ...\n",
      "Selecting previously unselected package cuda.\n",
      "Preparing to unpack .../54-cuda_10.1.168-1_amd64.deb ...\n",
      "Unpacking cuda (10.1.168-1) ...\n",
      "Selecting previously unselected package libasan2:amd64.\n",
      "Preparing to unpack .../55-libasan2_5.5.0-12ubuntu1_amd64.deb ...\n",
      "Unpacking libasan2:amd64 (5.5.0-12ubuntu1) ...\n",
      "Selecting previously unselected package libmpx0:amd64.\n",
      "Preparing to unpack .../56-libmpx0_5.5.0-12ubuntu1_amd64.deb ...\n",
      "Unpacking libmpx0:amd64 (5.5.0-12ubuntu1) ...\n",
      "Selecting previously unselected package libgcc-5-dev:amd64.\n",
      "Preparing to unpack .../57-libgcc-5-dev_5.5.0-12ubuntu1_amd64.deb ...\n",
      "Unpacking libgcc-5-dev:amd64 (5.5.0-12ubuntu1) ...\n",
      "Selecting previously unselected package gcc-5.\n",
      "Preparing to unpack .../58-gcc-5_5.5.0-12ubuntu1_amd64.deb ...\n",
      "Unpacking gcc-5 (5.5.0-12ubuntu1) ...\n",
      "Selecting previously unselected package libstdc++-5-dev:amd64.\n",
      "Preparing to unpack .../59-libstdc++-5-dev_5.5.0-12ubuntu1_amd64.deb ...\n",
      "Unpacking libstdc++-5-dev:amd64 (5.5.0-12ubuntu1) ...\n",
      "Selecting previously unselected package g++-5.\n",
      "Preparing to unpack .../60-g++-5_5.5.0-12ubuntu1_amd64.deb ...\n",
      "Unpacking g++-5 (5.5.0-12ubuntu1) ...\n",
      "Setting up cuda-license-10-1 (10.1.168-1) ...\n",
      "*** LICENSE AGREEMENT ***\n",
      "By using this software you agree to fully comply with the terms and \n",
      "conditions of the EULA (End User License Agreement). The EULA is located\n",
      "at /usr/local/cuda-10.1/doc/EULA.txt. The EULA can also be found at\n",
      "http://docs.nvidia.com/cuda/eula/index.html. If you do not agree to the\n",
      "terms and conditions of the EULA, do not use the software.\n",
      "\n",
      "Setting up cuda-cusparse-10-1 (10.1.168-1) ...\n",
      "Setting up cuda-nvjpeg-10-1 (10.1.168-1) ...\n",
      "Setting up cuda-nsight-10-1 (10.1.168-1) ...\n",
      "Setting up cuda-nvdisasm-10-1 (10.1.168-1) ...\n",
      "Setting up cuda-nvml-dev-10-1 (10.1.168-1) ...\n",
      "Setting up cuda-sanitizer-api-10-1 (10.1.168-1) ...\n",
      "Setting up cuda-nvjpeg-dev-10-1 (10.1.168-1) ...\n",
      "Setting up cuda-cufft-10-1 (10.1.168-1) ...\n",
      "Setting up cuda-nvprof-10-1 (10.1.168-1) ...\n",
      "Setting up cuda-nvrtc-10-1 (10.1.168-1) ...\n",
      "Setting up libisl15:amd64 (0.18-4) ...\n",
      "Setting up libcublas10 (10.2.0.168-1) ...\n",
      "Setting up libcublas-dev (10.2.0.168-1) ...\n",
      "Processing triggers for libc-bin (2.27-3ubuntu1) ...\n",
      "Setting up cuda-npp-10-1 (10.1.168-1) ...\n",
      "Setting up cuda-cufft-dev-10-1 (10.1.168-1) ...\n",
      "Processing triggers for man-db (2.8.3-2ubuntu0.1) ...\n",
      "Setting up cuda-nvvp-10-1 (10.1.168-1) ...\n",
      "Setting up cuda-driver-dev-10-1 (10.1.168-1) ...\n",
      "Setting up cuda-cuobjdump-10-1 (10.1.168-1) ...\n",
      "Setting up cuda-nsight-systems-10-1 (10.1.168-1) ...\n",
      "Setting up cuda-gdb-10-1 (10.1.168-1) ...\n",
      "Setting up gcc-5-base:amd64 (5.5.0-12ubuntu1) ...\n",
      "Setting up cuda-nsight-compute-10-1 (10.1.168-1) ...\n",
      "Setting up cuda-cudart-10-1 (10.1.168-1) ...\n",
      "Setting up cuda-npp-dev-10-1 (10.1.168-1) ...\n",
      "Setting up cuda-cusolver-10-1 (10.1.168-1) ...\n",
      "Setting up libmpx0:amd64 (5.5.0-12ubuntu1) ...\n",
      "Setting up cuda-misc-headers-10-1 (10.1.168-1) ...\n",
      "Setting up cuda-nvtx-10-1 (10.1.168-1) ...\n",
      "Setting up cuda-curand-10-1 (10.1.168-1) ...\n",
      "Setting up cuda-cusparse-dev-10-1 (10.1.168-1) ...\n",
      "Setting up cuda-gpu-library-advisor-10-1 (10.1.168-1) ...\n",
      "Setting up cuda-nvgraph-10-1 (10.1.168-1) ...\n",
      "Setting up cuda-nvprune-10-1 (10.1.168-1) ...\n",
      "Setting up cuda-memcheck-10-1 (10.1.168-1) ...\n",
      "Setting up cuda-cudart-dev-10-1 (10.1.168-1) ...\n",
      "Setting up libasan2:amd64 (5.5.0-12ubuntu1) ...\n",
      "Setting up cuda-nvrtc-dev-10-1 (10.1.168-1) ...\n",
      "Setting up cuda-curand-dev-10-1 (10.1.168-1) ...\n",
      "Setting up cuda-cusolver-dev-10-1 (10.1.168-1) ...\n",
      "Setting up libgcc-5-dev:amd64 (5.5.0-12ubuntu1) ...\n",
      "Setting up cpp-5 (5.5.0-12ubuntu1) ...\n",
      "Setting up cuda-nvgraph-dev-10-1 (10.1.168-1) ...\n",
      "Setting up libstdc++-5-dev:amd64 (5.5.0-12ubuntu1) ...\n",
      "Setting up cuda-libraries-10-1 (10.1.168-1) ...\n",
      "Setting up cuda-nvcc-10-1 (10.1.168-1) ...\n",
      "Setting up cuda-runtime-10-1 (10.1.168-1) ...\n",
      "Setting up cuda-compiler-10-1 (10.1.168-1) ...\n",
      "Setting up cuda-demo-suite-10-1 (10.1.168-1) ...\n",
      "Setting up cuda-visual-tools-10-1 (10.1.168-1) ...\n",
      "Setting up cuda-libraries-dev-10-1 (10.1.168-1) ...\n",
      "Setting up gcc-5 (5.5.0-12ubuntu1) ...\n",
      "Setting up g++-5 (5.5.0-12ubuntu1) ...\n",
      "Setting up cuda-samples-10-1 (10.1.168-1) ...\n",
      "Setting up cuda-cupti-10-1 (10.1.168-1) ...\n",
      "Setting up cuda-documentation-10-1 (10.1.168-1) ...\n",
      "Setting up cuda-command-line-tools-10-1 (10.1.168-1) ...\n",
      "Setting up cuda-tools-10-1 (10.1.168-1) ...\n",
      "Setting up cuda-toolkit-10-1 (10.1.168-1) ...\n",
      "Setting up cuda-10-1 (10.1.168-1) ...\n",
      "Setting up cuda (10.1.168-1) ...\n",
      "Processing triggers for libc-bin (2.27-3ubuntu1) ...\n",
      "Reading package lists... Done\n",
      "Building dependency tree       \n",
      "Reading state information... Done\n",
      "Note, selecting 'cuda-8-0' for regex 'cuda-8.0'\n",
      "Note, selecting 'libcuda-8.0-1' for regex 'cuda-8.0'\n",
      "The following package was automatically installed and is no longer required:\n",
      "  libnvidia-common-410\n",
      "Use 'apt autoremove' to remove it.\n",
      "The following additional packages will be installed:\n",
      "  cuda-command-line-tools-8-0 cuda-core-8-0 cuda-cublas-8-0\n",
      "  cuda-cublas-dev-8-0 cuda-cudart-8-0 cuda-cudart-dev-8-0 cuda-cufft-8-0\n",
      "  cuda-cufft-dev-8-0 cuda-curand-8-0 cuda-curand-dev-8-0 cuda-cusolver-8-0\n",
      "  cuda-cusolver-dev-8-0 cuda-cusparse-8-0 cuda-cusparse-dev-8-0\n",
      "  cuda-demo-suite-8-0 cuda-documentation-8-0 cuda-driver-dev-8-0\n",
      "  cuda-license-8-0 cuda-misc-headers-8-0 cuda-npp-8-0 cuda-npp-dev-8-0\n",
      "  cuda-nvgraph-8-0 cuda-nvgraph-dev-8-0 cuda-nvml-dev-8-0 cuda-nvrtc-8-0\n",
      "  cuda-nvrtc-dev-8-0 cuda-runtime-8-0 cuda-samples-8-0 cuda-toolkit-8-0\n",
      "  cuda-visual-tools-8-0\n",
      "The following NEW packages will be installed:\n",
      "  cuda-8-0 cuda-command-line-tools-8-0 cuda-core-8-0 cuda-cublas-8-0\n",
      "  cuda-cublas-dev-8-0 cuda-cudart-8-0 cuda-cudart-dev-8-0 cuda-cufft-8-0\n",
      "  cuda-cufft-dev-8-0 cuda-curand-8-0 cuda-curand-dev-8-0 cuda-cusolver-8-0\n",
      "  cuda-cusolver-dev-8-0 cuda-cusparse-8-0 cuda-cusparse-dev-8-0\n",
      "  cuda-demo-suite-8-0 cuda-documentation-8-0 cuda-driver-dev-8-0\n",
      "  cuda-license-8-0 cuda-misc-headers-8-0 cuda-npp-8-0 cuda-npp-dev-8-0\n",
      "  cuda-nvgraph-8-0 cuda-nvgraph-dev-8-0 cuda-nvml-dev-8-0 cuda-nvrtc-8-0\n",
      "  cuda-nvrtc-dev-8-0 cuda-runtime-8-0 cuda-samples-8-0 cuda-toolkit-8-0\n",
      "  cuda-visual-tools-8-0\n",
      "0 upgraded, 31 newly installed, 0 to remove and 34 not upgraded.\n",
      "Need to get 0 B/1,312 MB of archives.\n",
      "After this operation, 2,079 MB of additional disk space will be used.\n",
      "Get:1 file:/var/cuda-repo-8-0-local-ga2  cuda-license-8-0 8.0.61-1 [27.6 kB]\n",
      "Get:2 file:/var/cuda-repo-8-0-local-ga2  cuda-misc-headers-8-0 8.0.61-1 [1,077 kB]\n",
      "Get:3 file:/var/cuda-repo-8-0-local-ga2  cuda-core-8-0 8.0.61-1 [20.0 MB]\n",
      "Get:4 file:/var/cuda-repo-8-0-local-ga2  cuda-cudart-8-0 8.0.61-1 [135 kB]\n",
      "Get:5 file:/var/cuda-repo-8-0-local-ga2  cuda-driver-dev-8-0 8.0.61-1 [14.1 kB]\n",
      "Get:6 file:/var/cuda-repo-8-0-local-ga2  cuda-cudart-dev-8-0 8.0.61-1 [1,071 kB]\n",
      "Get:7 file:/var/cuda-repo-8-0-local-ga2  cuda-command-line-tools-8-0 8.0.61-1 [26.1 MB]\n",
      "Get:8 file:/var/cuda-repo-8-0-local-ga2  cuda-nvrtc-8-0 8.0.61-1 [9,585 kB]\n",
      "Get:9 file:/var/cuda-repo-8-0-local-ga2  cuda-nvrtc-dev-8-0 8.0.61-1 [10.8 kB]\n",
      "Get:10 file:/var/cuda-repo-8-0-local-ga2  cuda-cusolver-8-0 8.0.61-1 [29.3 MB]\n",
      "Get:11 file:/var/cuda-repo-8-0-local-ga2  cuda-cusolver-dev-8-0 8.0.61-1 [6,816 kB]\n",
      "Get:12 file:/var/cuda-repo-8-0-local-ga2  cuda-cublas-8-0 8.0.61-1 [27.2 MB]\n",
      "Get:13 file:/var/cuda-repo-8-0-local-ga2  cuda-cublas-dev-8-0 8.0.61-1 [57.4 MB]\n",
      "Get:14 file:/var/cuda-repo-8-0-local-ga2  cuda-cufft-8-0 8.0.61-1 [117 MB]\n",
      "Get:15 file:/var/cuda-repo-8-0-local-ga2  cuda-cufft-dev-8-0 8.0.61-1 [94.8 MB]\n",
      "Get:16 file:/var/cuda-repo-8-0-local-ga2  cuda-curand-8-0 8.0.61-1 [43.7 MB]\n",
      "Get:17 file:/var/cuda-repo-8-0-local-ga2  cuda-curand-dev-8-0 8.0.61-1 [67.7 MB]\n",
      "Get:18 file:/var/cuda-repo-8-0-local-ga2  cuda-cusparse-8-0 8.0.61-1 [28.8 MB]\n",
      "Get:19 file:/var/cuda-repo-8-0-local-ga2  cuda-cusparse-dev-8-0 8.0.61-1 [29.6 MB]\n",
      "Get:20 file:/var/cuda-repo-8-0-local-ga2  cuda-npp-8-0 8.0.61-1 [157 MB]\n",
      "Get:21 file:/var/cuda-repo-8-0-local-ga2  cuda-npp-dev-8-0 8.0.61-1 [82.3 MB]\n",
      "Get:22 file:/var/cuda-repo-8-0-local-ga2  cuda-samples-8-0 8.0.61-1 [101 MB]\n",
      "Get:23 file:/var/cuda-repo-8-0-local-ga2  cuda-documentation-8-0 8.0.61-1 [113 MB]\n",
      "Get:24 file:/var/cuda-repo-8-0-local-ga2  cuda-nvml-dev-8-0 8.0.61-1 [48.4 kB]\n",
      "Get:25 file:/var/cuda-repo-8-0-local-ga2  cuda-nvgraph-8-0 8.0.61-1 [2,948 kB]\n",
      "Get:26 file:/var/cuda-repo-8-0-local-ga2  cuda-nvgraph-dev-8-0 8.0.61-1 [3,028 kB]\n",
      "Get:27 file:/var/cuda-repo-8-0-local-ga2  cuda-visual-tools-8-0 8.0.61-1 [286 MB]\n",
      "Get:28 file:/var/cuda-repo-8-0-local-ga2  cuda-toolkit-8-0 8.0.61-1 [2,892 B]\n",
      "Get:29 file:/var/cuda-repo-8-0-local-ga2  cuda-runtime-8-0 8.0.61-1 [2,574 B]\n",
      "Get:30 file:/var/cuda-repo-8-0-local-ga2  cuda-demo-suite-8-0 8.0.61-1 [4,988 kB]\n",
      "Get:31 file:/var/cuda-repo-8-0-local-ga2  cuda-8-0 8.0.61-1 [2,556 B]\n",
      "Extracting templates from packages: 100%\n",
      "Selecting previously unselected package cuda-license-8-0.\n",
      "(Reading database ... 144672 files and directories currently installed.)\n",
      "Preparing to unpack .../00-cuda-license-8-0_8.0.61-1_amd64.deb ...\n",
      "Unpacking cuda-license-8-0 (8.0.61-1) ...\n",
      "Selecting previously unselected package cuda-misc-headers-8-0.\n",
      "Preparing to unpack .../01-cuda-misc-headers-8-0_8.0.61-1_amd64.deb ...\n",
      "Unpacking cuda-misc-headers-8-0 (8.0.61-1) ...\n",
      "Selecting previously unselected package cuda-core-8-0.\n",
      "Preparing to unpack .../02-cuda-core-8-0_8.0.61-1_amd64.deb ...\n",
      "Unpacking cuda-core-8-0 (8.0.61-1) ...\n",
      "Selecting previously unselected package cuda-cudart-8-0.\n",
      "Preparing to unpack .../03-cuda-cudart-8-0_8.0.61-1_amd64.deb ...\n",
      "Unpacking cuda-cudart-8-0 (8.0.61-1) ...\n",
      "Selecting previously unselected package cuda-driver-dev-8-0.\n",
      "Preparing to unpack .../04-cuda-driver-dev-8-0_8.0.61-1_amd64.deb ...\n",
      "Unpacking cuda-driver-dev-8-0 (8.0.61-1) ...\n",
      "Selecting previously unselected package cuda-cudart-dev-8-0.\n",
      "Preparing to unpack .../05-cuda-cudart-dev-8-0_8.0.61-1_amd64.deb ...\n",
      "Unpacking cuda-cudart-dev-8-0 (8.0.61-1) ...\n",
      "Selecting previously unselected package cuda-command-line-tools-8-0.\n",
      "Preparing to unpack .../06-cuda-command-line-tools-8-0_8.0.61-1_amd64.deb ...\n",
      "Unpacking cuda-command-line-tools-8-0 (8.0.61-1) ...\n",
      "Selecting previously unselected package cuda-nvrtc-8-0.\n",
      "Preparing to unpack .../07-cuda-nvrtc-8-0_8.0.61-1_amd64.deb ...\n",
      "Unpacking cuda-nvrtc-8-0 (8.0.61-1) ...\n",
      "Selecting previously unselected package cuda-nvrtc-dev-8-0.\n",
      "Preparing to unpack .../08-cuda-nvrtc-dev-8-0_8.0.61-1_amd64.deb ...\n",
      "Unpacking cuda-nvrtc-dev-8-0 (8.0.61-1) ...\n",
      "Selecting previously unselected package cuda-cusolver-8-0.\n",
      "Preparing to unpack .../09-cuda-cusolver-8-0_8.0.61-1_amd64.deb ...\n",
      "Unpacking cuda-cusolver-8-0 (8.0.61-1) ...\n",
      "Selecting previously unselected package cuda-cusolver-dev-8-0.\n",
      "Preparing to unpack .../10-cuda-cusolver-dev-8-0_8.0.61-1_amd64.deb ...\n",
      "Unpacking cuda-cusolver-dev-8-0 (8.0.61-1) ...\n",
      "Selecting previously unselected package cuda-cublas-8-0.\n",
      "Preparing to unpack .../11-cuda-cublas-8-0_8.0.61-1_amd64.deb ...\n",
      "Unpacking cuda-cublas-8-0 (8.0.61-1) ...\n",
      "Selecting previously unselected package cuda-cublas-dev-8-0.\n",
      "Preparing to unpack .../12-cuda-cublas-dev-8-0_8.0.61-1_amd64.deb ...\n",
      "Unpacking cuda-cublas-dev-8-0 (8.0.61-1) ...\n",
      "Selecting previously unselected package cuda-cufft-8-0.\n",
      "Preparing to unpack .../13-cuda-cufft-8-0_8.0.61-1_amd64.deb ...\n",
      "Unpacking cuda-cufft-8-0 (8.0.61-1) ...\n",
      "Selecting previously unselected package cuda-cufft-dev-8-0.\n",
      "Preparing to unpack .../14-cuda-cufft-dev-8-0_8.0.61-1_amd64.deb ...\n",
      "Unpacking cuda-cufft-dev-8-0 (8.0.61-1) ...\n",
      "Selecting previously unselected package cuda-curand-8-0.\n",
      "Preparing to unpack .../15-cuda-curand-8-0_8.0.61-1_amd64.deb ...\n",
      "Unpacking cuda-curand-8-0 (8.0.61-1) ...\n",
      "Selecting previously unselected package cuda-curand-dev-8-0.\n",
      "Preparing to unpack .../16-cuda-curand-dev-8-0_8.0.61-1_amd64.deb ...\n",
      "Unpacking cuda-curand-dev-8-0 (8.0.61-1) ...\n",
      "Selecting previously unselected package cuda-cusparse-8-0.\n",
      "Preparing to unpack .../17-cuda-cusparse-8-0_8.0.61-1_amd64.deb ...\n",
      "Unpacking cuda-cusparse-8-0 (8.0.61-1) ...\n",
      "Selecting previously unselected package cuda-cusparse-dev-8-0.\n",
      "Preparing to unpack .../18-cuda-cusparse-dev-8-0_8.0.61-1_amd64.deb ...\n",
      "Unpacking cuda-cusparse-dev-8-0 (8.0.61-1) ...\n",
      "Selecting previously unselected package cuda-npp-8-0.\n",
      "Preparing to unpack .../19-cuda-npp-8-0_8.0.61-1_amd64.deb ...\n",
      "Unpacking cuda-npp-8-0 (8.0.61-1) ...\n",
      "Selecting previously unselected package cuda-npp-dev-8-0.\n",
      "Preparing to unpack .../20-cuda-npp-dev-8-0_8.0.61-1_amd64.deb ...\n",
      "Unpacking cuda-npp-dev-8-0 (8.0.61-1) ...\n",
      "Selecting previously unselected package cuda-samples-8-0.\n",
      "Preparing to unpack .../21-cuda-samples-8-0_8.0.61-1_amd64.deb ...\n",
      "Unpacking cuda-samples-8-0 (8.0.61-1) ...\n",
      "Selecting previously unselected package cuda-documentation-8-0.\n",
      "Preparing to unpack .../22-cuda-documentation-8-0_8.0.61-1_amd64.deb ...\n",
      "Unpacking cuda-documentation-8-0 (8.0.61-1) ...\n",
      "Selecting previously unselected package cuda-nvml-dev-8-0.\n",
      "Preparing to unpack .../23-cuda-nvml-dev-8-0_8.0.61-1_amd64.deb ...\n",
      "Unpacking cuda-nvml-dev-8-0 (8.0.61-1) ...\n",
      "Selecting previously unselected package cuda-nvgraph-8-0.\n",
      "Preparing to unpack .../24-cuda-nvgraph-8-0_8.0.61-1_amd64.deb ...\n",
      "Unpacking cuda-nvgraph-8-0 (8.0.61-1) ...\n",
      "Selecting previously unselected package cuda-nvgraph-dev-8-0.\n",
      "Preparing to unpack .../25-cuda-nvgraph-dev-8-0_8.0.61-1_amd64.deb ...\n",
      "Unpacking cuda-nvgraph-dev-8-0 (8.0.61-1) ...\n",
      "Selecting previously unselected package cuda-visual-tools-8-0.\n",
      "Preparing to unpack .../26-cuda-visual-tools-8-0_8.0.61-1_amd64.deb ...\n",
      "Unpacking cuda-visual-tools-8-0 (8.0.61-1) ...\n",
      "Selecting previously unselected package cuda-toolkit-8-0.\n",
      "Preparing to unpack .../27-cuda-toolkit-8-0_8.0.61-1_amd64.deb ...\n",
      "Unpacking cuda-toolkit-8-0 (8.0.61-1) ...\n",
      "Selecting previously unselected package cuda-runtime-8-0.\n",
      "Preparing to unpack .../28-cuda-runtime-8-0_8.0.61-1_amd64.deb ...\n",
      "Unpacking cuda-runtime-8-0 (8.0.61-1) ...\n",
      "Selecting previously unselected package cuda-demo-suite-8-0.\n",
      "Preparing to unpack .../29-cuda-demo-suite-8-0_8.0.61-1_amd64.deb ...\n",
      "Unpacking cuda-demo-suite-8-0 (8.0.61-1) ...\n",
      "Selecting previously unselected package cuda-8-0.\n",
      "Preparing to unpack .../30-cuda-8-0_8.0.61-1_amd64.deb ...\n",
      "Unpacking cuda-8-0 (8.0.61-1) ...\n",
      "Setting up cuda-license-8-0 (8.0.61-1) ...\n",
      "*** LICENSE AGREEMENT ***\n",
      "By using this software you agree to fully comply with the terms and \n",
      "conditions of the EULA (End User License Agreement). The EULA is located\n",
      "at /usr/local/cuda-8.0/doc/EULA.txt. The EULA can also be found at\n",
      "http://docs.nvidia.com/cuda/eula/index.html. If you do not agree to the\n",
      "terms and conditions of the EULA, do not use the software.\n",
      "\n",
      "Setting up cuda-nvgraph-8-0 (8.0.61-1) ...\n",
      "Setting up cuda-cufft-8-0 (8.0.61-1) ...\n",
      "Setting up cuda-npp-8-0 (8.0.61-1) ...\n",
      "Setting up cuda-nvgraph-dev-8-0 (8.0.61-1) ...\n",
      "Setting up cuda-cudart-8-0 (8.0.61-1) ...\n",
      "Setting up cuda-driver-dev-8-0 (8.0.61-1) ...\n",
      "Setting up cuda-cusolver-8-0 (8.0.61-1) ...\n",
      "Setting up cuda-nvml-dev-8-0 (8.0.61-1) ...\n",
      "Setting up cuda-cufft-dev-8-0 (8.0.61-1) ...\n",
      "Setting up cuda-misc-headers-8-0 (8.0.61-1) ...\n",
      "Setting up cuda-cusparse-8-0 (8.0.61-1) ...\n",
      "Setting up cuda-nvrtc-8-0 (8.0.61-1) ...\n",
      "Setting up cuda-nvrtc-dev-8-0 (8.0.61-1) ...\n",
      "Setting up cuda-curand-8-0 (8.0.61-1) ...\n",
      "Setting up cuda-cublas-8-0 (8.0.61-1) ...\n",
      "Setting up cuda-cusolver-dev-8-0 (8.0.61-1) ...\n",
      "Setting up cuda-core-8-0 (8.0.61-1) ...\n",
      "Setting up cuda-curand-dev-8-0 (8.0.61-1) ...\n",
      "Setting up cuda-npp-dev-8-0 (8.0.61-1) ...\n",
      "Setting up cuda-cudart-dev-8-0 (8.0.61-1) ...\n",
      "Setting up cuda-cublas-dev-8-0 (8.0.61-1) ...\n",
      "Setting up cuda-runtime-8-0 (8.0.61-1) ...\n",
      "Setting up cuda-cusparse-dev-8-0 (8.0.61-1) ...\n",
      "Setting up cuda-command-line-tools-8-0 (8.0.61-1) ...\n",
      "Setting up cuda-demo-suite-8-0 (8.0.61-1) ...\n",
      "Setting up cuda-samples-8-0 (8.0.61-1) ...\n",
      "Setting up cuda-visual-tools-8-0 (8.0.61-1) ...\n",
      "Setting up cuda-documentation-8-0 (8.0.61-1) ...\n",
      "Setting up cuda-toolkit-8-0 (8.0.61-1) ...\n",
      "Setting up cuda-8-0 (8.0.61-1) ...\n",
      "Processing triggers for libc-bin (2.27-3ubuntu1) ...\n"
     ]
    }
   ],
   "source": [
    "!wget https://developer.nvidia.com/compute/cuda/8.0/Prod2/local_installers/cuda-repo-ubuntu1604-8-0-local-ga2_8.0.61-1_amd64-deb; #wget downloads a file stored at a url\n",
    "!dpkg -i cuda-repo-ubuntu1604-8-0-local-ga2_8.0.61-1_amd64-deb;\n",
    "!apt-key add /var/cuda-repo-8-0-local-ga2/7fa2af80.pub;\n",
    "!apt-get update;\n",
    "!apt-get install cuda gcc-5 g++-5 -y;\n",
    "!apt install cuda-8.0;"
   ]
  },
  {
   "cell_type": "markdown",
   "metadata": {
    "colab_type": "text",
    "id": "ucWC5oO_U2Kn"
   },
   "source": [
    "## Testing NVCC & CMake Setup"
   ]
  },
  {
   "cell_type": "code",
   "execution_count": 9,
   "metadata": {
    "colab": {
     "base_uri": "https://localhost:8080/",
     "height": 34
    },
    "colab_type": "code",
    "id": "d79Xlrmmm0oP",
    "outputId": "eb86e8b2-6296-4371-9317-027499c49dc1"
   },
   "outputs": [
    {
     "name": "stdout",
     "output_type": "stream",
     "text": [
      "/content/Spike/Build\n"
     ]
    }
   ],
   "source": [
    "cd /content/Spike/Build"
   ]
  },
  {
   "cell_type": "code",
   "execution_count": 10,
   "metadata": {
    "colab": {
     "base_uri": "https://localhost:8080/",
     "height": 50
    },
    "colab_type": "code",
    "id": "N17-uSdbKJLX",
    "outputId": "e757851a-87b5-4de5-b077-49f605d6a476"
   },
   "outputs": [
    {
     "name": "stdout",
     "output_type": "stream",
     "text": [
      "nvcc warning : The 'compute_20', 'sm_20', and 'sm_21' architectures are deprecated, and may be removed in a future release (Use -Wno-deprecated-gpu-targets to suppress warning).\n",
      "nvcc fatal   : No input files specified; use option --help for more information\n"
     ]
    }
   ],
   "source": [
    "!/usr/local/cuda/bin/nvcc #'fatal' message is expected, as no input files given; note that 'NVCC' is NVIDA's compiling tool for CUDA"
   ]
  },
  {
   "cell_type": "code",
   "execution_count": 11,
   "metadata": {
    "colab": {
     "base_uri": "https://localhost:8080/",
     "height": 34
    },
    "colab_type": "code",
    "id": "o-OvKr8dl7bG",
    "outputId": "884ce41d-e305-4eaa-fd67-aa1646152599"
   },
   "outputs": [
    {
     "name": "stdout",
     "output_type": "stream",
     "text": [
      "/content/Spike/Examples\n"
     ]
    }
   ],
   "source": [
    "cd /content/Spike/Examples"
   ]
  },
  {
   "cell_type": "markdown",
   "metadata": {
    "colab_type": "text",
    "id": "HWGn5K4FmV6C"
   },
   "source": [
    "Write dummy Sandbox.cpp file to enable the first run of Cmake; note this file is overwritten later"
   ]
  },
  {
   "cell_type": "code",
   "execution_count": 12,
   "metadata": {
    "colab": {
     "base_uri": "https://localhost:8080/",
     "height": 34
    },
    "colab_type": "code",
    "id": "_bQPfct8Q4PJ",
    "outputId": "a86dc8df-3de6-4e7b-a883-eeab3bd8c635"
   },
   "outputs": [
    {
     "name": "stdout",
     "output_type": "stream",
     "text": [
      "Writing Sandbox.cpp\n"
     ]
    }
   ],
   "source": [
    "%%writefile Sandbox.cpp\n",
    "\n",
    "\n",
    "#include \"Spike/Spike.hpp\"\n",
    "\n",
    "// Dummy Sandbox.cpp file\n",
    "\n",
    "int main (int argc, char *argv[]){\n",
    "\n",
    "  return 0;\n",
    "}"
   ]
  },
  {
   "cell_type": "markdown",
   "metadata": {
    "colab_type": "text",
    "id": "EpbhznLNmaf6"
   },
   "source": [
    "Over-write the original CMakeList taken from the Spike! repository with a reference to Sandbox"
   ]
  },
  {
   "cell_type": "code",
   "execution_count": 13,
   "metadata": {
    "colab": {
     "base_uri": "https://localhost:8080/",
     "height": 34
    },
    "colab_type": "code",
    "id": "liR3dstIRMXd",
    "outputId": "faf70ea2-e91c-48cc-b257-89978ec7f11d"
   },
   "outputs": [
    {
     "name": "stdout",
     "output_type": "stream",
     "text": [
      "Overwriting CMakeLists.txt\n"
     ]
    }
   ],
   "source": [
    "%%writefile CMakeLists.txt\n",
    "\n",
    "foreach(example\n",
    "    VogelsAbbottNet\n",
    "    Brunel10K\n",
    "    SimpleExample\n",
    "    Sandbox\n",
    "    )\n",
    "  add_executable(${example} ${example}.cpp)\n",
    "  target_link_libraries(${example}\n",
    "    Spike\n",
    "  )\n",
    "if (BUILD_WITH_CUDA)\n",
    "    target_link_libraries(${example}\n",
    "      ${CUDA_LIBRARIES}\n",
    "      )\n",
    "    set_target_properties(${experiment} PROPERTIES COMPILE_FLAGS \"-DSPIKE_WITH_CUDA -std=c++11\")\n",
    "  endif()\n",
    "  #target_link_libraries(${example} Spike) # ${OPENCL_LIBRARIES} ${Boost_LIBRARIES})\n",
    "endforeach()"
   ]
  },
  {
   "cell_type": "code",
   "execution_count": 14,
   "metadata": {
    "colab": {
     "base_uri": "https://localhost:8080/",
     "height": 34
    },
    "colab_type": "code",
    "id": "CPxfiRtcm8R3",
    "outputId": "69be1447-d0bc-4d52-9028-ddb47701e20a"
   },
   "outputs": [
    {
     "name": "stdout",
     "output_type": "stream",
     "text": [
      "/content/Spike/Build\n"
     ]
    }
   ],
   "source": [
    "cd /content/Spike/Build/"
   ]
  },
  {
   "cell_type": "code",
   "execution_count": 0,
   "metadata": {
    "colab": {},
    "colab_type": "code",
    "collapsed": true,
    "id": "SCQ7mbjlRMaG"
   },
   "outputs": [],
   "source": [
    "!rm -rf * #rm = remove; r = remove directory and its contents recursively; f = force (do so wihtout prompts)"
   ]
  },
  {
   "cell_type": "code",
   "execution_count": 16,
   "metadata": {
    "colab": {
     "base_uri": "https://localhost:8080/",
     "height": 470
    },
    "colab_type": "code",
    "id": "npiD2CsqVexN",
    "outputId": "9a5d7e9e-bcce-4293-9c45-2e4babbd7ead"
   },
   "outputs": [
    {
     "name": "stdout",
     "output_type": "stream",
     "text": [
      "-- The C compiler identification is GNU 5.5.0\n",
      "-- The CXX compiler identification is GNU 5.5.0\n",
      "-- Check for working C compiler: /usr/bin/gcc-5\n",
      "-- Check for working C compiler: /usr/bin/gcc-5 -- works\n",
      "-- Detecting C compiler ABI info\n",
      "-- Detecting C compiler ABI info - done\n",
      "-- Detecting C compile features\n",
      "-- Detecting C compile features - done\n",
      "-- Check for working CXX compiler: /usr/bin/g++-5\n",
      "-- Check for working CXX compiler: /usr/bin/g++-5 -- works\n",
      "-- Detecting CXX compiler ABI info\n",
      "-- Detecting CXX compiler ABI info - done\n",
      "-- Detecting CXX compile features\n",
      "-- Detecting CXX compile features - done\n",
      "-- Looking for pthread.h\n",
      "-- Looking for pthread.h - found\n",
      "-- Looking for pthread_create\n",
      "-- Looking for pthread_create - not found\n",
      "-- Looking for pthread_create in pthreads\n",
      "-- Looking for pthread_create in pthreads - not found\n",
      "-- Looking for pthread_create in pthread\n",
      "-- Looking for pthread_create in pthread - found\n",
      "-- Found Threads: TRUE  \n",
      "-- Found CUDA: /usr/local/cuda (found version \"8.0\") \n",
      "-- Configuring done\n",
      "-- Generating done\n",
      "-- Build files have been written to: /content/Spike/Build\n"
     ]
    }
   ],
   "source": [
    "!cmake -DCMAKE_CXX_COMPILER=g++-5 -DCMAKE_C_COMPILER=gcc-5 ../"
   ]
  },
  {
   "cell_type": "code",
   "execution_count": 17,
   "metadata": {
    "colab": {
     "base_uri": "https://localhost:8080/",
     "height": 50
    },
    "colab_type": "code",
    "id": "t2bQIU_iKVok",
    "outputId": "ac2da8b9-cf38-417d-c351-08bead28e98a"
   },
   "outputs": [
    {
     "name": "stdout",
     "output_type": "stream",
     "text": [
      "rm: cannot remove '/usr/local/cuda/bin/gcc': No such file or directory\n",
      "rm: cannot remove '/usr/local/cuda/bin/g++': No such file or directory\n"
     ]
    }
   ],
   "source": [
    "!rm /usr/local/cuda/bin/gcc;\n",
    "!rm /usr/local/cuda/bin/g++;\n",
    "!ln -s /usr/bin/gcc-5 /usr/local/cuda/bin/gcc; #ln -s creates a symbolic link, essentially such that if something is queried at a location (which now no longer exists), the link points to a new location\n",
    "!ln -s /usr/bin/g++-5 /usr/local/cuda/bin/g++;"
   ]
  },
  {
   "cell_type": "code",
   "execution_count": 18,
   "metadata": {
    "colab": {
     "base_uri": "https://localhost:8080/",
     "height": 1000
    },
    "colab_type": "code",
    "id": "47wHHoNcVtU3",
    "outputId": "a7606e8d-c826-47fd-de60-dfb32d117f26"
   },
   "outputs": [
    {
     "name": "stdout",
     "output_type": "stream",
     "text": [
      "\u001b[35m\u001b[1mScanning dependencies of target SpikeCUDA\u001b[0m\n",
      "\u001b[35m\u001b[1mScanning dependencies of target SpikeDummy\u001b[0m\n",
      "[  1%] \u001b[34m\u001b[1mBuilding /content/Spike/Spike/Backend/CUDA/Synapses/VoltageSpikingSynapses.cu\u001b[0m\n",
      "[  2%] \u001b[34m\u001b[1mBuilding /content/Spike/Spike/Backend/CUDA/CUDABackend.cu\u001b[0m\n",
      "[  3%] \u001b[34m\u001b[1mBuilding /content/Spike/Spike/Backend/CUDA/Helpers/RandomStateManager.cu\u001b[0m\n",
      "[  4%] \u001b[34m\u001b[1mBuilding /content/Spike/Spike/Backend/CUDA/Helpers/Memory.cu\u001b[0m\n",
      "[  5%] \u001b[34m\u001b[1mBuilding /content/Spike/Spike/Backend/CUDA/ActivityMonitor/SpikingActivityMonitor.cu\u001b[0m\n",
      "[  6%] \u001b[34m\u001b[1mBuilding /content/Spike/Spike/Backend/CUDA/ActivityMonitor/RateActivityMonitor.cu\u001b[0m\n",
      "\u001b[34mBuilding NVCC Device object /content/Spike/Spike/Backend/CUDA/Synapses/VoltageSpikingSynapses.cu\u001b[0m\n",
      "[  7%] \u001b[34m\u001b[1mBuilding /content/Spike/Spike/Backend/CUDA/ActivityMonitor/ActivityMonitor.cu\u001b[0m\n",
      "\u001b[34mBuilding NVCC Device object /content/Spike/Spike/Backend/CUDA/ActivityMonitor/SpikingActivityMonitor.cu\u001b[0m\n",
      "\u001b[34mBuilding NVCC Device object /content/Spike/Spike/Backend/CUDA/Helpers/Memory.cu\u001b[0m\n",
      "\u001b[34mBuilding NVCC Device object /content/Spike/Spike/Backend/CUDA/CUDABackend.cu\u001b[0m\n",
      "\u001b[34mBuilding NVCC Device object /content/Spike/Spike/Backend/CUDA/ActivityMonitor/RateActivityMonitor.cu\u001b[0m\n",
      "\u001b[34mBuilding NVCC Device object /content/Spike/Spike/Backend/CUDA/Helpers/RandomStateManager.cu\u001b[0m\n",
      "\u001b[34mBuilding NVCC Device object /content/Spike/Spike/Backend/CUDA/ActivityMonitor/ActivityMonitor.cu\u001b[0m\n",
      "[  8%] \u001b[32mBuilding CXX object Spike/CMakeFiles/SpikeDummy.dir/Backend/Dummy/ActivityMonitor/ActivityMonitor.cpp.o\u001b[0m\n",
      "[  9%] \u001b[32mBuilding CXX object Spike/CMakeFiles/SpikeDummy.dir/Backend/Dummy/ActivityMonitor/RateActivityMonitor.cpp.o\u001b[0m\n",
      "[ 10%] \u001b[34m\u001b[1mBuilding /content/Spike/Spike/Backend/CUDA/Neurons/GeneratorInputSpikingNeurons.cu\u001b[0m\n",
      "\u001b[34mBuilding NVCC Device object /content/Spike/Spike/Backend/CUDA/Neurons/GeneratorInputSpikingNeurons.cu\u001b[0m\n",
      "[ 12%] \u001b[32mBuilding CXX object Spike/CMakeFiles/SpikeDummy.dir/Backend/Dummy/ActivityMonitor/SpikingActivityMonitor.cpp.o\u001b[0m\n",
      "[ 13%] \u001b[32mBuilding CXX object Spike/CMakeFiles/SpikeDummy.dir/Backend/Dummy/Helpers/Memory.cpp.o\u001b[0m\n",
      "[ 14%] \u001b[32mBuilding CXX object Spike/CMakeFiles/SpikeDummy.dir/Backend/Dummy/Helpers/RandomStateManager.cpp.o\u001b[0m\n",
      "[ 15%] \u001b[34m\u001b[1mBuilding /content/Spike/Spike/Backend/CUDA/Neurons/ImagePoissonInputSpikingNeurons.cu\u001b[0m\n",
      "\u001b[34mBuilding NVCC Device object /content/Spike/Spike/Backend/CUDA/Neurons/ImagePoissonInputSpikingNeurons.cu\u001b[0m\n",
      "[ 16%] \u001b[32mBuilding CXX object Spike/CMakeFiles/SpikeDummy.dir/Backend/Dummy/Neurons/GeneratorInputSpikingNeurons.cpp.o\u001b[0m\n",
      "[ 17%] \u001b[32mBuilding CXX object Spike/CMakeFiles/SpikeDummy.dir/Backend/Dummy/Neurons/ImagePoissonInputSpikingNeurons.cpp.o\u001b[0m\n",
      "[ 18%] \u001b[32mBuilding CXX object Spike/CMakeFiles/SpikeDummy.dir/Backend/Dummy/Neurons/InputSpikingNeurons.cpp.o\u001b[0m\n",
      "[ 19%] \u001b[34m\u001b[1mBuilding /content/Spike/Spike/Backend/CUDA/Neurons/InputSpikingNeurons.cu\u001b[0m\n",
      "\u001b[34mBuilding NVCC Device object /content/Spike/Spike/Backend/CUDA/Neurons/InputSpikingNeurons.cu\u001b[0m\n",
      "[ 20%] \u001b[34m\u001b[1mBuilding /content/Spike/Spike/Backend/CUDA/Neurons/LIFSpikingNeurons.cu\u001b[0m\n",
      "\u001b[34mBuilding NVCC Device object /content/Spike/Spike/Backend/CUDA/Neurons/LIFSpikingNeurons.cu\u001b[0m\n",
      "[ 21%] \u001b[34m\u001b[1mBuilding /content/Spike/Spike/Backend/CUDA/Neurons/Neurons.cu\u001b[0m\n",
      "\u001b[34mBuilding NVCC Device object /content/Spike/Spike/Backend/CUDA/Neurons/Neurons.cu\u001b[0m\n",
      "[ 23%] \u001b[34m\u001b[1mBuilding /content/Spike/Spike/Backend/CUDA/Neurons/PatternedPoissonInputSpikingNeurons.cu\u001b[0m\n",
      "\u001b[34mBuilding NVCC Device object /content/Spike/Spike/Backend/CUDA/Neurons/PatternedPoissonInputSpikingNeurons.cu\u001b[0m\n",
      "[ 24%] \u001b[32mBuilding CXX object Spike/CMakeFiles/SpikeDummy.dir/Backend/Dummy/Neurons/LIFSpikingNeurons.cpp.o\u001b[0m\n",
      "[ 25%] \u001b[34m\u001b[1mBuilding /content/Spike/Spike/Backend/CUDA/Neurons/PoissonInputSpikingNeurons.cu\u001b[0m\n",
      "\u001b[34mBuilding NVCC Device object /content/Spike/Spike/Backend/CUDA/Neurons/PoissonInputSpikingNeurons.cu\u001b[0m\n",
      "[ 26%] \u001b[32mBuilding CXX object Spike/CMakeFiles/SpikeDummy.dir/Backend/Dummy/Neurons/Neurons.cpp.o\u001b[0m\n",
      "[ 27%] \u001b[32mBuilding CXX object Spike/CMakeFiles/SpikeDummy.dir/Backend/Dummy/Neurons/PatternedPoissonInputSpikingNeurons.cpp.o\u001b[0m\n",
      "[ 28%] \u001b[32mBuilding CXX object Spike/CMakeFiles/SpikeDummy.dir/Backend/Dummy/Neurons/PoissonInputSpikingNeurons.cpp.o\u001b[0m\n",
      "[ 29%] \u001b[32mBuilding CXX object Spike/CMakeFiles/SpikeDummy.dir/Backend/Dummy/Neurons/SpikingNeurons.cpp.o\u001b[0m\n",
      "[ 30%] \u001b[32mBuilding CXX object Spike/CMakeFiles/SpikeDummy.dir/Backend/Dummy/Plasticity/CustomSTDPPlasticity.cpp.o\u001b[0m\n",
      "[ 31%] \u001b[34m\u001b[1mBuilding /content/Spike/Spike/Backend/CUDA/Neurons/SpikingNeurons.cu\u001b[0m\n",
      "\u001b[34mBuilding NVCC Device object /content/Spike/Spike/Backend/CUDA/Neurons/SpikingNeurons.cu\u001b[0m\n",
      "[ 32%] \u001b[32mBuilding CXX object Spike/CMakeFiles/SpikeDummy.dir/Backend/Dummy/Plasticity/EvansSTDPPlasticity.cpp.o\u001b[0m\n",
      "[ 34%] \u001b[34m\u001b[1mBuilding /content/Spike/Spike/Backend/CUDA/Plasticity/CustomSTDPPlasticity.cu\u001b[0m\n",
      "\u001b[34mBuilding NVCC Device object /content/Spike/Spike/Backend/CUDA/Plasticity/CustomSTDPPlasticity.cu\u001b[0m\n",
      "[ 35%] \u001b[34m\u001b[1mBuilding /content/Spike/Spike/Backend/CUDA/Plasticity/EvansSTDPPlasticity.cu\u001b[0m\n",
      "\u001b[34mBuilding NVCC Device object /content/Spike/Spike/Backend/CUDA/Plasticity/EvansSTDPPlasticity.cu\u001b[0m\n",
      "[ 36%] \u001b[32mBuilding CXX object Spike/CMakeFiles/SpikeDummy.dir/Backend/Dummy/Plasticity/InhibitorySTDPPlasticity.cpp.o\u001b[0m\n",
      "[ 37%] \u001b[34m\u001b[1mBuilding /content/Spike/Spike/Backend/CUDA/Plasticity/InhibitorySTDPPlasticity.cu\u001b[0m\n",
      "\u001b[34mBuilding NVCC Device object /content/Spike/Spike/Backend/CUDA/Plasticity/InhibitorySTDPPlasticity.cu\u001b[0m\n",
      "[ 38%] \u001b[32mBuilding CXX object Spike/CMakeFiles/SpikeDummy.dir/Backend/Dummy/Plasticity/Plasticity.cpp.o\u001b[0m\n",
      "[ 39%] \u001b[34m\u001b[1mBuilding /content/Spike/Spike/Backend/CUDA/Plasticity/Plasticity.cu\u001b[0m\n",
      "\u001b[34mBuilding NVCC Device object /content/Spike/Spike/Backend/CUDA/Plasticity/Plasticity.cu\u001b[0m\n",
      "[ 40%] \u001b[32mBuilding CXX object Spike/CMakeFiles/SpikeDummy.dir/Backend/Dummy/Plasticity/STDPPlasticity.cpp.o\u001b[0m\n",
      "[ 41%] \u001b[34m\u001b[1mBuilding /content/Spike/Spike/Backend/CUDA/Plasticity/STDPPlasticity.cu\u001b[0m\n",
      "\u001b[34mBuilding NVCC Device object /content/Spike/Spike/Backend/CUDA/Plasticity/STDPPlasticity.cu\u001b[0m\n",
      "[ 42%] \u001b[34m\u001b[1mBuilding /content/Spike/Spike/Backend/CUDA/Plasticity/WeightDependentSTDPPlasticity.cu\u001b[0m\n",
      "\u001b[34mBuilding NVCC Device object /content/Spike/Spike/Backend/CUDA/Plasticity/WeightDependentSTDPPlasticity.cu\u001b[0m\n",
      "[ 43%] \u001b[32mBuilding CXX object Spike/CMakeFiles/SpikeDummy.dir/Backend/Dummy/Plasticity/WeightDependentSTDPPlasticity.cpp.o\u001b[0m\n",
      "[ 45%] \u001b[32mBuilding CXX object Spike/CMakeFiles/SpikeDummy.dir/Backend/Dummy/Plasticity/WeightNormSTDPPlasticity.cpp.o\u001b[0m\n",
      "[ 46%] \u001b[34m\u001b[1mBuilding /content/Spike/Spike/Backend/CUDA/Plasticity/WeightNormSTDPPlasticity.cu\u001b[0m\n",
      "\u001b[34mBuilding NVCC Device object /content/Spike/Spike/Backend/CUDA/Plasticity/WeightNormSTDPPlasticity.cu\u001b[0m\n",
      "/content/Spike/Spike/Backend/CUDA/Plasticity/WeightDependentSTDPPlasticity.cu(103): warning: variable \"pre_bitbuffer\" was declared but never referenced\n",
      "\n",
      "/content/Spike/Spike/Backend/CUDA/Plasticity/WeightDependentSTDPPlasticity.cu(86): warning: variable \"bufsize\" was declared but never referenced\n",
      "\n",
      "[ 47%] \u001b[32mBuilding CXX object Spike/CMakeFiles/SpikeDummy.dir/Backend/Dummy/Synapses/ConductanceSpikingSynapses.cpp.o\u001b[0m\n",
      "[ 48%] \u001b[32mBuilding CXX object Spike/CMakeFiles/SpikeDummy.dir/Backend/Dummy/Synapses/CurrentSpikingSynapses.cpp.o\u001b[0m\n",
      "[ 49%] \u001b[34m\u001b[1mBuilding /content/Spike/Spike/Backend/CUDA/Synapses/ConductanceSpikingSynapses.cu\u001b[0m\n",
      "\u001b[34mBuilding NVCC Device object /content/Spike/Spike/Backend/CUDA/Synapses/ConductanceSpikingSynapses.cu\u001b[0m\n",
      "/content/Spike/Spike/Backend/CUDA/Plasticity/WeightDependentSTDPPlasticity.cu(103): warning: variable \"pre_bitbuffer\" was declared but never referenced\n",
      "\n",
      "/content/Spike/Spike/Backend/CUDA/Plasticity/WeightDependentSTDPPlasticity.cu(86): warning: variable \"bufsize\" was declared but never referenced\n",
      "\n",
      "[ 50%] \u001b[32mBuilding CXX object Spike/CMakeFiles/SpikeDummy.dir/Backend/Dummy/Synapses/SpikingSynapses.cpp.o\u001b[0m\n",
      "[ 51%] \u001b[32mBuilding CXX object Spike/CMakeFiles/SpikeDummy.dir/Backend/Dummy/Synapses/Synapses.cpp.o\u001b[0m\n",
      "[ 52%] \u001b[34m\u001b[1mBuilding /content/Spike/Spike/Backend/CUDA/Synapses/CurrentSpikingSynapses.cu\u001b[0m\n",
      "\u001b[34mBuilding NVCC Device object /content/Spike/Spike/Backend/CUDA/Synapses/CurrentSpikingSynapses.cu\u001b[0m\n",
      "[ 53%] \u001b[34m\u001b[1mBuilding /content/Spike/Spike/Backend/CUDA/Synapses/SpikingSynapses.cu\u001b[0m\n",
      "\u001b[34mBuilding NVCC Device object /content/Spike/Spike/Backend/CUDA/Synapses/SpikingSynapses.cu\u001b[0m\n",
      "[ 54%] \u001b[32mBuilding CXX object Spike/CMakeFiles/SpikeDummy.dir/Backend/Dummy/Synapses/VoltageSpikingSynapses.cpp.o\u001b[0m\n",
      "[ 56%] \u001b[34m\u001b[1mBuilding /content/Spike/Spike/Backend/CUDA/Synapses/Synapses.cu\u001b[0m\n",
      "\u001b[34mBuilding NVCC Device object /content/Spike/Spike/Backend/CUDA/Synapses/Synapses.cu\u001b[0m\n",
      "[ 57%] \u001b[32m\u001b[1mLinking CXX static library libSpikeDummy.a\u001b[0m\n",
      "[ 57%] Built target SpikeDummy\n",
      "[ 58%] \u001b[34m\u001b[1mLinking SpikeCUDA\u001b[0m\n",
      "\u001b[31mLinking CXX executable SpikeCUDA\u001b[0m\n",
      "nvlink warning : Function '_ZN7Backend4CUDA44conductance_spiking_current_injection_kernelEPNS0_28spiking_synapses_data_structEPNS0_27spiking_neurons_data_structEffffii' has address taken but no possible call to it\n",
      "nvlink warning : Function '_ZN7Backend4CUDA40current_spiking_current_injection_kernelEPNS0_28spiking_synapses_data_structEPNS0_27spiking_neurons_data_structEffffii' has address taken but no possible call to it\n",
      "nvlink warning : Function '_ZN7Backend4CUDA32spiking_current_injection_kernelEPNS0_28spiking_synapses_data_structEPNS0_27spiking_neurons_data_structEffffii' has address taken but no possible call to it\n",
      "nvlink warning : Function '_ZN7Backend4CUDA19get_active_synapsesEPNS0_28spiking_synapses_data_structEPNS0_27spiking_neurons_data_structEiiib' has address taken but no possible call to it\n",
      "nvlink warning : Function '_ZN7Backend4CUDA40voltage_spiking_current_injection_kernelEPNS0_28spiking_synapses_data_structEPNS0_27spiking_neurons_data_structEffffii' has address taken but no possible call to it\n",
      "[ 58%] Built target SpikeCUDA\n",
      "\u001b[35m\u001b[1mScanning dependencies of target Spike\u001b[0m\n",
      "[ 59%] \u001b[32mBuilding CXX object Spike/CMakeFiles/Spike.dir/ActivityMonitor/ActivityMonitor.cpp.o\u001b[0m\n",
      "[ 60%] \u001b[32mBuilding CXX object Spike/CMakeFiles/Spike.dir/Helpers/Memory.cpp.o\u001b[0m\n",
      "[ 61%] \u001b[32mBuilding CXX object Spike/CMakeFiles/Spike.dir/Helpers/FstreamWrapper.cpp.o\u001b[0m\n",
      "[ 62%] \u001b[32mBuilding CXX object Spike/CMakeFiles/Spike.dir/ActivityMonitor/SpikingActivityMonitor.cpp.o\u001b[0m\n",
      "[ 63%] \u001b[32mBuilding CXX object Spike/CMakeFiles/Spike.dir/ActivityMonitor/RateActivityMonitor.cpp.o\u001b[0m\n",
      "[ 64%] \u001b[32mBuilding CXX object Spike/CMakeFiles/Spike.dir/Helpers/TimerWithMessages.cpp.o\u001b[0m\n",
      "[ 65%] \u001b[32mBuilding CXX object Spike/CMakeFiles/Spike.dir/Backend/Context.cpp.o\u001b[0m\n",
      "[ 67%] \u001b[32mBuilding CXX object Spike/CMakeFiles/Spike.dir/Helpers/RandomStateManager.cpp.o\u001b[0m\n",
      "[ 68%] \u001b[32mBuilding CXX object Spike/CMakeFiles/Spike.dir/Models/SpikingModel.cpp.o\u001b[0m\n",
      "[ 69%] \u001b[32mBuilding CXX object Spike/CMakeFiles/Spike.dir/Neurons/GeneratorInputSpikingNeurons.cpp.o\u001b[0m\n",
      "[ 70%] \u001b[32mBuilding CXX object Spike/CMakeFiles/Spike.dir/Neurons/ImagePoissonInputSpikingNeurons.cpp.o\u001b[0m\n",
      "[ 71%] \u001b[32mBuilding CXX object Spike/CMakeFiles/Spike.dir/Neurons/InputSpikingNeurons.cpp.o\u001b[0m\n",
      "[ 72%] \u001b[32mBuilding CXX object Spike/CMakeFiles/Spike.dir/Neurons/LIFSpikingNeurons.cpp.o\u001b[0m\n",
      "[ 73%] \u001b[32mBuilding CXX object Spike/CMakeFiles/Spike.dir/Neurons/Neurons.cpp.o\u001b[0m\n",
      "[ 74%] \u001b[32mBuilding CXX object Spike/CMakeFiles/Spike.dir/Neurons/PatternedPoissonInputSpikingNeurons.cpp.o\u001b[0m\n",
      "[ 75%] \u001b[32mBuilding CXX object Spike/CMakeFiles/Spike.dir/Neurons/PoissonInputSpikingNeurons.cpp.o\u001b[0m\n",
      "[ 76%] \u001b[32mBuilding CXX object Spike/CMakeFiles/Spike.dir/Neurons/SpikingNeurons.cpp.o\u001b[0m\n",
      "[ 78%] \u001b[32mBuilding CXX object Spike/CMakeFiles/Spike.dir/Plasticity/CustomSTDPPlasticity.cpp.o\u001b[0m\n",
      "[ 79%] \u001b[32mBuilding CXX object Spike/CMakeFiles/Spike.dir/Plasticity/EvansSTDPPlasticity.cpp.o\u001b[0m\n",
      "[ 80%] \u001b[32mBuilding CXX object Spike/CMakeFiles/Spike.dir/Plasticity/InhibitorySTDPPlasticity.cpp.o\u001b[0m\n",
      "[ 81%] \u001b[32mBuilding CXX object Spike/CMakeFiles/Spike.dir/Plasticity/Plasticity.cpp.o\u001b[0m\n",
      "[ 82%] \u001b[32mBuilding CXX object Spike/CMakeFiles/Spike.dir/Plasticity/STDPPlasticity.cpp.o\u001b[0m\n",
      "[ 83%] \u001b[32mBuilding CXX object Spike/CMakeFiles/Spike.dir/Plasticity/WeightDependentSTDPPlasticity.cpp.o\u001b[0m\n",
      "[ 84%] \u001b[32mBuilding CXX object Spike/CMakeFiles/Spike.dir/Plasticity/WeightNormSTDPPlasticity.cpp.o\u001b[0m\n",
      "[ 85%] \u001b[32mBuilding CXX object Spike/CMakeFiles/Spike.dir/Synapses/ConductanceSpikingSynapses.cpp.o\u001b[0m\n",
      "[ 86%] \u001b[32mBuilding CXX object Spike/CMakeFiles/Spike.dir/Synapses/CurrentSpikingSynapses.cpp.o\u001b[0m\n",
      "[ 87%] \u001b[32mBuilding CXX object Spike/CMakeFiles/Spike.dir/Synapses/SpikingSynapses.cpp.o\u001b[0m\n",
      "[ 89%] \u001b[32mBuilding CXX object Spike/CMakeFiles/Spike.dir/Synapses/Synapses.cpp.o\u001b[0m\n",
      "[ 90%] \u001b[32mBuilding CXX object Spike/CMakeFiles/Spike.dir/Synapses/VoltageSpikingSynapses.cpp.o\u001b[0m\n",
      "[ 91%] \u001b[32m\u001b[1mLinking CXX shared library libSpike.so\u001b[0m\n",
      "[ 91%] Built target Spike\n",
      "\u001b[35m\u001b[1mScanning dependencies of target Brunel10K\u001b[0m\n",
      "\u001b[35m\u001b[1mScanning dependencies of target Sandbox\u001b[0m\n",
      "\u001b[35m\u001b[1mScanning dependencies of target SimpleExample\u001b[0m\n",
      "\u001b[35m\u001b[1mScanning dependencies of target VogelsAbbottNet\u001b[0m\n",
      "[ 92%] \u001b[32mBuilding CXX object Examples/CMakeFiles/Brunel10K.dir/Brunel10K.cpp.o\u001b[0m\n",
      "[ 93%] \u001b[32mBuilding CXX object Examples/CMakeFiles/SimpleExample.dir/SimpleExample.cpp.o\u001b[0m\n",
      "[ 94%] \u001b[32mBuilding CXX object Examples/CMakeFiles/Sandbox.dir/Sandbox.cpp.o\u001b[0m\n",
      "[ 95%] \u001b[32mBuilding CXX object Examples/CMakeFiles/VogelsAbbottNet.dir/VogelsAbbottNet.cpp.o\u001b[0m\n",
      "[ 96%] \u001b[32m\u001b[1mLinking CXX executable Sandbox\u001b[0m\n",
      "[ 96%] Built target Sandbox\n",
      "[ 97%] \u001b[32m\u001b[1mLinking CXX executable SimpleExample\u001b[0m\n",
      "[ 98%] \u001b[32m\u001b[1mLinking CXX executable Brunel10K\u001b[0m\n",
      "[ 98%] Built target SimpleExample\n",
      "[100%] \u001b[32m\u001b[1mLinking CXX executable VogelsAbbottNet\u001b[0m\n",
      "[100%] Built target Brunel10K\n",
      "[100%] Built target VogelsAbbottNet\n"
     ]
    }
   ],
   "source": [
    "!make -j8 #j8 specifies that 8 jobs should be simultaneously execuded by the makefile"
   ]
  },
  {
   "cell_type": "code",
   "execution_count": 0,
   "metadata": {
    "colab": {},
    "colab_type": "code",
    "collapsed": true,
    "id": "L7JQZwSM13XL"
   },
   "outputs": [],
   "source": [
    "import numpy as np\n",
    "import pandas as pd #Pandas has multiple functions, including providing 'data_frame' objects that can be used for visualizing and analyzing data\n",
    "from matplotlib import pyplot as plt\n",
    "\n",
    "%matplotlib inline \n",
    "# 'percentage sign' matplotlib is a 'magic function' in Colab that enables the outputs of matplotlib to the command line, including figures"
   ]
  },
  {
   "cell_type": "markdown",
   "metadata": {
    "colab_type": "text",
    "id": "lw6tUAf48-53"
   },
   "source": [
    "# Sandbox"
   ]
  },
  {
   "cell_type": "markdown",
   "metadata": {
    "colab_type": "text",
    "id": "1mCv2w8X6SlK"
   },
   "source": [
    "## Edit and Compile Sandbox.cpp"
   ]
  },
  {
   "cell_type": "markdown",
   "metadata": {
    "colab_type": "text",
    "id": "bTnDFapKtwqD"
   },
   "source": [
    "Everytime you want to edit Sandbox.cpp, make sure to change directory with the command below before executing the writefile command. If you forget to do this, a new .cpp file will be created in the wrong directory."
   ]
  },
  {
   "cell_type": "code",
   "execution_count": 20,
   "metadata": {
    "colab": {
     "base_uri": "https://localhost:8080/",
     "height": 34
    },
    "colab_type": "code",
    "id": "Jc5kVe9ziHe3",
    "outputId": "1c7f0513-6830-4bc2-b93d-9a0fa70e6d3b"
   },
   "outputs": [
    {
     "name": "stdout",
     "output_type": "stream",
     "text": [
      "/content/Spike/Examples\n"
     ]
    }
   ],
   "source": [
    "cd /content/Spike/Examples"
   ]
  },
  {
   "cell_type": "markdown",
   "metadata": {
    "colab_type": "text",
    "id": "JtXBL2B9o_Wk"
   },
   "source": [
    "Over-write the Sandbox.cpp file with the desired code. All code must be inserted below the ''%%writefile Sandbox.cpp' line"
   ]
  },
  {
   "cell_type": "code",
   "execution_count": 21,
   "metadata": {
    "colab": {
     "base_uri": "https://localhost:8080/",
     "height": 34
    },
    "colab_type": "code",
    "id": "KUIvoIYrZWP5",
    "outputId": "2d39f96a-dafd-4504-f58b-46c8f7414be1"
   },
   "outputs": [
    {
     "name": "stdout",
     "output_type": "stream",
     "text": [
      "Overwriting Sandbox.cpp\n"
     ]
    }
   ],
   "source": [
    "%%writefile Sandbox.cpp\n",
    "\n",
    "\n",
    "\n",
    "#include \"Spike/Spike.hpp\"\n",
    "\n",
    "// The function which will autorun when the executable is created\n",
    "int main (int argc, char *argv[]){\n",
    "\n",
    "  /*\n",
    "      CHOOSE THE COMPONENTS OF YOUR SIMULATION\n",
    "  */\n",
    "\n",
    "  // Create an instance of the Model\n",
    "  SpikingModel* ExampleModel = new SpikingModel();\n",
    "    \n",
    "\n",
    "  // Set up the simulator with a timestep at which the neuron, synapse and STDP properties will be calculated \n",
    "  float timestep = 0.0001;  // In seconds\n",
    "  ExampleModel->SetTimestep(timestep);\n",
    "\n",
    "\n",
    "  // Choose an input neuron type\n",
    "  GeneratorInputSpikingNeurons* generator_input_neurons = new GeneratorInputSpikingNeurons();\n",
    "  // PoissonInputSpikingNeurons* input neurons = new PoissonInputSpikingNeurons();\n",
    "\n",
    "  // Choose your neuron type\n",
    "  LIFSpikingNeurons* lif_spiking_neurons = new LIFSpikingNeurons();\n",
    "\n",
    "  // Choose your synapse type\n",
    "  ConductanceSpikingSynapses * conductance_spiking_synapses = new ConductanceSpikingSynapses();\n",
    "  // VoltageSpikingSynapses * voltage_spiking_synapses = new VoltageSpikingSynapses();\n",
    "  // CurrentSpikingSynapses * current_spiking_synapses = new CurrentSpikingSynapses();\n",
    "\n",
    "  // Allocate your chosen components to the simulator\n",
    "  ExampleModel->input_spiking_neurons = generator_input_neurons;\n",
    "  ExampleModel->spiking_neurons = lif_spiking_neurons;\n",
    "  ExampleModel->spiking_synapses = conductance_spiking_synapses;\n",
    "\n",
    "  /*\n",
    "      ADD ANY ACTIVITY MONITORS OR PLASTICITY RULES YOU WISH FOR \n",
    "  */\n",
    "  SpikingActivityMonitor* spike_monitor = new SpikingActivityMonitor(lif_spiking_neurons);\n",
    "  SpikingActivityMonitor* input_spike_monitor = new SpikingActivityMonitor(generator_input_neurons);\n",
    "  ExampleModel->AddActivityMonitor(spike_monitor);\n",
    "  ExampleModel->AddActivityMonitor(input_spike_monitor);\n",
    "\n",
    "  /*\n",
    "      SETUP PROPERTIES AND CREATE NETWORK:\n",
    "    \n",
    "    Note: \n",
    "    All Neuron, Synapse and STDP types have associated parameters structures.\n",
    "    These structures are defined in the header file for that class and allow us to set properties.\n",
    "  */\n",
    "\n",
    "  // SETTING UP INPUT NEURONS\n",
    "  // Creating an input neuron parameter structure\n",
    "  generator_input_spiking_neuron_parameters_struct* input_neuron_params = new generator_input_spiking_neuron_parameters_struct();\n",
    "  // Setting the dimensions of the input neuron layer\n",
    "  input_neuron_params->group_shape[0] = 1;    // x-dimension of the input neuron layer\n",
    "  input_neuron_params->group_shape[1] = 10;   // y-dimension of the input neuron layer\n",
    "  // Create a group of input neurons. This function returns the ID of the input neuron group\n",
    "  int input_layer_ID = ExampleModel->AddInputNeuronGroup(input_neuron_params);\n",
    "\n",
    "  // SETTING UP NEURON GROUPS\n",
    "  // Creating an LIF parameter structure for an excitatory neuron population and an inhibitory\n",
    "  // 1 x 100 Layer\n",
    "  lif_spiking_neuron_parameters_struct * excitatory_population_params = new lif_spiking_neuron_parameters_struct();\n",
    "  excitatory_population_params->group_shape[0] = 1;\n",
    "  excitatory_population_params->group_shape[1] = 100;\n",
    "  excitatory_population_params->resting_potential_v0 = -0.074f;\n",
    "  excitatory_population_params->threshold_for_action_potential_spike = -0.053f;\n",
    "  excitatory_population_params->somatic_capacitance_Cm = 500.0*pow(10, -12);\n",
    "  excitatory_population_params->somatic_leakage_conductance_g0 = 25.0*pow(10, -9);\n",
    "\n",
    "  lif_spiking_neuron_parameters_struct * inhibitory_population_params = new lif_spiking_neuron_parameters_struct();\n",
    "  inhibitory_population_params->group_shape[0] = 1;\n",
    "  inhibitory_population_params->group_shape[1] = 100;\n",
    "  inhibitory_population_params->resting_potential_v0 = -0.082f;\n",
    "  inhibitory_population_params->threshold_for_action_potential_spike = -0.053f;\n",
    "  inhibitory_population_params->somatic_capacitance_Cm = 214.0*pow(10, -12);\n",
    "  inhibitory_population_params->somatic_leakage_conductance_g0 = 18.0*pow(10, -9);\n",
    "\n",
    "  // Create populations of excitatory and inhibitory neurons\n",
    "  int excitatory_neuron_layer_ID = ExampleModel->AddNeuronGroup(excitatory_population_params);\n",
    "  int inhibitory_neuron_layer_ID = ExampleModel->AddNeuronGroup(inhibitory_population_params);\n",
    "\n",
    "\n",
    "  // SETTING UP SYNAPSES\n",
    "  // Creating a synapses parameter structure for connections from the input neurons to the excitatory neurons\n",
    "  conductance_spiking_synapse_parameters_struct* input_to_excitatory_parameters = new conductance_spiking_synapse_parameters_struct();\n",
    "  input_to_excitatory_parameters->weight_range[0] = 0.5f;   // Create uniform distributions of weights [0.5, 10.0]\n",
    "  input_to_excitatory_parameters->weight_range[1] = 10.0f;\n",
    "  input_to_excitatory_parameters->weight_scaling_constant = excitatory_population_params->somatic_leakage_conductance_g0;\n",
    "  input_to_excitatory_parameters->delay_range[0] = 8*timestep;    // Create uniform distributions of delays [1 timestep, 5 timesteps]\n",
    "  input_to_excitatory_parameters->delay_range[1] = 8*timestep;\n",
    "  // The connectivity types for synapses include:\n",
    "    // CONNECTIVITY_TYPE_ALL_TO_ALL\n",
    "    // CONNECTIVITY_TYPE_ONE_TO_ONE\n",
    "    // CONNECTIVITY_TYPE_RANDOM\n",
    "    // CONNECTIVITY_TYPE_PAIRWISE\n",
    "  input_to_excitatory_parameters->connectivity_type = CONNECTIVITY_TYPE_ALL_TO_ALL;\n",
    "  //input_to_excitatory_parameters->plasticity_vec.push_back(STDP_RULE);\n",
    "\n",
    "  // Creating a set of synapse parameters for connections from the excitatory neurons to the inhibitory neurons\n",
    "  conductance_spiking_synapse_parameters_struct * excitatory_to_inhibitory_parameters = new conductance_spiking_synapse_parameters_struct();\n",
    "  excitatory_to_inhibitory_parameters->weight_range[0] = 10.0f;\n",
    "  excitatory_to_inhibitory_parameters->weight_range[1] = 10.0f;\n",
    "  excitatory_to_inhibitory_parameters->weight_scaling_constant = inhibitory_population_params->somatic_leakage_conductance_g0;\n",
    "  excitatory_to_inhibitory_parameters->delay_range[0] = 5.0*timestep;\n",
    "  excitatory_to_inhibitory_parameters->delay_range[1] = 3.0f*pow(10, -3);\n",
    "  excitatory_to_inhibitory_parameters->connectivity_type = CONNECTIVITY_TYPE_ONE_TO_ONE;\n",
    "\n",
    "  // Creating a set of synapse parameters from the inhibitory neurons to the excitatory neurons\n",
    "  conductance_spiking_synapse_parameters_struct * inhibitory_to_excitatory_parameters = new conductance_spiking_synapse_parameters_struct();\n",
    "  inhibitory_to_excitatory_parameters->weight_range[0] = -5.0f;\n",
    "  inhibitory_to_excitatory_parameters->weight_range[1] = -2.5f;\n",
    "  inhibitory_to_excitatory_parameters->weight_scaling_constant = excitatory_population_params->somatic_leakage_conductance_g0;\n",
    "  inhibitory_to_excitatory_parameters->delay_range[0] = 5.0*timestep;\n",
    "  inhibitory_to_excitatory_parameters->delay_range[1] = 3.0f*pow(10, -3);\n",
    "  inhibitory_to_excitatory_parameters->connectivity_type = CONNECTIVITY_TYPE_ALL_TO_ALL;\n",
    "  \n",
    "\n",
    "  // CREATING SYNAPSES\n",
    "  // When creating synapses, the ids of the presynaptic and postsynaptic populations are all that are required\n",
    "  // Note: Input neuron populations cannot be post-synaptic on any synapse\n",
    "  ExampleModel->AddSynapseGroup(input_layer_ID, excitatory_neuron_layer_ID, input_to_excitatory_parameters);\n",
    "  ExampleModel->AddSynapseGroup(excitatory_neuron_layer_ID, inhibitory_neuron_layer_ID, excitatory_to_inhibitory_parameters);\n",
    "  ExampleModel->AddSynapseGroup(inhibitory_neuron_layer_ID, excitatory_neuron_layer_ID, inhibitory_to_excitatory_parameters);\n",
    "\n",
    "\n",
    "  /*\n",
    "      ADD INPUT STIMULI TO THE GENERATOR NEURONS CLASS\n",
    "  */\n",
    "  // We can now assign a set of spike times to neurons in the input layer\n",
    "  int s1_num_spikes = 5;\n",
    "  int s1_neuron_ids[5] = {0, 1, 3, 6, 7};\n",
    "  float s1_spike_times[5] = {0.1f, 0.3f, 0.2f, 0.5f, 0.9f};\n",
    "  // Adding this stimulus to the input neurons\n",
    "  int first_stimulus = generator_input_neurons->add_stimulus(s1_num_spikes, s1_neuron_ids, s1_spike_times);\n",
    "  // Creating a second stimulus\n",
    "  int s2_num_spikes = 5;\n",
    "  int s2_neuron_ids[5] = {2, 5, 9, 8, 0};\n",
    "  float s2_spike_times[5] = {5.01f, 6.9f, 7.2f, 8.5f, 9.9f};\n",
    "  int second_stimulus = generator_input_neurons->add_stimulus(s2_num_spikes, s2_neuron_ids, s2_spike_times);\n",
    "  \n",
    "\n",
    "\n",
    "  /*\n",
    "      RUN THE SIMULATION\n",
    "  */\n",
    "\n",
    "  // The only argument to run is the number of seconds\n",
    "  ExampleModel->finalise_model();\n",
    "  float simtime = 50.0f;\n",
    "  generator_input_neurons->select_stimulus(first_stimulus);\n",
    "  ExampleModel->run(simtime);\n",
    "\n",
    "  generator_input_neurons->select_stimulus(second_stimulus);\n",
    "  ExampleModel->run(simtime);\n",
    "  \n",
    "\n",
    "  spike_monitor->save_spikes_as_binary(\"./\", \"main_spikes\");\n",
    "  input_spike_monitor->save_spikes_as_binary(\"./\", \"input_spikes\");\n",
    "  ExampleModel->spiking_synapses->save_connectivity_as_txt(\"./\");\n",
    "\n",
    "  return 0;\n",
    "}\n"
   ]
  },
  {
   "cell_type": "code",
   "execution_count": 22,
   "metadata": {
    "colab": {
     "base_uri": "https://localhost:8080/",
     "height": 34
    },
    "colab_type": "code",
    "id": "sJQVUFLHnFSV",
    "outputId": "2ab1fd7a-be6a-4f3b-fe20-2528aab26d2e"
   },
   "outputs": [
    {
     "name": "stdout",
     "output_type": "stream",
     "text": [
      "/content/Spike/Build/Examples\n"
     ]
    }
   ],
   "source": [
    "cd /content/Spike/Build/Examples"
   ]
  },
  {
   "cell_type": "code",
   "execution_count": 23,
   "metadata": {
    "colab": {
     "base_uri": "https://localhost:8080/",
     "height": 289
    },
    "colab_type": "code",
    "id": "K57wPkqqZwq6",
    "outputId": "34463390-ccc2-4cb0-b799-867d4ceeb93f"
   },
   "outputs": [
    {
     "name": "stdout",
     "output_type": "stream",
     "text": [
      "[  1%] \u001b[34m\u001b[1mLinking SpikeCUDA\u001b[0m\n",
      "\u001b[31mLinking CXX executable SpikeCUDA\u001b[0m\n",
      "nvlink warning : Function '_ZN7Backend4CUDA44conductance_spiking_current_injection_kernelEPNS0_28spiking_synapses_data_structEPNS0_27spiking_neurons_data_structEffffii' has address taken but no possible call to it\n",
      "nvlink warning : Function '_ZN7Backend4CUDA40current_spiking_current_injection_kernelEPNS0_28spiking_synapses_data_structEPNS0_27spiking_neurons_data_structEffffii' has address taken but no possible call to it\n",
      "nvlink warning : Function '_ZN7Backend4CUDA32spiking_current_injection_kernelEPNS0_28spiking_synapses_data_structEPNS0_27spiking_neurons_data_structEffffii' has address taken but no possible call to it\n",
      "nvlink warning : Function '_ZN7Backend4CUDA19get_active_synapsesEPNS0_28spiking_synapses_data_structEPNS0_27spiking_neurons_data_structEiiib' has address taken but no possible call to it\n",
      "nvlink warning : Function '_ZN7Backend4CUDA40voltage_spiking_current_injection_kernelEPNS0_28spiking_synapses_data_structEPNS0_27spiking_neurons_data_structEffffii' has address taken but no possible call to it\n",
      "[ 31%] Built target SpikeCUDA\n",
      "[ 62%] Built target SpikeDummy\n",
      "[ 63%] \u001b[32m\u001b[1mLinking CXX shared library libSpike.so\u001b[0m\n",
      "[ 97%] Built target Spike\n",
      "\u001b[35m\u001b[1mScanning dependencies of target Sandbox\u001b[0m\n",
      "[ 98%] \u001b[32mBuilding CXX object Examples/CMakeFiles/Sandbox.dir/Sandbox.cpp.o\u001b[0m\n",
      "[100%] \u001b[32m\u001b[1mLinking CXX executable Sandbox\u001b[0m\n",
      "[100%] Built target Sandbox\n"
     ]
    }
   ],
   "source": [
    "!make Sandbox #Recompile the edited Sandbox.cpp file"
   ]
  },
  {
   "cell_type": "markdown",
   "metadata": {
    "colab_type": "text",
    "id": "vmFTIFQq6gDJ"
   },
   "source": [
    "## Run and Visualize Simulation"
   ]
  },
  {
   "cell_type": "code",
   "execution_count": 24,
   "metadata": {
    "colab": {
     "base_uri": "https://localhost:8080/",
     "height": 336
    },
    "colab_type": "code",
    "id": "xk6aV_JdaDzh",
    "outputId": "952ddb3a-5f26-4b8a-ba45-48eb3c90f3df"
   },
   "outputs": [
    {
     "name": "stdout",
     "output_type": "stream",
     "text": [
      "\n",
      "-----------\n",
      "---SPIKE---\n",
      "-----------\n",
      "\n",
      "Building Model with:\n",
      "  10 Input Neuron(s)\n",
      "  200 Neuron(s)\n",
      "  11100 Synapse(s)\n",
      "  2 Activity Monitor(s)\n",
      "\n",
      "Selecting Stimulus: 0\n",
      "Running model for 50.000000 seconds \n",
      " Number of Spikes Recorded: 208\n",
      " Number of Spikes Recorded: 5\n",
      "Selecting Stimulus: 1\n",
      "Running model for 50.000000 seconds \n",
      " Number of Spikes Recorded: 208\n",
      " Number of Spikes Recorded: 5\n"
     ]
    }
   ],
   "source": [
    "!./Sandbox"
   ]
  },
  {
   "cell_type": "code",
   "execution_count": 25,
   "metadata": {
    "colab": {
     "base_uri": "https://localhost:8080/",
     "height": 101
    },
    "colab_type": "code",
    "id": "1aWCmOiPWrGX",
    "outputId": "adbf0b3e-a697-465d-aa86-ea2835cbde19"
   },
   "outputs": [
    {
     "name": "stdout",
     "output_type": "stream",
     "text": [
      "\u001b[0m\u001b[01;32mBrunel10K\u001b[0m*                  main_spikesSpikeIDs.bin    \u001b[01;32mSandbox\u001b[0m*\n",
      "\u001b[01;34mCMakeFiles\u001b[0m/                 main_spikesSpikeTimes.bin  \u001b[01;32mSimpleExample\u001b[0m*\n",
      "cmake_install.cmake         Makefile                   SynapticDelays.txt\n",
      "input_spikesSpikeIDs.bin    PostsynapticIDs.txt        SynapticWeights.txt\n",
      "input_spikesSpikeTimes.bin  PresynapticIDs.txt         \u001b[01;32mVogelsAbbottNet\u001b[0m*\n"
     ]
    }
   ],
   "source": [
    "ls"
   ]
  },
  {
   "cell_type": "code",
   "execution_count": 0,
   "metadata": {
    "colab": {},
    "colab_type": "code",
    "collapsed": true,
    "id": "oBPIuXmbaei9"
   },
   "outputs": [],
   "source": [
    "main_df = pd.DataFrame(\n",
    "  data = {\n",
    "      \"ids\": np.fromfile(\"main_spikesSpikeIDs.bin\", dtype=np.int32),\n",
    "      \"times\": np.fromfile(\"main_spikesSpikeTimes.bin\", dtype=np.float32),\n",
    "  }\n",
    ")"
   ]
  },
  {
   "cell_type": "code",
   "execution_count": 27,
   "metadata": {
    "colab": {
     "base_uri": "https://localhost:8080/",
     "height": 558
    },
    "colab_type": "code",
    "id": "uwpsuGXocZut",
    "outputId": "f8dca07a-243e-423c-b7b5-770684e5d322"
   },
   "outputs": [
    {
     "data": {
      "text/plain": [
       "<matplotlib.collections.PathCollection at 0x7fc1aa946080>"
      ]
     },
     "execution_count": 27,
     "metadata": {
      "tags": []
     },
     "output_type": "execute_result"
    },
    {
     "data": {
      "image/png": "[encoded data removed]",
      "text/plain": [
       "<Figure size 864x648 with 1 Axes>"
      ]
     },
     "metadata": {
      "tags": []
     },
     "output_type": "display_data"
    }
   ],
   "source": [
    "plt.figure(figsize=(12,9))\n",
    "mask = main_df[\"times\"] < 1.0\n",
    "plt.scatter(main_df[\"times\"][mask], main_df[\"ids\"][mask], s=5)"
   ]
  },
  {
   "cell_type": "markdown",
   "metadata": {
    "colab_type": "text",
    "id": "Uhz1Vo_cXsBR"
   },
   "source": [
    "##Download Data"
   ]
  },
  {
   "cell_type": "markdown",
   "metadata": {
    "colab_type": "text",
    "id": "_VwwR30GXwLW"
   },
   "source": [
    "###Download Method for Smaller Files"
   ]
  },
  {
   "cell_type": "code",
   "execution_count": 0,
   "metadata": {
    "colab": {},
    "colab_type": "code",
    "collapsed": true,
    "id": "WzQcRplgu26l"
   },
   "outputs": [],
   "source": [
    "from google.colab import files\n",
    "files.download('main_spikesSpikeIDs.bin') "
   ]
  },
  {
   "cell_type": "code",
   "execution_count": 0,
   "metadata": {
    "colab": {},
    "colab_type": "code",
    "collapsed": true,
    "id": "JaYdPiXSX4kB"
   },
   "outputs": [],
   "source": [
    "from google.colab import files\n",
    "files.download('main_spikesSpikeTimes.bin') "
   ]
  },
  {
   "cell_type": "markdown",
   "metadata": {
    "colab_type": "text",
    "id": "DkzlGOlfX8Hf"
   },
   "source": [
    "###Download Method for Larger Files"
   ]
  },
  {
   "cell_type": "code",
   "execution_count": 0,
   "metadata": {
    "colab": {},
    "colab_type": "code",
    "collapsed": true,
    "id": "htuvXN_4X91Q"
   },
   "outputs": [],
   "source": [
    "from google.colab import drive\n",
    "drive.mount('/content/gdrive')"
   ]
  },
  {
   "cell_type": "code",
   "execution_count": 0,
   "metadata": {
    "colab": {},
    "colab_type": "code",
    "collapsed": true,
    "id": "EbFuTN5IX_cl"
   },
   "outputs": [],
   "source": [
    "cp *.txt ../../../gdrive/My\\ Drive/"
   ]
  }
 ],
 "metadata": {
  "accelerator": "GPU",
  "colab": {
   "collapsed_sections": [],
   "name": "SpikeColab_SandboxStarter.ipynb",
   "provenance": [],
   "toc_visible": true,
   "version": "0.3.2"
  },
  "kernelspec": {
   "display_name": "Python 3",
   "language": "python",
   "name": "python3"
  },
  "language_info": {
   "codemirror_mode": {
    "name": "ipython",
    "version": 3
   },
   "file_extension": ".py",
   "mimetype": "text/x-python",
   "name": "python",
   "nbconvert_exporter": "python",
   "pygments_lexer": "ipython3",
   "version": "3.6.1"
  }
 },
 "nbformat": 4,
 "nbformat_minor": 1
}
