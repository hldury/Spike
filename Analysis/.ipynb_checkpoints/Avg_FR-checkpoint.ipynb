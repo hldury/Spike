{
 "cells": [
  {
   "cell_type": "markdown",
   "metadata": {},
   "source": [
    "### Average Firing Rates"
   ]
  },
  {
   "cell_type": "markdown",
   "metadata": {},
   "source": [
    "Gets the spikes and converts them to firing rates, then averages out these firing rates in response to each stimulus"
   ]
  },
  {
   "cell_type": "code",
   "execution_count": 1,
   "metadata": {},
   "outputs": [
    {
     "name": "stdout",
     "output_type": "stream",
     "text": [
      "beginning...\n"
     ]
    }
   ],
   "source": [
    "print(\"beginning...\")\n",
    "import SpikeDataLoading as SDL\n",
    "import os\n",
    "import numpy as np"
   ]
  },
  {
   "cell_type": "code",
   "execution_count": 2,
   "metadata": {
    "collapsed": true
   },
   "outputs": [],
   "source": [
    "#pathName = os.getcwd();\n",
    "pathName = \"/Users/hakunahahannah/Documents/Projects/Spike/Build/output\"\n",
    "experimentName = 'one_layer_test_simulation';\n",
    "epochs = 1; #choose number of epochs you trained for\n",
    "numEpochs = list(range(1, epochs+1)); #remember python starts at zero; add 1 to total epochs "
   ]
  },
  {
   "cell_type": "markdown",
   "metadata": {},
   "source": [
    "Make folder for firing rates to be placed into"
   ]
  },
  {
   "cell_type": "code",
   "execution_count": 3,
   "metadata": {
    "collapsed": true
   },
   "outputs": [],
   "source": [
    "firingPath = pathName + '/' + experimentName + '/firing_rates'\n",
    "if os.path.isfile(firingPath):\n",
    "    print('Firing Rate folder already exists')\n",
    "    quit()\n",
    "os.mkdir(firingPath)\n",
    "#create the folder for initial firing rates\n",
    "initialPath = firingPath + '/initial'\n",
    "os.mkdir(initialPath)"
   ]
  },
  {
   "cell_type": "code",
   "execution_count": 5,
   "metadata": {},
   "outputs": [
    {
     "name": "stdout",
     "output_type": "stream",
     "text": [
      "getting spikes from initial folder\n"
     ]
    }
   ],
   "source": [
    "testingStatus = ['initial', 'training', 'testing'];\n",
    "print('getting spikes from initial folder')\n",
    "neuronids, neurontimes = SDL.get_spikes(pathName + '/' + experimentName + '/' + testingStatus[0] +'/', True);"
   ]
  },
  {
   "cell_type": "code",
   "execution_count": 6,
   "metadata": {},
   "outputs": [
    {
     "name": "stdout",
     "output_type": "stream",
     "text": [
      "splitting stimuli\n"
     ]
    }
   ],
   "source": [
    "print(\"splitting stimuli\")\n",
    "#returns a list of numpy arrays, each the set of spike ids or spike times for a separate stimulus\n",
    "ids, times = SDL.splitstimuli(neuronids, neurontimes, 2.0);"
   ]
  },
  {
   "cell_type": "markdown",
   "metadata": {},
   "source": [
    "Convert the spikes in response to each stimulus into firing rates"
   ]
  },
  {
   "cell_type": "code",
   "execution_count": 7,
   "metadata": {},
   "outputs": [
    {
     "name": "stdout",
     "output_type": "stream",
     "text": [
      "getting firing rates\n",
      "stimulus number 1\n",
      "[array([ 0.,  0.,  0., ...,  1.,  0.,  1.])]\n",
      "stimulus number 2\n",
      "[array([ 0.,  0.,  0., ...,  0.,  1.,  5.])]\n",
      "stimulus number 3\n",
      "[array([ 0. ,  0. ,  0. , ...,  0. ,  1.5,  0.5])]\n",
      "stimulus number 4\n",
      "[array([ 0. ,  0. ,  0. , ...,  1. ,  5. ,  3.5])]\n",
      "stimulus number 5\n",
      "[array([ 0. ,  0. ,  0. , ...,  0. ,  1. ,  0.5])]\n",
      "stimulus number 6\n",
      "[array([ 0. ,  0. ,  0. , ...,  1.5,  1. ,  8. ])]\n",
      "stimulus number 7\n",
      "[array([ 0.5,  0. ,  0. , ...,  0.5,  1.5,  4. ])]\n",
      "stimulus number 8\n",
      "[array([  0.5,   0. ,   1. , ...,   0.5,  12. ,   2.5])]\n"
     ]
    }
   ],
   "source": [
    "exc_cells_per_layer = 64*64;\n",
    "inh_cells_per_layer = 32*32;\n",
    "total_num_cells_per_layer = exc_cells_per_layer + inh_cells_per_layer;\n",
    "#pick a layer from layers 0-3\n",
    "#layer = 1;\n",
    "\n",
    "#get the first and last neuron ids\n",
    "#start_of_layer = layer * total_num_cells_per_layer;\n",
    "#end_of_layer = layer * total_num_cells_per_layer + exc_cells_per_layer;\n",
    "\n",
    "print(\"getting firing rates\")\n",
    "\n",
    "#get the total number of stimulus presentations per epoch\n",
    "num_stimulus_types = 2;\n",
    "number_presentations_per_stimulus = 4;\n",
    "stimulus_list = list(range(num_stimulus_types*number_presentations_per_stimulus));\n",
    "\n",
    "\n",
    "#create a list containing each array of firing rates of cells in the final layer across each stimulus\n",
    "#all_firing_rates = []\n",
    "for stim in stimulus_list:\n",
    "    #to look at all spikes\n",
    "    #rates = SDL.spikesToFR([ids[stim]], [times[stim]], total_num_cells_per_layer * 4, 0, 2.0, False)\n",
    "    rates = SDL.spikesToFR([ids[stim]], [times[stim]], total_num_cells_per_layer * 3, total_num_cells_per_layer * 4, 0, 2.0, False)\n",
    "    print(\"stimulus number\", (stim+1))\n",
    "    print(rates)\n",
    "    np.savetxt(initialPath + '/epochinitialFiringRates_stim'+str(stim+1)+'.csv', rates)\n"
   ]
  },
  {
   "cell_type": "markdown",
   "metadata": {},
   "source": [
    "Iterates through each epoch in the testing folder"
   ]
  },
  {
   "cell_type": "code",
   "execution_count": 8,
   "metadata": {},
   "outputs": [
    {
     "name": "stdout",
     "output_type": "stream",
     "text": [
      "getting spikes from testing folder\n",
      "splitting stimuli\n",
      "getting firing rates\n",
      "stimulus number 1\n",
      "[array([ 0. ,  0. ,  0. , ...,  3. ,  0.5,  9.5])]\n",
      "stimulus number 2\n",
      "[array([ 0.,  0.,  0., ...,  0.,  0.,  6.])]\n",
      "stimulus number 3\n",
      "[array([ 0. ,  0. ,  0. , ...,  1. ,  1.5,  2.5])]\n",
      "stimulus number 4\n",
      "[array([ 0. ,  0. ,  0. , ...,  0.5,  7.5,  7. ])]\n",
      "stimulus number 5\n",
      "[array([ 0. ,  0. ,  0. , ...,  0.5,  2. ,  1.5])]\n",
      "stimulus number 6\n",
      "[array([ 0. ,  0. ,  1. , ...,  0.5,  2.5,  3.5])]\n",
      "stimulus number 7\n",
      "[array([ 1.5,  0. ,  0. , ...,  2. ,  3. ,  4. ])]\n",
      "stimulus number 8\n",
      "[array([  0. ,   0. ,   4. , ...,   0.5,  11. ,   2. ])]\n",
      "splitting stimuli\n",
      "getting firing rates\n",
      "stimulus number 1\n",
      "[array([ 0. ,  0. ,  0. , ...,  3. ,  0. ,  1.5])]\n",
      "stimulus number 2\n",
      "[array([ 0. ,  0. ,  0. , ...,  0. ,  0. ,  5.5])]\n",
      "stimulus number 3\n",
      "[array([ 0.,  0.,  0., ...,  0.,  0.,  5.])]\n",
      "stimulus number 4\n",
      "[array([ 0. ,  0. ,  0. , ...,  0. ,  2.5,  4. ])]\n",
      "stimulus number 5\n",
      "[array([ 0. ,  0. ,  0. , ...,  0.5,  2.5,  0.5])]\n",
      "stimulus number 6\n",
      "[array([  0. ,   0.5,   1. , ...,   2.5,   1.5,  12. ])]\n",
      "stimulus number 7\n",
      "[array([ 0. ,  0. ,  0. , ...,  5. ,  3.5,  2. ])]\n",
      "stimulus number 8\n",
      "[array([ 0.5,  0. ,  1. , ...,  4. ,  9.5,  2.5])]\n",
      "splitting stimuli\n",
      "getting firing rates\n",
      "stimulus number 1\n",
      "[array([ 0. ,  0. ,  0. , ...,  2.5,  0.5,  2. ])]\n",
      "stimulus number 2\n",
      "[array([ 0.,  0.,  0., ...,  0.,  0.,  7.])]\n",
      "stimulus number 3\n",
      "[array([ 0. ,  0. ,  0. , ...,  0. ,  3.5,  2. ])]\n",
      "stimulus number 4\n",
      "[array([ 0. ,  0. ,  0. , ...,  0.5,  5. ,  5.5])]\n",
      "stimulus number 5\n",
      "[array([ 0. ,  0. ,  0. , ...,  1. ,  2.5,  2. ])]\n",
      "stimulus number 6\n",
      "[array([  2.5,   0. ,   0. , ...,   1.5,   1. ,  10.5])]\n",
      "stimulus number 7\n",
      "[array([ 0. ,  0. ,  0. , ...,  1.5,  8.5,  1.5])]\n",
      "stimulus number 8\n",
      "[array([ 1.5,  0. ,  1.5, ...,  0.5,  7. ,  0.5])]\n",
      "splitting stimuli\n",
      "getting firing rates\n",
      "stimulus number 1\n",
      "[array([ 0. ,  0. ,  0. , ...,  3.5,  1. ,  0.5])]\n",
      "stimulus number 2\n",
      "[array([ 0. ,  0. ,  0. , ...,  0. ,  0. ,  3.5])]\n",
      "stimulus number 3\n",
      "[array([ 0.,  0.,  0., ...,  0.,  1.,  4.])]\n",
      "stimulus number 4\n",
      "[array([ 0.,  0.,  0., ...,  0.,  2.,  3.])]\n",
      "stimulus number 5\n",
      "[array([ 0. ,  0. ,  0. , ...,  0.5,  4. ,  6.5])]\n",
      "stimulus number 6\n",
      "[array([ 0. ,  0. ,  0. , ...,  2. ,  0.5,  6.5])]\n",
      "stimulus number 7\n",
      "[array([ 0. ,  0. ,  0. , ...,  5. ,  4.5,  3. ])]\n",
      "stimulus number 8\n",
      "[array([ 1. ,  0. ,  1.5, ...,  1.5,  7.5,  2.5])]\n",
      "splitting stimuli\n",
      "getting firing rates\n",
      "stimulus number 1\n",
      "[array([ 0.5,  0. ,  0. , ...,  1.5,  0.5,  1. ])]\n",
      "stimulus number 2\n",
      "[array([ 0. ,  0. ,  0. , ...,  0. ,  0. ,  7.5])]\n",
      "stimulus number 3\n",
      "[array([ 0.5,  0. ,  0. , ...,  0. ,  0. ,  6. ])]\n",
      "stimulus number 4\n",
      "[array([ 0. ,  0. ,  0. , ...,  0. ,  4.5,  8. ])]\n",
      "stimulus number 5\n",
      "[array([ 1.5,  0. ,  0. , ...,  0. ,  1. ,  1.5])]\n",
      "stimulus number 6\n",
      "[array([ 0.5,  0.5,  0.5, ...,  0. ,  1. ,  5. ])]\n",
      "stimulus number 7\n",
      "[array([ 0.,  0.,  0., ...,  2.,  0.,  5.])]\n",
      "stimulus number 8\n",
      "[array([ 1.5,  0. ,  0. , ...,  0.5,  8. ,  0.5])]\n"
     ]
    }
   ],
   "source": [
    "print('getting spikes from testing folder')\n",
    "for e in range(0, epochs):\n",
    "    #create folders by epoch\n",
    "    epochPath = firingPath + '/epoch_' + str(e+1)\n",
    "    os.mkdir(epochPath)\n",
    "\n",
    "    neuronids, neurontimes = SDL.get_spikes(pathName + '/' + experimentName + '/' + testingStatus[2] +'/epoch' + str(numEpochs[e]) + '/', True);\n",
    "    print(\"splitting stimuli\")\n",
    "    ids, times = SDL.splitstimuli(neuronids, neurontimes, 2.0);\n",
    "    print(\"getting firing rates\")\n",
    "    for stim in stimulus_list:\n",
    "        rates = SDL.spikesToFR([ids[stim]], [times[stim]], total_num_cells_per_layer * 3, total_num_cells_per_layer * 4, 0, 2.0, False)\n",
    "        print(\"stimulus number\", (stim+1))\n",
    "        print(rates)\n",
    "        np.savetxt(epochPath + '/epoch'+str(numEpochs[e])+'firingrates_stim'+str(stim+1)+'.csv', rates)\n"
   ]
  },
  {
   "cell_type": "code",
   "execution_count": null,
   "metadata": {
    "collapsed": true
   },
   "outputs": [],
   "source": []
  }
 ],
 "metadata": {
  "kernelspec": {
   "display_name": "Python 3",
   "language": "python",
   "name": "python3"
  },
  "language_info": {
   "codemirror_mode": {
    "name": "ipython",
    "version": 3
   },
   "file_extension": ".py",
   "mimetype": "text/x-python",
   "name": "python",
   "nbconvert_exporter": "python",
   "pygments_lexer": "ipython3",
   "version": "3.6.1"
  }
 },
 "nbformat": 4,
 "nbformat_minor": 2
}
