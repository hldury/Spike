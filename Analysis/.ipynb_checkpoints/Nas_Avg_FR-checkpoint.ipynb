{
 "cells": [
  {
   "cell_type": "markdown",
   "metadata": {},
   "source": [
    "### Average Firing Rates"
   ]
  },
  {
   "cell_type": "markdown",
   "metadata": {},
   "source": [
    "Gets the spikes and converts them to firing rates, then averages out these firing rates in response to each stimulus"
   ]
  },
  {
   "cell_type": "code",
   "execution_count": 1,
   "metadata": {},
   "outputs": [
    {
     "name": "stdout",
     "output_type": "stream",
     "text": [
      "beginning...\n"
     ]
    }
   ],
   "source": [
    "print(\"beginning...\")\n",
    "import os\n",
    "import sys\n",
    "import numpy as np\n",
    "sys.path.append(\"/Users/hakunahahannah/Documents/Projects/Spike/Analysis/SpikeAnalysisToolbox/\")\n",
    "import SpikeDataLoading as SDL"
   ]
  },
  {
   "cell_type": "code",
   "execution_count": 2,
   "metadata": {
    "collapsed": true
   },
   "outputs": [],
   "source": [
    "#pathName = os.getcwd();\n",
    "pathName = \"/Users/hakunahahannah/Documents/Projects/Spike/Build/output\"\n",
    "experimentName = 'one_layer_test_simulation';\n",
    "epochs = 1; #choose number of epochs you trained for\n",
    "numEpochs = list(range(1, epochs+1)); #remember python starts at zero; add 1 to total epochs "
   ]
  },
  {
   "cell_type": "markdown",
   "metadata": {},
   "source": [
    "Make folder for firing rates to be placed into"
   ]
  },
  {
   "cell_type": "code",
   "execution_count": 4,
   "metadata": {},
   "outputs": [
    {
     "ename": "FileExistsError",
     "evalue": "[Errno 17] File exists: '/Users/hakunahahannah/Documents/Projects/Spike/Build/output/one_layer_test_simulation/firing_rates'",
     "output_type": "error",
     "traceback": [
      "\u001b[0;31m---------------------------------------------------------------------------\u001b[0m",
      "\u001b[0;31mFileExistsError\u001b[0m                           Traceback (most recent call last)",
      "\u001b[0;32m<ipython-input-4-ef83fc0e60ac>\u001b[0m in \u001b[0;36m<module>\u001b[0;34m()\u001b[0m\n\u001b[1;32m      3\u001b[0m     \u001b[0mprint\u001b[0m\u001b[0;34m(\u001b[0m\u001b[0;34m'Firing Rate folder already exists'\u001b[0m\u001b[0;34m)\u001b[0m\u001b[0;34m\u001b[0m\u001b[0m\n\u001b[1;32m      4\u001b[0m     \u001b[0mquit\u001b[0m\u001b[0;34m(\u001b[0m\u001b[0;34m)\u001b[0m\u001b[0;34m\u001b[0m\u001b[0m\n\u001b[0;32m----> 5\u001b[0;31m \u001b[0mos\u001b[0m\u001b[0;34m.\u001b[0m\u001b[0mmkdir\u001b[0m\u001b[0;34m(\u001b[0m\u001b[0mfiringPath\u001b[0m\u001b[0;34m)\u001b[0m\u001b[0;34m\u001b[0m\u001b[0m\n\u001b[0m\u001b[1;32m      6\u001b[0m \u001b[0;31m#create the folder for initial firing rates\u001b[0m\u001b[0;34m\u001b[0m\u001b[0;34m\u001b[0m\u001b[0m\n\u001b[1;32m      7\u001b[0m \u001b[0minitialPath\u001b[0m \u001b[0;34m=\u001b[0m \u001b[0mfiringPath\u001b[0m \u001b[0;34m+\u001b[0m \u001b[0;34m'/initial'\u001b[0m\u001b[0;34m\u001b[0m\u001b[0m\n",
      "\u001b[0;31mFileExistsError\u001b[0m: [Errno 17] File exists: '/Users/hakunahahannah/Documents/Projects/Spike/Build/output/one_layer_test_simulation/firing_rates'"
     ]
    }
   ],
   "source": [
    "firingPath = pathName + '/' + experimentName + '/firing_rates'\n",
    "if os.path.isfile(firingPath):\n",
    "    print('Firing Rate folder already exists')\n",
    "    quit()\n",
    "os.mkdir(firingPath)\n",
    "#create the folder for initial firing rates\n",
    "initialPath = firingPath + '/initial'\n",
    "os.mkdir(initialPath)"
   ]
  },
  {
   "cell_type": "code",
   "execution_count": 5,
   "metadata": {},
   "outputs": [
    {
     "name": "stdout",
     "output_type": "stream",
     "text": [
      "getting spikes from initial folder\n"
     ]
    }
   ],
   "source": [
    "testingStatus = ['initial', 'training', 'testing'];\n",
    "print('getting spikes from initial folder')\n",
    "neuronids, neurontimes = SDL.get_spikes(pathName + '/' + experimentName + '/' + testingStatus[0] +'/', False);"
   ]
  },
  {
   "cell_type": "code",
   "execution_count": 7,
   "metadata": {},
   "outputs": [
    {
     "name": "stdout",
     "output_type": "stream",
     "text": [
      "splitting stimuli\n"
     ]
    }
   ],
   "source": [
    "print(\"splitting stimuli\")\n",
    "#returns a list of numpy arrays, each the set of spike ids or spike times for a separate stimulus\n",
    "ids, times = SDL.splitstimuli(neuronids, neurontimes, 2.0);\n"
   ]
  },
  {
   "cell_type": "markdown",
   "metadata": {},
   "source": [
    "Convert the spikes in response to each stimulus into firing rates"
   ]
  },
  {
   "cell_type": "code",
   "execution_count": 11,
   "metadata": {},
   "outputs": [
    {
     "name": "stdout",
     "output_type": "stream",
     "text": [
      "getting firing rates\n",
      "len ids is  25\n",
      "timelength for id 1 is  1.9997\n"
     ]
    },
    {
     "ename": "IndexError",
     "evalue": "too many indices for array",
     "output_type": "error",
     "traceback": [
      "\u001b[0;31m---------------------------------------------------------------------------\u001b[0m",
      "\u001b[0;31mIndexError\u001b[0m                                Traceback (most recent call last)",
      "\u001b[0;32m<ipython-input-11-f583569250a3>\u001b[0m in \u001b[0;36m<module>\u001b[0;34m()\u001b[0m\n\u001b[1;32m     29\u001b[0m     \u001b[0mprint\u001b[0m\u001b[0;34m(\u001b[0m\u001b[0;34m\"timelength for id 1 is \"\u001b[0m\u001b[0;34m,\u001b[0m \u001b[0mtlength\u001b[0m\u001b[0;34m)\u001b[0m\u001b[0;34m\u001b[0m\u001b[0m\n\u001b[1;32m     30\u001b[0m     \u001b[0midswid\u001b[0m \u001b[0;34m=\u001b[0m \u001b[0mids\u001b[0m\u001b[0;34m[\u001b[0m\u001b[0;36m0\u001b[0m\u001b[0;34m]\u001b[0m\u001b[0;34m\u001b[0m\u001b[0m\n\u001b[0;32m---> 31\u001b[0;31m     \u001b[0mprint\u001b[0m\u001b[0;34m(\u001b[0m\u001b[0;34m\"idswindow is \"\u001b[0m\u001b[0;34m,\u001b[0m \u001b[0midswid\u001b[0m\u001b[0;34m[\u001b[0m\u001b[0;36m0\u001b[0m\u001b[0;34m,\u001b[0m \u001b[0;36m2\u001b[0m\u001b[0;34m,\u001b[0m \u001b[0;36m4\u001b[0m\u001b[0;34m]\u001b[0m\u001b[0;34m)\u001b[0m\u001b[0;34m\u001b[0m\u001b[0m\n\u001b[0m\u001b[1;32m     32\u001b[0m     \u001b[0mprint\u001b[0m\u001b[0;34m(\u001b[0m\u001b[0;34m\"rates i is \"\u001b[0m\u001b[0;34m,\u001b[0m \u001b[0mnp\u001b[0m\u001b[0;34m.\u001b[0m\u001b[0msum\u001b[0m\u001b[0;34m(\u001b[0m\u001b[0midswid\u001b[0m \u001b[0;34m==\u001b[0m \u001b[0;34m(\u001b[0m\u001b[0;36m0\u001b[0m \u001b[0;34m+\u001b[0m \u001b[0;36m0\u001b[0m\u001b[0;34m)\u001b[0m\u001b[0;34m)\u001b[0m \u001b[0;34m/\u001b[0m \u001b[0mtlength\u001b[0m\u001b[0;34m)\u001b[0m\u001b[0;34m\u001b[0m\u001b[0m\n\u001b[1;32m     33\u001b[0m     \u001b[0mprint\u001b[0m\u001b[0;34m(\u001b[0m\u001b[0midswid\u001b[0m \u001b[0;34m==\u001b[0m \u001b[0;36m0\u001b[0m\u001b[0;34m/\u001b[0m\u001b[0mtlength\u001b[0m\u001b[0;34m)\u001b[0m\u001b[0;34m\u001b[0m\u001b[0m\n",
      "\u001b[0;31mIndexError\u001b[0m: too many indices for array"
     ]
    }
   ],
   "source": [
    "#exc_cells_per_layer = 64*64;\n",
    "#inh_cells_per_layer = 32*32;\n",
    "#total_num_cells_per_layer = exc_cells_per_layer + inh_cells_per_layer;\n",
    "total_num_cells_per_layer = 64;\n",
    "#pick a layer from layers 0-3\n",
    "#layer = 1;\n",
    "\n",
    "#get the first and last neuron ids\n",
    "#start_of_layer = layer * total_num_cells_per_layer;\n",
    "#end_of_layer = layer * total_num_cells_per_layer + exc_cells_per_layer;\n",
    "\n",
    "print(\"getting firing rates\")\n",
    "\n",
    "#get the total number of stimulus presentations per epoch\n",
    "num_stimulus_types = 25;\n",
    "number_presentations_per_stimulus = 1;\n",
    "stimulus_list = list(range(num_stimulus_types*number_presentations_per_stimulus));\n",
    "\n",
    "\n",
    "#create a list containing each array of firing rates of cells in the final layer across each stimulus\n",
    "#all_firing_rates = []\n",
    "for stim in stimulus_list:\n",
    "    #to look at all spikes\n",
    "    #rates = SDL.spikesToFR([ids[stim]], [times[stim]], total_num_cells_per_layer * 4, 0, 2.0, False)\n",
    "    #rates = SDL.spikesToFR([ids[stim]], [times[stim]], total_num_cells_per_layer * 3, total_num_cells_per_layer * 4, 0, 2.0, False)\n",
    "    #rates = SDL.spikesToFR([ids[stim]], [times[stim]], 0, total_num_cells_per_layer, 0, 2.0, True)\n",
    "    print(\"len ids is \", len(ids))\n",
    "    tlength = np.max(times[0])\n",
    "    print(\"timelength for id 1 is \", tlength)\n",
    "    idswid = ids[0]\n",
    "    print(\"idswindow is \", idswid[0])\n",
    "    print(\"rates i is \", np.sum(idswid == (0 + 0)) / tlength)\n",
    "    print(idswid == 0/tlength)\n",
    "\n",
    "    print(\"\\n \\n stimulus number\", (stim+1))\n",
    "    print(rates)\n",
    "    np.savetxt(initialPath + '/epochinitialFiringRates_stim'+str(stim+1)+'.csv', rates)\n"
   ]
  },
  {
   "cell_type": "markdown",
   "metadata": {},
   "source": [
    "Iterates through each epoch in the testing folder"
   ]
  },
  {
   "cell_type": "code",
   "execution_count": 42,
   "metadata": {},
   "outputs": [
    {
     "name": "stdout",
     "output_type": "stream",
     "text": [
      "getting spikes from testing folder\n"
     ]
    }
   ],
   "source": [
    "print('getting spikes from testing folder')\n",
    "#exc_cells_per_layer = 64*64;\n",
    "#inh_cells_per_layer = 32*32;\n",
    "#total_num_cells_per_layer = exc_cells_per_layer + inh_cells_per_layer;\n",
    "#for e in range(0, epochs):\n",
    "    ##create folders by epoch\n",
    "    #epochPath = firingPath + '/epoch_' + str(e+1)\n",
    "    #os.mkdir(epochPath)\n",
    "\n",
    "    #neuronids, neurontimes = SDL.get_spikes(pathName + '/' + experimentName + '/' + testingStatus[2] +'/epoch' + str(numEpochs[e]) + '/', True);\n",
    "    #print(\"splitting stimuli\")\n",
    "    #ids, times = SDL.splitstimuli(neuronids, neurontimes, 2.0);\n",
    "    #print(\"getting firing rates\")\n",
    "    #for stim in stimulus_list:\n",
    "        #rates = SDL.spikesToFR([ids[stim]], [times[stim]], 0, total_num_cells_per_layer, 0, 2.0, True)\n",
    "        #print(\"stimulus number\", (stim+1))\n",
    "        #print(rates)\n",
    "        #np.savetxt(epochPath + '/epoch'+str(numEpochs[e])+'firingrates_stim'+str(stim+1)+'.csv', rates)\n",
    "\n"
   ]
  },
  {
   "cell_type": "code",
   "execution_count": null,
   "metadata": {
    "collapsed": true
   },
   "outputs": [],
   "source": []
  }
 ],
 "metadata": {
  "kernelspec": {
   "display_name": "Python 3",
   "language": "python",
   "name": "python3"
  },
  "language_info": {
   "codemirror_mode": {
    "name": "ipython",
    "version": 3
   },
   "file_extension": ".py",
   "mimetype": "text/x-python",
   "name": "python",
   "nbconvert_exporter": "python",
   "pygments_lexer": "ipython3",
   "version": "3.6.1"
  }
 },
 "nbformat": 4,
 "nbformat_minor": 2
}
