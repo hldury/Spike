{
 "cells": [
  {
   "cell_type": "code",
   "execution_count": 15,
   "metadata": {
    "collapsed": true
   },
   "outputs": [],
   "source": [
    "import SpikeDataLoading as SDL\n",
    "import os\n",
    "import numpy as np"
   ]
  },
  {
   "cell_type": "code",
   "execution_count": 16,
   "metadata": {
    "collapsed": true
   },
   "outputs": [],
   "source": [
    "pathName = \"/Users/hakunahahannah/Documents/Projects/Spike/Build/output\";\n",
    "experimentName = \"one_layer_test_simulation\";\n",
    "epochs = 1; #choose number of epochs you trained for\n",
    "numEpochs = list(range(1, epochs+1)); #remember python starts at zero; add 1 to total epochs "
   ]
  },
  {
   "cell_type": "code",
   "execution_count": 17,
   "metadata": {},
   "outputs": [],
   "source": [
    "firingPath = pathName + '/' + experimentName + '/firing_rates'\n",
    "if os.path.isfile(firingPath):\n",
    "    print('Firing Rate folder already exists')\n",
    "    quit()\n",
    "os.mkdir(firingPath)\n",
    "#create the folder for initial firing rates\n",
    "initialPath = firingPath + '/initial'\n",
    "os.mkdir(initialPath)"
   ]
  },
  {
   "cell_type": "code",
   "execution_count": 18,
   "metadata": {},
   "outputs": [
    {
     "name": "stdout",
     "output_type": "stream",
     "text": [
      "getting spikes from initial folder\n"
     ]
    }
   ],
   "source": [
    "testingStatus = ['initial', 'training', 'testing'];\n",
    "print('getting spikes from initial folder')\n",
    "neuronids, neurontimes = SDL.get_spikes(pathName + '/' + experimentName + '/' + testingStatus[0] +'/', False, True);"
   ]
  },
  {
   "cell_type": "code",
   "execution_count": 19,
   "metadata": {
    "collapsed": true
   },
   "outputs": [],
   "source": [
    "#print(\"splitting stimuli\")\n",
    "#returns a list of numpy arrays, each the set of spike ids or spike times for a separate stimulus\n",
    "#ids, times = SDL.splitstimuli(neuronids, neurontimes, 2.0);\n",
    "ids, times = neuronids, neurontimes;"
   ]
  },
  {
   "cell_type": "code",
   "execution_count": 20,
   "metadata": {},
   "outputs": [
    {
     "name": "stdout",
     "output_type": "stream",
     "text": [
      "getting firing rates\n",
      "stimulus number 1\n",
      "[array([    0.,     0.,  5000., ...,     0.,     0.,     0.])]\n"
     ]
    }
   ],
   "source": [
    "#Convert the spikes in response to each stimulus into firing rates\n",
    "exc_cells_per_layer = 64*64;\n",
    "inh_cells_per_layer = 32*32;\n",
    "total_num_cells_per_layer = exc_cells_per_layer + inh_cells_per_layer;\n",
    "\n",
    "print(\"getting firing rates\")\n",
    "\n",
    "#get the total number of stimulus presentations per epoch\n",
    "num_stimulus_types = 1;\n",
    "number_presentations_per_stimulus = 1;\n",
    "stimulus_list = list(range(num_stimulus_types*number_presentations_per_stimulus));\n",
    "\n",
    "#create a list containing each array of firing rates of cells in the final layer across each stimulus\n",
    "#all_firing_rates = []\n",
    "for stim in stimulus_list:\n",
    "    #to look at all spikes\n",
    "    #rates = SDL.spikesToFR([ids[stim]], [times[stim]], total_num_cells_per_layer * 4, 0, 2.0, False)\n",
    "    #rates = SDL.spikesToFR([ids[stim]], [times[stim]], total_num_cells_per_layer * 3, total_num_cells_per_layer * 4, 0, 2.0, False)\n",
    "    rates = SDL.spikesToFR([ids[stim]], [times[stim]], 0, total_num_cells_per_layer, 0, 50.0, True)\n",
    "    print(\"stimulus number\", (stim+1))\n",
    "    print(rates)\n",
    "    np.savetxt(initialPath + '/epochinitialFiringRates_stim'+str(stim+1)+'.csv', rates)\n"
   ]
  },
  {
   "cell_type": "code",
   "execution_count": null,
   "metadata": {
    "collapsed": true
   },
   "outputs": [],
   "source": [
    "print('getting spikes from testing folder')\n",
    "for e in range(0, epochs):\n",
    "    #create folders by epoch\n",
    "    epochPath = firingPath + '/epoch_' + str(e+1)\n",
    "    os.mkdir(epochPath)\n",
    "\n",
    "    neuronids, neurontimes = SDL.get_spikes(pathName + '/' + experimentName + '/' + testingStatus[2] +'/epoch' + str(numEpochs[e]) + '/', True);\n",
    "    print(\"splitting stimuli\")\n",
    "    ids, times = SDL.splitstimuli(neuronids, neurontimes, 2.0);\n",
    "    print(\"getting firing rates\")\n",
    "    for stim in stimulus_list:\n",
    "        rates = SDL.spikesToFR([ids[stim]], [times[stim]], total_num_cells_per_layer * 3, total_num_cells_per_layer * 4, 0, 2.0, False)\n",
    "        print(\"stimulus number\", (stim+1))\n",
    "        print(rates)\n",
    "        np.savetxt(epochPath + '/epoch'+str(numEpochs[e])+'firingrates_stim'+str(stim+1)+'.csv', rates)"
   ]
  }
 ],
 "metadata": {
  "kernelspec": {
   "display_name": "Python 3",
   "language": "python",
   "name": "python3"
  },
  "language_info": {
   "codemirror_mode": {
    "name": "ipython",
    "version": 3
   },
   "file_extension": ".py",
   "mimetype": "text/x-python",
   "name": "python",
   "nbconvert_exporter": "python",
   "pygments_lexer": "ipython3",
   "version": "3.6.1"
  }
 },
 "nbformat": 4,
 "nbformat_minor": 2
}
