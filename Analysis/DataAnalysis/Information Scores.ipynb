{
 "cells": [
  {
   "cell_type": "code",
   "execution_count": 41,
   "metadata": {
    "collapsed": true
   },
   "outputs": [],
   "source": [
    "import numpy as np\n",
    "import pandas as pd\n",
    "import sys\n",
    "from timeit import default_timer as timer\n",
    "import matplotlib.pyplot as plt\n",
    "%matplotlib inline\n",
    "\n",
    "sys.path.append(\"/Users/hakunahahannah/Documents/Projects/Spiking/Analysis/SpikeAnalysisToolbox/\")\n",
    "\n",
    "import spikeAnalysisToolsV2.data_loading as data\n",
    "import spikeAnalysisToolsV2.firing_rates as firing\n",
    "import spikeAnalysisToolsV2.helper as helper\n",
    "import spikeAnalysisToolsV2.overviews as overview\n",
    "import spikeAnalysisToolsV2.combine_stimuli as combine\n",
    "import spikeAnalysisToolsV2.plotting as spikeplot\n",
    "import spikeAnalysisToolsV2.information_scores as info"
   ]
  },
  {
   "cell_type": "code",
   "execution_count": 42,
   "metadata": {},
   "outputs": [
    {
     "name": "stdout",
     "output_type": "stream",
     "text": [
      "['obj0:face_1_Happy', 'obj0:face_2_Happy', 'obj0:face_3_Happy', 'obj0:face_4_Happy', 'obj0:face_5_Happy', 'obj0:face_6_Happy', 'obj0:face_7_Happy', 'obj0:face_8_Happy', 'obj0:face_9_Happy', 'obj0:face_10_Happy', 'obj0:face_11_Happy', 'obj0:face_12_Happy', 'obj0:face_13_Happy', 'obj0:face_14_Happy', 'obj0:face_15_Happy', 'obj0:face_16_Happy', 'obj0:face_17_Happy', 'obj0:face_18_Happy', 'obj0:face_19_Happy', 'obj0:face_20_Happy', 'obj1:face_1_Sad', 'obj1:face_2_Sad', 'obj1:face_3_Sad', 'obj1:face_4_Sad', 'obj1:face_5_Sad', 'obj1:face_6_Sad', 'obj1:face_7_Sad', 'obj1:face_8_Sad', 'obj1:face_9_Sad', 'obj1:face_10_Sad', 'obj1:face_11_Sad', 'obj1:face_12_Sad', 'obj1:face_13_Sad', 'obj1:face_14_Sad', 'obj1:face_15_Sad', 'obj1:face_16_Sad', 'obj1:face_17_Sad', 'obj1:face_18_Sad', 'obj1:face_19_Sad', 'obj1:face_20_Sad']\n",
      "[{'filter': '**d*', 'elements': set(), 'indices': [], 'count': 0}, {'filter': '**c*', 'elements': {'face_13_Happy', 'face_4_Happy', 'face_5_Sad', 'face_11_Sad', 'face_20_Sad', 'face_13_Sad', 'face_12_Sad', 'face_2_Sad', 'face_6_Sad', 'face_17_Sad', 'face_9_Happy', 'face_16_Happy', 'face_18_Happy', 'face_12_Happy', 'face_9_Sad', 'face_7_Happy', 'face_1_Sad', 'face_14_Happy', 'face_4_Sad', 'face_10_Sad', 'face_3_Sad', 'face_18_Sad', 'face_7_Sad', 'face_17_Happy', 'face_1_Happy', 'face_8_Happy', 'face_15_Sad', 'face_6_Happy', 'face_14_Sad', 'face_5_Happy', 'face_19_Sad', 'face_10_Happy', 'face_3_Happy', 'face_19_Happy', 'face_2_Happy', 'face_20_Happy', 'face_15_Happy', 'face_11_Happy', 'face_8_Sad', 'face_16_Sad'}, 'indices': [0, 1, 2, 3, 4, 5, 6, 7, 8, 9, 10, 11, 12, 13, 14, 15, 16, 17, 18, 19, 20, 21, 22, 23, 24, 25, 26, 27, 28, 29, 30, 31, 32, 33, 34, 35, 36, 37, 38, 39], 'count': 40}]\n"
     ]
    }
   ],
   "source": [
    "## set the Masterpath to the folder where your output is saved\n",
    "n_epochs = 400\n",
    "\n",
    "masterpath = \"/Users/hakunahahannah/Documents/Projects/Spiking/Build/output\"\n",
    "## set the subfolder to the Simulation you want to analyse \n",
    "\n",
    "subfolders = [\n",
    "    \"20Ex20IdNetworkTEST_400_epochs\"\n",
    "            ]\n",
    "## if more than the inital epoch is needed *1 needs to be run\n",
    "extensions =  [\"initial\"] # [\"testing/epoch123\"]\n",
    "object_list = data.load_testing_stimuli_info(masterpath+\"/\" + subfolders[0]) #assuming all the subfolders have the same\n",
    "n_stimuli = np.sum(obj['count'] for obj in object_list)\n",
    "\n",
    "\n",
    "# info_neurons is just an array of the information from above. This makes it easier to run the functions and pass the information. \n",
    "# info_times same for times\n",
    "network_architecture = dict(\n",
    "    num_exc_neurons_per_layer = 64*64,\n",
    "    num_inh_neurons_per_layer = 32*32,\n",
    "    num_layers = 4,\n",
    "    #total_per_layer = num_exc_neurons_per_layer + num_inh_neurons_per_layer,\n",
    "    #total_network = total_per_layer * num_layers,\n",
    "    #num_stimuli = 16\n",
    ")\n",
    "\n",
    "info_times = dict(\n",
    "    length_of_stimulus = 2.0,\n",
    "    num_stimuli = n_stimuli,\n",
    "    time_start = 1.5,\n",
    "    time_end = 1.9\n",
    ")\n",
    "\n",
    "#objects_in_training = [\n",
    "#    object_list[0]['indices'] + object_list[1]['indices'] + object_list[2]['indices'] + object_list[3]['indices'],\n",
    "#    object_list[4]['indices'] + object_list[5]['indices'] + object_list[6]['indices'] + object_list[7]['indices'],\n",
    "#]\n",
    "# These Objects were bound together in training with temporal trace. so it should have learned information about them. \n",
    "# print(objects_in_training)\n",
    "# object_indices = objects_in_training\n",
    "stimuli_names = data.load_testing_stimuli_names(masterpath+\"/\" + subfolders[0])\n",
    "print(stimuli_names)\n",
    "object_indices = data.load_testing_stimuli_indices_from_wildcarts(masterpath+\"/\" + subfolders[0], [\"**d*\", \"**c*\"])\n",
    "print(object_indices)"
   ]
  },
  {
   "cell_type": "code",
   "execution_count": 47,
   "metadata": {
    "collapsed": true
   },
   "outputs": [],
   "source": [
    "final_epoch_rates = rates_subfolders[0][0]"
   ]
  },
  {
   "cell_type": "code",
   "execution_count": 48,
   "metadata": {},
   "outputs": [
    {
     "data": {
      "text/plain": [
       "(40, 4, 4096)"
      ]
     },
     "execution_count": 48,
     "metadata": {},
     "output_type": "execute_result"
    }
   ],
   "source": [
    "exc_rates, inh_rates = helper.nested_list_of_stimuli_2_np(final_epoch_rates)\n",
    "exc_rates.shape"
   ]
  },
  {
   "cell_type": "code",
   "execution_count": 57,
   "metadata": {},
   "outputs": [
    {
     "name": "stdout",
     "output_type": "stream",
     "text": [
      "Start\n",
      "20Ex20IdNetworkTEST_400_epochs\n",
      "Extension:  initial\n",
      "Layer 0 \n",
      "              Exc Mean  Exc Min  Exc Max  Inh Mean  Inh Min  Inh Max\n",
      "Stimulus 0   1.786499      0.0     72.5  2.583008      0.0     37.5\n",
      "Stimulus 1   1.946411      0.0     65.0  2.480469      0.0     42.5\n",
      "Stimulus 2   1.886597      0.0     97.5  2.221680      0.0     45.0\n",
      "Stimulus 3   1.984863      0.0     67.5  2.229004      0.0     37.5\n",
      "Stimulus 4   2.079468      0.0     92.5  2.312012      0.0     35.0\n",
      "Stimulus 5   1.933594      0.0     85.0  2.377930      0.0     37.5\n",
      "Stimulus 6   1.892700      0.0     52.5  2.680664      0.0     30.0\n",
      "Stimulus 7   2.163086      0.0     65.0  2.529297      0.0     37.5\n",
      "Stimulus 8   1.837769      0.0     65.0  2.343750      0.0     47.5\n",
      "Stimulus 9   1.792603      0.0     82.5  2.631836      0.0     37.5\n",
      "Stimulus 10  1.869507      0.0     85.0  2.211914      0.0     35.0\n",
      "Stimulus 11  2.044678      0.0     82.5  1.950684      0.0     47.5\n",
      "Stimulus 12  1.700439      0.0     52.5  2.741699      0.0     37.5\n",
      "Stimulus 13  1.842041      0.0     65.0  2.470703      0.0     45.0\n",
      "Stimulus 14  1.867676      0.0     65.0  2.260742      0.0     32.5\n",
      "Stimulus 15  2.034302      0.0     62.5  2.365723      0.0     42.5\n",
      "Stimulus 16  2.108154      0.0    115.0  2.446289      0.0     47.5\n",
      "Stimulus 17  1.986084      0.0     90.0  2.229004      0.0     42.5\n",
      "Stimulus 18  1.798706      0.0     52.5  2.683105      0.0     35.0\n",
      "Stimulus 19  1.760254      0.0    112.5  2.666016      0.0     52.5\n",
      "Stimulus 20  1.852417      0.0     60.0  2.648926      0.0     45.0\n",
      "Stimulus 21  2.164917      0.0     80.0  2.443848      0.0     50.0\n",
      "Stimulus 22  1.979980      0.0     60.0  2.402344      0.0     45.0\n",
      "Stimulus 23  1.796875      0.0     65.0  2.517090      0.0     30.0\n",
      "Stimulus 24  2.003784      0.0     55.0  2.158203      0.0     45.0\n",
      "Stimulus 25  1.941528      0.0     50.0  2.331543      0.0     42.5\n",
      "Stimulus 26  1.817017      0.0     55.0  2.663574      0.0     32.5\n",
      "Stimulus 27  2.161865      0.0     62.5  2.348633      0.0     42.5\n",
      "Stimulus 28  2.276001      0.0     85.0  2.141113      0.0     47.5\n",
      "Stimulus 29  1.952515      0.0     57.5  2.492676      0.0     40.0\n",
      "Stimulus 30  2.190552      0.0     70.0  2.373047      0.0     57.5\n",
      "Stimulus 31  2.108765      0.0     65.0  2.158203      0.0     70.0\n",
      "Stimulus 32  2.048340      0.0     52.5  2.553711      0.0     40.0\n",
      "Stimulus 33  2.128906      0.0     65.0  2.622070      0.0     47.5\n",
      "Stimulus 34  2.026978      0.0     70.0  2.478027      0.0     42.5\n",
      "Stimulus 35  2.173462      0.0     67.5  2.338867      0.0     40.0\n",
      "Stimulus 36  2.011719      0.0     65.0  2.224121      0.0     37.5\n",
      "Stimulus 37  1.937866      0.0     62.5  2.456055      0.0     37.5\n",
      "Stimulus 38  1.857300      0.0     52.5  2.619629      0.0     35.0\n",
      "Stimulus 39  1.823730      0.0     75.0  2.465820      0.0     42.5\n",
      "\n",
      "\n",
      "Layer 1 \n",
      "              Exc Mean  Exc Min  Exc Max   Inh Mean  Inh Min  Inh Max\n",
      "Stimulus 0   4.539185      0.0     55.0  16.215820      0.0     42.5\n",
      "Stimulus 1   4.453735      0.0     45.0  15.788574      0.0     35.0\n",
      "Stimulus 2   4.050293      0.0     62.5  13.815918      0.0     40.0\n",
      "Stimulus 3   4.248047      0.0     65.0  13.452148      0.0     40.0\n",
      "Stimulus 4   4.741821      0.0     52.5  16.323242      0.0     45.0\n",
      "Stimulus 5   4.406738      0.0     57.5  14.956055      0.0     40.0\n",
      "Stimulus 6   4.390259      0.0     60.0  14.138184      0.0     40.0\n",
      "Stimulus 7   4.761963      0.0     37.5  21.982422      5.0     40.0\n",
      "Stimulus 8   4.232788      0.0     52.5  14.931641      0.0     42.5\n",
      "Stimulus 9   4.246826      0.0     47.5  14.963379      0.0     37.5\n",
      "Stimulus 10  4.013672      0.0     47.5  15.202637      0.0     40.0\n",
      "Stimulus 11  4.664917      0.0     42.5  23.823242      5.0     47.5\n",
      "Stimulus 12  4.171753      0.0     52.5  13.178711      0.0     37.5\n",
      "Stimulus 13  4.132080      0.0     60.0  15.808105      0.0     37.5\n",
      "Stimulus 14  3.969116      0.0     40.0  20.449219      2.5     40.0\n",
      "Stimulus 15  5.087891      0.0     45.0  21.757813      0.0     50.0\n",
      "Stimulus 16  4.867554      0.0     62.5  21.464844      2.5     47.5\n",
      "Stimulus 17  4.399414      0.0     60.0  13.713379      0.0     47.5\n",
      "Stimulus 18  4.319458      0.0     47.5  17.810059      2.5     37.5\n",
      "Stimulus 19  4.379272      0.0     62.5  13.962402      0.0     40.0\n",
      "Stimulus 20  5.095215      0.0     47.5  22.727051      5.0     47.5\n",
      "Stimulus 21  5.290527      0.0     47.5  24.162598      5.0     47.5\n",
      "Stimulus 22  5.612793      0.0     47.5  25.354004      2.5     47.5\n",
      "Stimulus 23  4.243774      0.0     62.5  13.818359      0.0     42.5\n",
      "Stimulus 24  4.762573      0.0     45.0  19.558105      0.0     42.5\n",
      "Stimulus 25  4.271240      0.0     50.0  15.295410      0.0     42.5\n",
      "Stimulus 26  4.293213      0.0     42.5  15.556641      0.0     35.0\n",
      "Stimulus 27  4.619751      0.0     65.0  16.215820      0.0     40.0\n",
      "Stimulus 28  5.833740      0.0     42.5  26.923828      5.0     47.5\n",
      "Stimulus 29  5.096436      0.0     47.5  23.181152      0.0     45.0\n",
      "Stimulus 30  4.462280      0.0     65.0  14.284668      0.0     40.0\n",
      "Stimulus 31  4.426270      0.0     67.5  15.358887      0.0     40.0\n",
      "Stimulus 32  4.536743      0.0     55.0  18.410645      0.0     42.5\n",
      "Stimulus 33  5.626831      0.0     57.5  25.478516     10.0     45.0\n",
      "Stimulus 34  5.531616      0.0     45.0  25.090332      5.0     50.0\n",
      "Stimulus 35  5.549927      0.0     42.5  25.278320      7.5     47.5\n",
      "Stimulus 36  5.127563      0.0     45.0  21.782227      0.0     47.5\n",
      "Stimulus 37  5.480957      0.0     40.0  24.770508      7.5     40.0\n",
      "Stimulus 38  4.261475      0.0     52.5  16.379395      2.5     37.5\n",
      "Stimulus 39  4.088745      0.0     52.5  13.176270      0.0     37.5\n",
      "\n",
      "\n",
      "Layer 2 \n",
      "               Exc Mean  Exc Min  Exc Max   Inh Mean  Inh Min  Inh Max\n",
      "Stimulus 0   11.594849      0.0     52.5  46.616211     35.0     60.0\n",
      "Stimulus 1   11.882935      0.0     60.0  47.617188     27.5     62.5\n",
      "Stimulus 2   10.872192      0.0     52.5  43.823242     27.5     60.0\n",
      "Stimulus 3   11.091309      0.0     52.5  43.930664     27.5     60.0\n",
      "Stimulus 4   13.405151      0.0     50.0  49.619141     37.5     62.5\n",
      "Stimulus 5   10.081177      0.0     47.5  41.677246     25.0     60.0\n",
      "Stimulus 6   10.701294      0.0     47.5  42.670898     27.5     60.0\n",
      "Stimulus 7   15.675049      0.0     40.0  53.735352     42.5     62.5\n",
      "Stimulus 8   10.700684      0.0     47.5  44.458008     27.5     62.5\n",
      "Stimulus 9   10.177002      0.0     55.0  42.622070     25.0     60.0\n",
      "Stimulus 10  10.738525      0.0     50.0  44.409180     30.0     62.5\n",
      "Stimulus 11  18.335571      0.0     50.0  59.958496     50.0     75.0\n",
      "Stimulus 12  10.613403      0.0     42.5  45.231934     30.0     60.0\n",
      "Stimulus 13  10.501099      0.0     55.0  43.588867     27.5     62.5\n",
      "Stimulus 14  17.480469      0.0     47.5  58.496094     50.0     70.0\n",
      "Stimulus 15  16.706543      0.0     40.0  54.555664     42.5     65.0\n",
      "Stimulus 16  17.145386      0.0     50.0  56.599121     42.5     65.0\n",
      "Stimulus 17  10.813599      0.0     45.0  42.258301     27.5     62.5\n",
      "Stimulus 18  14.338379      0.0     37.5  46.704102     32.5     55.0\n",
      "Stimulus 19  10.246582      0.0     52.5  42.541504     27.5     60.0\n",
      "Stimulus 20  17.757568      0.0     45.0  57.619629     45.0     67.5\n",
      "Stimulus 21  18.622437      0.0     50.0  59.738770     47.5     72.5\n",
      "Stimulus 22  18.618774      0.0     52.5  59.282227     50.0     72.5\n",
      "Stimulus 23  10.159302      0.0     50.0  45.429688     27.5     65.0\n",
      "Stimulus 24  15.079346      0.0     45.0  52.441406     37.5     62.5\n",
      "Stimulus 25  10.977783      0.0     47.5  41.469727     27.5     57.5\n",
      "Stimulus 26  11.396484      0.0     45.0  46.567383     30.0     62.5\n",
      "Stimulus 27  11.775513      0.0     47.5  46.340332     32.5     62.5\n",
      "Stimulus 28  19.871826      0.0     50.0  61.499023     50.0     75.0\n",
      "Stimulus 29  17.864990      0.0     37.5  57.875977     47.5     67.5\n",
      "Stimulus 30  10.431519      0.0     45.0  43.642578     27.5     62.5\n",
      "Stimulus 31  11.306152      0.0     50.0  45.043945     32.5     60.0\n",
      "Stimulus 32  12.580566      0.0     42.5  49.836426     35.0     62.5\n",
      "Stimulus 33  16.849976      0.0     50.0  55.822754     45.0     67.5\n",
      "Stimulus 34  19.010620      0.0     50.0  59.401855     50.0     70.0\n",
      "Stimulus 35  19.132080      0.0     50.0  59.829102     50.0     70.0\n",
      "Stimulus 36  17.175903      0.0     50.0  56.442871     42.5     67.5\n",
      "Stimulus 37  18.480225      0.0     45.0  58.713379     47.5     70.0\n",
      "Stimulus 38  12.476196      0.0     42.5  47.270508     32.5     62.5\n",
      "Stimulus 39  10.188599      0.0     50.0  41.855469     25.0     57.5\n",
      "\n",
      "\n",
      "Layer 3 \n",
      "               Exc Mean  Exc Min  Exc Max    Inh Mean  Inh Min  Inh Max\n",
      "Stimulus 0   26.318359      2.5     77.5   77.253418     62.5     92.5\n",
      "Stimulus 1   26.538696      0.0     77.5   77.951660     62.5     95.0\n",
      "Stimulus 2   27.044067      2.5     72.5   77.854004     65.0     95.0\n",
      "Stimulus 3   25.647583      2.5     77.5   76.547852     60.0     97.5\n",
      "Stimulus 4   30.164185      2.5     80.0   81.870117     70.0     97.5\n",
      "Stimulus 5   27.113647      2.5     72.5   77.866211     65.0     95.0\n",
      "Stimulus 6   26.148071      0.0     75.0   76.662598     60.0     92.5\n",
      "Stimulus 7   39.563599      5.0     97.5  100.751953     80.0    120.0\n",
      "Stimulus 8   25.358276      2.5     82.5   75.834961     60.0     95.0\n",
      "Stimulus 9   27.749023      5.0     65.0   82.863770     67.5     97.5\n",
      "Stimulus 10  28.225708      0.0     80.0   81.716309     67.5    102.5\n",
      "Stimulus 11  35.855103      0.0    105.0   98.996582     77.5    122.5\n",
      "Stimulus 12  25.438843      0.0     77.5   76.999512     62.5     95.0\n",
      "Stimulus 13  25.747681      0.0     75.0   75.280762     62.5     92.5\n",
      "Stimulus 14  34.996948      2.5    100.0   99.902344     82.5    125.0\n",
      "Stimulus 15  37.008057      2.5    100.0   89.606934     75.0    112.5\n",
      "Stimulus 16  38.694458      2.5    105.0  101.254883     82.5    120.0\n",
      "Stimulus 17  25.269165      0.0     77.5   74.033203     57.5     92.5\n",
      "Stimulus 18  35.061035      0.0    100.0   92.597656     72.5    115.0\n",
      "Stimulus 19  21.483765      2.5     65.0   63.657227     50.0     82.5\n",
      "Stimulus 20  38.434448      2.5    102.5  101.308594     80.0    122.5\n",
      "Stimulus 21  37.071533      0.0    100.0   98.022461     80.0    120.0\n",
      "Stimulus 22  37.450562      2.5     97.5   98.669434     80.0    117.5\n",
      "Stimulus 23  32.348633      7.5     75.0   85.991211     72.5    102.5\n",
      "Stimulus 24  28.568115      2.5     95.0   79.716797     65.0     97.5\n",
      "Stimulus 25  25.773315      0.0     77.5   76.806641     62.5     95.0\n",
      "Stimulus 26  26.098633      2.5     85.0   78.088379     67.5     97.5\n",
      "Stimulus 27  25.156250      0.0     77.5   76.325684     62.5     97.5\n",
      "Stimulus 28  42.660522      0.0    105.0  112.824707     95.0    135.0\n",
      "Stimulus 29  40.746460      5.0    105.0  102.502441     85.0    122.5\n",
      "Stimulus 30  25.211792      2.5     77.5   81.657715     67.5     97.5\n",
      "Stimulus 31  26.184082      2.5     77.5   77.395020     62.5     92.5\n",
      "Stimulus 32  29.971924      5.0     77.5   81.643066     67.5     97.5\n",
      "Stimulus 33  38.613281      2.5     92.5   94.201660     77.5    110.0\n",
      "Stimulus 34  37.807007      2.5     97.5   98.161621     80.0    117.5\n",
      "Stimulus 35  40.405884      0.0     95.0  102.026367     85.0    122.5\n",
      "Stimulus 36  33.774414      2.5     92.5   95.190430     77.5    112.5\n",
      "Stimulus 37  36.079102      2.5     97.5   96.296387     80.0    112.5\n",
      "Stimulus 38  29.198608      5.0     82.5   84.072266     70.0    100.0\n",
      "Stimulus 39  27.745972      2.5     72.5   79.316406     65.0     97.5\n",
      "\n",
      "\n",
      "***Overview***\n",
      "\n",
      "          Exc Mean  Exc Min  Exc Max  Exc Diff   Inh Mean  Inh Min  Inh Max  \\\n",
      "Layer 0   1.964249     50.0    115.0      65.0   2.421326     30.0     70.0   \n",
      "Layer 1   4.657211     37.5     67.5      30.0  18.413513     35.0     50.0   \n",
      "Layer 2  13.821426     37.5     60.0      22.5  49.930908     55.0     75.0   \n",
      "Layer 3  31.218170     65.0    105.0      40.0  86.492981     82.5    135.0   \n",
      "\n",
      "         Inh Diff  \n",
      "Layer 0      40.0  \n",
      "Layer 1      15.0  \n",
      "Layer 2      20.0  \n",
      "Layer 3      52.5   \n",
      "\n",
      "<class 'list'>\n"
     ]
    }
   ],
   "source": [
    "spikes = data.load_spikes_from_subfolders(masterpath, subfolders, extensions, False)\n",
    "\n",
    "rates_subfolders = firing.calculate_rates_subfolder(\n",
    "    spikes,\n",
    "    network_architecture, \n",
    "    info_times)\n",
    "\n",
    "overview.print_firing_rates_tables(rates_subfolders, info_times, subfolders, extensions, True)"
   ]
  },
  {
   "cell_type": "markdown",
   "metadata": {},
   "source": [
    "## Minimal Response to prefered stimulus"
   ]
  },
  {
   "cell_type": "code",
   "execution_count": 80,
   "metadata": {},
   "outputs": [
    {
     "name": "stdout",
     "output_type": "stream",
     "text": [
      "[{'filter': '**d*', 'elements': set(), 'indices': [], 'count': 0}, {'filter': '**c*', 'elements': {'face_13_Happy', 'face_4_Happy', 'face_5_Sad', 'face_11_Sad', 'face_20_Sad', 'face_13_Sad', 'face_12_Sad', 'face_2_Sad', 'face_6_Sad', 'face_17_Sad', 'face_9_Happy', 'face_16_Happy', 'face_18_Happy', 'face_12_Happy', 'face_9_Sad', 'face_7_Happy', 'face_1_Sad', 'face_14_Happy', 'face_4_Sad', 'face_10_Sad', 'face_3_Sad', 'face_18_Sad', 'face_7_Sad', 'face_17_Happy', 'face_1_Happy', 'face_8_Happy', 'face_15_Sad', 'face_6_Happy', 'face_14_Sad', 'face_5_Happy', 'face_19_Sad', 'face_10_Happy', 'face_3_Happy', 'face_19_Happy', 'face_2_Happy', 'face_20_Happy', 'face_15_Happy', 'face_11_Happy', 'face_8_Sad', 'face_16_Sad'}, 'indices': [0, 1, 2, 3, 4, 5, 6, 7, 8, 9, 10, 11, 12, 13, 14, 15, 16, 17, 18, 19, 20, 21, 22, 23, 24, 25, 26, 27, 28, 29, 30, 31, 32, 33, 34, 35, 36, 37, 38, 39], 'count': 40}]\n"
     ]
    },
    {
     "name": "stderr",
     "output_type": "stream",
     "text": [
      "/Users/hakunahahannah/Documents/Projects/Spiking/Analysis/SpikeAnalysisToolbox/spikeAnalysisToolsV2/helper.py:307: RuntimeWarning: invalid value encountered in true_divide\n",
      "  transformed = (data - mean) / sigma\n"
     ]
    },
    {
     "ename": "IndexError",
     "evalue": "only integers, slices (`:`), ellipsis (`...`), numpy.newaxis (`None`) and integer or boolean arrays are valid indices",
     "output_type": "error",
     "traceback": [
      "\u001b[0;31m---------------------------------------------------------------------------\u001b[0m",
      "\u001b[0;31mIndexError\u001b[0m                                Traceback (most recent call last)",
      "\u001b[0;32m<ipython-input-80-0a75ee6db33a>\u001b[0m in \u001b[0;36m<module>\u001b[0;34m()\u001b[0m\n\u001b[1;32m      1\u001b[0m \u001b[0mprint\u001b[0m\u001b[0;34m(\u001b[0m\u001b[0mobject_indices\u001b[0m\u001b[0;34m)\u001b[0m\u001b[0;34m\u001b[0m\u001b[0m\n\u001b[0;32m----> 2\u001b[0;31m \u001b[0mexh_min_objects_before\u001b[0m\u001b[0;34m,\u001b[0m \u001b[0minh_min_objects_before\u001b[0m \u001b[0;34m=\u001b[0m \u001b[0minfo\u001b[0m\u001b[0;34m.\u001b[0m\u001b[0mmin_response_to_one_transform\u001b[0m\u001b[0;34m(\u001b[0m\u001b[0mrates_subfolders\u001b[0m\u001b[0;34m[\u001b[0m\u001b[0;36m0\u001b[0m\u001b[0;34m]\u001b[0m\u001b[0;34m[\u001b[0m\u001b[0;36m0\u001b[0m\u001b[0;34m]\u001b[0m\u001b[0;34m,\u001b[0m \u001b[0mobject_indices\u001b[0m\u001b[0;34m)\u001b[0m\u001b[0;34m\u001b[0m\u001b[0m\n\u001b[0m\u001b[1;32m      3\u001b[0m \u001b[0;34m\u001b[0m\u001b[0m\n\u001b[1;32m      4\u001b[0m \u001b[0mprint\u001b[0m\u001b[0;34m(\u001b[0m\u001b[0;34m\"first Epoch - Minimal response to the sensitive stimulus\"\u001b[0m\u001b[0;34m)\u001b[0m\u001b[0;34m\u001b[0m\u001b[0m\n\u001b[1;32m      5\u001b[0m \u001b[0mspikeplot\u001b[0m\u001b[0;34m.\u001b[0m\u001b[0mshow_activity_in_layers\u001b[0m\u001b[0;34m(\u001b[0m\u001b[0mexh_min_objects_before\u001b[0m\u001b[0;34m,\u001b[0m \u001b[0minh_min_objects_before\u001b[0m\u001b[0;34m,\u001b[0m \u001b[0mcmap\u001b[0m\u001b[0;34m=\u001b[0m\u001b[0;34m'bwr'\u001b[0m\u001b[0;34m)\u001b[0m\u001b[0;34m\u001b[0m\u001b[0m\n",
      "\u001b[0;32m/Users/hakunahahannah/Documents/Projects/Spiking/Analysis/SpikeAnalysisToolbox/spikeAnalysisToolsV2/information_scores.py\u001b[0m in \u001b[0;36mmin_response_to_one_transform\u001b[0;34m(firing_rates, objects)\u001b[0m\n\u001b[1;32m     25\u001b[0m    \u001b[0mz_inh\u001b[0m \u001b[0;34m=\u001b[0m \u001b[0mhelper\u001b[0m\u001b[0;34m.\u001b[0m\u001b[0mz_transform\u001b[0m\u001b[0;34m(\u001b[0m\u001b[0minh_rates\u001b[0m\u001b[0;34m)\u001b[0m\u001b[0;34m\u001b[0m\u001b[0m\n\u001b[1;32m     26\u001b[0m \u001b[0;34m\u001b[0m\u001b[0m\n\u001b[0;32m---> 27\u001b[0;31m    \u001b[0mexh_min_objects\u001b[0m \u001b[0;34m=\u001b[0m \u001b[0mcombine\u001b[0m\u001b[0;34m.\u001b[0m\u001b[0mmin_responses\u001b[0m\u001b[0;34m(\u001b[0m\u001b[0mz_exh\u001b[0m\u001b[0;34m,\u001b[0m \u001b[0mobjects\u001b[0m\u001b[0;34m)\u001b[0m\u001b[0;34m\u001b[0m\u001b[0m\n\u001b[0m\u001b[1;32m     28\u001b[0m    \u001b[0minh_min_objects\u001b[0m \u001b[0;34m=\u001b[0m \u001b[0mcombine\u001b[0m\u001b[0;34m.\u001b[0m\u001b[0mmin_responses\u001b[0m\u001b[0;34m(\u001b[0m\u001b[0mz_inh\u001b[0m\u001b[0;34m,\u001b[0m \u001b[0mobjects\u001b[0m\u001b[0;34m)\u001b[0m\u001b[0;34m\u001b[0m\u001b[0m\n\u001b[1;32m     29\u001b[0m \u001b[0;34m\u001b[0m\u001b[0m\n",
      "\u001b[0;32m/Users/hakunahahannah/Documents/Projects/Spiking/Analysis/SpikeAnalysisToolbox/spikeAnalysisToolsV2/combine_stimuli.py\u001b[0m in \u001b[0;36mmin_responses\u001b[0;34m(responses, list_of_objects)\u001b[0m\n\u001b[1;32m     60\u001b[0m \u001b[0;34m\u001b[0m\u001b[0m\n\u001b[1;32m     61\u001b[0m     \u001b[0;32mfor\u001b[0m \u001b[0mi\u001b[0m\u001b[0;34m,\u001b[0m \u001b[0mobjects\u001b[0m \u001b[0;32min\u001b[0m \u001b[0menumerate\u001b[0m\u001b[0;34m(\u001b[0m\u001b[0mlist_of_objects\u001b[0m\u001b[0;34m)\u001b[0m\u001b[0;34m:\u001b[0m\u001b[0;34m\u001b[0m\u001b[0m\n\u001b[0;32m---> 62\u001b[0;31m         \u001b[0mobject_responses\u001b[0m\u001b[0;34m[\u001b[0m\u001b[0mi\u001b[0m\u001b[0;34m,\u001b[0m \u001b[0;34m:\u001b[0m\u001b[0;34m,\u001b[0m \u001b[0;34m:\u001b[0m\u001b[0;34m]\u001b[0m \u001b[0;34m=\u001b[0m \u001b[0mnp\u001b[0m\u001b[0;34m.\u001b[0m\u001b[0mmin\u001b[0m\u001b[0;34m(\u001b[0m\u001b[0mresponses\u001b[0m\u001b[0;34m[\u001b[0m\u001b[0mobjects\u001b[0m\u001b[0;34m,\u001b[0m \u001b[0;34m:\u001b[0m\u001b[0;34m,\u001b[0m \u001b[0;34m:\u001b[0m\u001b[0;34m]\u001b[0m\u001b[0;34m,\u001b[0m \u001b[0maxis\u001b[0m\u001b[0;34m=\u001b[0m\u001b[0;36m0\u001b[0m\u001b[0;34m)\u001b[0m\u001b[0;34m\u001b[0m\u001b[0m\n\u001b[0m\u001b[1;32m     63\u001b[0m \u001b[0;34m\u001b[0m\u001b[0m\n\u001b[1;32m     64\u001b[0m     \u001b[0mobject_responses\u001b[0m\u001b[0;34m[\u001b[0m\u001b[0mobject_responses\u001b[0m \u001b[0;34m<\u001b[0m \u001b[0;36m0\u001b[0m\u001b[0;34m]\u001b[0m \u001b[0;34m=\u001b[0m \u001b[0;36m0\u001b[0m\u001b[0;34m\u001b[0m\u001b[0m\n",
      "\u001b[0;31mIndexError\u001b[0m: only integers, slices (`:`), ellipsis (`...`), numpy.newaxis (`None`) and integer or boolean arrays are valid indices"
     ]
    }
   ],
   "source": [
    "exh_min_objects_before, inh_min_objects_before = info.min_response_to_one_transform(rates_subfolders[0][0], object_indices)\n",
    "\n",
    "print(\"first Epoch - Minimal response to the sensitive stimulus\")\n",
    "spikeplot.show_activity_in_layers(exh_min_objects_before, inh_min_objects_before, cmap='bwr')"
   ]
  },
  {
   "cell_type": "raw",
   "metadata": {},
   "source": [
    "exh_min_objects_after, inh_min_objects_after = info.min_response_to_one_transform(rates_subfolders[0][1], objects)\n",
    "\n",
    "\n",
    "print(\"last Epoch - Minimal response to the sensitive stimulus\")\n",
    "spikeplot.plot_activity_in_layers(exh_min_objects_after, inh_min_objects_after, cmap='bwr')"
   ]
  },
  {
   "cell_type": "markdown",
   "metadata": {},
   "source": [
    "## Single Cell Information"
   ]
  },
  {
   "cell_type": "code",
   "execution_count": 7,
   "metadata": {
    "scrolled": false
   },
   "outputs": [
    {
     "ename": "IndexError",
     "evalue": "only integers, slices (`:`), ellipsis (`...`), numpy.newaxis (`None`) and integer or boolean arrays are valid indices",
     "output_type": "error",
     "traceback": [
      "\u001b[0;31m---------------------------------------------------------------------------\u001b[0m",
      "\u001b[0;31mIndexError\u001b[0m                                Traceback (most recent call last)",
      "\u001b[0;32m<ipython-input-7-65cd28d5be32>\u001b[0m in \u001b[0;36m<module>\u001b[0;34m()\u001b[0m\n\u001b[0;32m----> 1\u001b[0;31m \u001b[0mexh_info_before\u001b[0m\u001b[0;34m,\u001b[0m \u001b[0minh_info_before\u001b[0m \u001b[0;34m=\u001b[0m \u001b[0minfo\u001b[0m\u001b[0;34m.\u001b[0m\u001b[0mfiring_rates_to_single_cell_information\u001b[0m\u001b[0;34m(\u001b[0m\u001b[0mrates_subfolders\u001b[0m\u001b[0;34m[\u001b[0m\u001b[0;36m0\u001b[0m\u001b[0;34m]\u001b[0m\u001b[0;34m[\u001b[0m\u001b[0;36m0\u001b[0m\u001b[0;34m]\u001b[0m\u001b[0;34m,\u001b[0m \u001b[0mobject_indices\u001b[0m\u001b[0;34m,\u001b[0m \u001b[0mn_bins\u001b[0m\u001b[0;34m=\u001b[0m\u001b[0;36m3\u001b[0m\u001b[0;34m,\u001b[0m \u001b[0mcalc_inhibitory\u001b[0m\u001b[0;34m=\u001b[0m\u001b[0;32mTrue\u001b[0m\u001b[0;34m)\u001b[0m\u001b[0;34m\u001b[0m\u001b[0m\n\u001b[0m\u001b[1;32m      2\u001b[0m \u001b[0mexh_info_before\u001b[0m\u001b[0;34m.\u001b[0m\u001b[0mmax\u001b[0m\u001b[0;34m(\u001b[0m\u001b[0;34m)\u001b[0m\u001b[0;34m\u001b[0m\u001b[0m\n\u001b[1;32m      3\u001b[0m \u001b[0mprint\u001b[0m\u001b[0;34m(\u001b[0m\u001b[0;34m\"first Epoch - Information\"\u001b[0m\u001b[0;34m)\u001b[0m\u001b[0;34m\u001b[0m\u001b[0m\n\u001b[1;32m      4\u001b[0m \u001b[0mspikeplot\u001b[0m\u001b[0;34m.\u001b[0m\u001b[0mshow_activity_in_layers\u001b[0m\u001b[0;34m(\u001b[0m\u001b[0mexh_info_before\u001b[0m\u001b[0;34m,\u001b[0m \u001b[0minh_info_before\u001b[0m\u001b[0;34m,\u001b[0m \u001b[0mcmap\u001b[0m\u001b[0;34m=\u001b[0m\u001b[0;34m'bwr'\u001b[0m\u001b[0;34m)\u001b[0m\u001b[0;34m\u001b[0m\u001b[0m\n",
      "\u001b[0;32m/Users/hakunahahannah/Documents/Projects/Spiking/Analysis/SpikeAnalysisToolbox/spikeAnalysisToolsV2/information_scores.py\u001b[0m in \u001b[0;36mfiring_rates_to_single_cell_information\u001b[0;34m(firing_rates, objects, n_bins, calc_inhibitory)\u001b[0m\n\u001b[1;32m    201\u001b[0m    \"\"\"\n\u001b[1;32m    202\u001b[0m    \u001b[0mexc_rates\u001b[0m\u001b[0;34m,\u001b[0m \u001b[0minh_rates\u001b[0m \u001b[0;34m=\u001b[0m \u001b[0mhelper\u001b[0m\u001b[0;34m.\u001b[0m\u001b[0mnested_list_of_stimuli_2_np\u001b[0m\u001b[0;34m(\u001b[0m\u001b[0mfiring_rates\u001b[0m\u001b[0;34m)\u001b[0m\u001b[0;34m\u001b[0m\u001b[0m\n\u001b[0;32m--> 203\u001b[0;31m    \u001b[0mexc_table\u001b[0m \u001b[0;34m=\u001b[0m \u001b[0mcombine\u001b[0m\u001b[0;34m.\u001b[0m\u001b[0mresponse_freq_table\u001b[0m\u001b[0;34m(\u001b[0m\u001b[0mexc_rates\u001b[0m\u001b[0;34m,\u001b[0m \u001b[0mobjects\u001b[0m\u001b[0;34m,\u001b[0m \u001b[0mn_bins\u001b[0m\u001b[0;34m=\u001b[0m\u001b[0mn_bins\u001b[0m\u001b[0;34m)\u001b[0m\u001b[0;34m\u001b[0m\u001b[0m\n\u001b[0m\u001b[1;32m    204\u001b[0m \u001b[0;34m\u001b[0m\u001b[0m\n\u001b[1;32m    205\u001b[0m    \u001b[0mexc_info\u001b[0m \u001b[0;34m=\u001b[0m \u001b[0msingle_cell_information\u001b[0m\u001b[0;34m(\u001b[0m\u001b[0mexc_table\u001b[0m\u001b[0;34m)\u001b[0m\u001b[0;34m\u001b[0m\u001b[0m\n",
      "\u001b[0;31mIndexError\u001b[0m: only integers, slices (`:`), ellipsis (`...`), numpy.newaxis (`None`) and integer or boolean arrays are valid indices"
     ]
    }
   ],
   "source": [
    "exh_info_before, inh_info_before = info.firing_rates_to_single_cell_information(rates_subfolders[0][0], object_indices, n_bins=3, calc_inhibitory=True)\n",
    "exh_info_before.max()\n",
    "print(\"first Epoch - Information\")\n",
    "spikeplot.show_activity_in_layers(exh_info_before, inh_info_before, cmap='bwr')"
   ]
  },
  {
   "cell_type": "code",
   "execution_count": null,
   "metadata": {
    "collapsed": true
   },
   "outputs": [],
   "source": [
    "spikeplot.plot_ranked_neurons(exh_info_before, \"Information for test with CT \", 500, [\"object 0\", \"object 1\"])"
   ]
  },
  {
   "cell_type": "code",
   "execution_count": 96,
   "metadata": {},
   "outputs": [
    {
     "ename": "IndexError",
     "evalue": "list index out of range",
     "output_type": "error",
     "traceback": [
      "\u001b[0;31m---------------------------------------------------------------------------\u001b[0m",
      "\u001b[0;31mIndexError\u001b[0m                                Traceback (most recent call last)",
      "\u001b[0;32m<ipython-input-96-75bfa97508bb>\u001b[0m in \u001b[0;36m<module>\u001b[0;34m()\u001b[0m\n\u001b[0;32m----> 1\u001b[0;31m \u001b[0mexh_info_after\u001b[0m\u001b[0;34m,\u001b[0m \u001b[0minh_info_after\u001b[0m \u001b[0;34m=\u001b[0m \u001b[0minfo\u001b[0m\u001b[0;34m.\u001b[0m\u001b[0mfiring_rates_to_single_cell_information\u001b[0m\u001b[0;34m(\u001b[0m\u001b[0mrates_subfolders\u001b[0m\u001b[0;34m[\u001b[0m\u001b[0;36m0\u001b[0m\u001b[0;34m]\u001b[0m\u001b[0;34m[\u001b[0m\u001b[0;36m1\u001b[0m\u001b[0;34m]\u001b[0m\u001b[0;34m,\u001b[0m \u001b[0mobject_indices\u001b[0m\u001b[0;34m,\u001b[0m \u001b[0mn_bins\u001b[0m\u001b[0;34m=\u001b[0m\u001b[0;36m3\u001b[0m\u001b[0;34m,\u001b[0m \u001b[0mcalc_inhibitory\u001b[0m\u001b[0;34m=\u001b[0m\u001b[0;32mTrue\u001b[0m\u001b[0;34m)\u001b[0m\u001b[0;34m\u001b[0m\u001b[0m\n\u001b[0m\u001b[1;32m      2\u001b[0m \u001b[0mprint\u001b[0m\u001b[0;34m(\u001b[0m\u001b[0;34m\"last Epoch - Information\"\u001b[0m\u001b[0;34m)\u001b[0m\u001b[0;34m\u001b[0m\u001b[0m\n\u001b[1;32m      3\u001b[0m \u001b[0mspikeplot\u001b[0m\u001b[0;34m.\u001b[0m\u001b[0mplot_ranked_neurons\u001b[0m\u001b[0;34m(\u001b[0m\u001b[0mexh_info_after\u001b[0m\u001b[0;34m,\u001b[0m \u001b[0;34m\"Information for test with unseen \"\u001b[0m\u001b[0;34m,\u001b[0m \u001b[0;36m500\u001b[0m\u001b[0;34m,\u001b[0m \u001b[0;34m[\u001b[0m\u001b[0;34m\"object 0\"\u001b[0m\u001b[0;34m,\u001b[0m \u001b[0;34m\"object 1\"\u001b[0m\u001b[0;34m]\u001b[0m\u001b[0;34m)\u001b[0m\u001b[0;34m\u001b[0m\u001b[0m\n\u001b[1;32m      4\u001b[0m \u001b[0mspikeplot\u001b[0m\u001b[0;34m.\u001b[0m\u001b[0mshow_activity_in_layers\u001b[0m\u001b[0;34m(\u001b[0m\u001b[0mexh_info_after\u001b[0m\u001b[0;34m,\u001b[0m \u001b[0minh_info_after\u001b[0m\u001b[0;34m,\u001b[0m \u001b[0mcmap\u001b[0m\u001b[0;34m=\u001b[0m\u001b[0;34m'bwr'\u001b[0m\u001b[0;34m)\u001b[0m\u001b[0;34m\u001b[0m\u001b[0m\n",
      "\u001b[0;31mIndexError\u001b[0m: list index out of range"
     ]
    }
   ],
   "source": [
    "exh_info_after, inh_info_after = info.firing_rates_to_single_cell_information(rates_subfolders[0][1], object_indices, n_bins=3, calc_inhibitory=True)\n",
    "print(\"last Epoch - Information\")\n",
    "spikeplot.plot_ranked_neurons(exh_info_after, \"Information for test with unseen \", 500, [\"object 0\", \"object 1\"])\n",
    "spikeplot.show_activity_in_layers(exh_info_after, inh_info_after, cmap='bwr')\n"
   ]
  },
  {
   "cell_type": "code",
   "execution_count": null,
   "metadata": {
    "collapsed": true
   },
   "outputs": [],
   "source": [
    "spikeplot.plot_information_measure_advancement(exh_info_before, exh_info_after)"
   ]
  },
  {
   "cell_type": "markdown",
   "metadata": {},
   "source": [
    "## Average response to prefered Object (as multiple of std)"
   ]
  },
  {
   "cell_type": "code",
   "execution_count": null,
   "metadata": {
    "collapsed": true
   },
   "outputs": [],
   "source": [
    "exh_avg_higher_response, inh_avg_higher_response = info.average_higher_z_response_to_object(rates_subfolders[0][0], object_indices, 0)\n",
    "print(exh_info_before.max())\n",
    "print(\"first Epoch - Information\")\n",
    "spikeplot.show_activity_in_layers(exh_avg_higher_response, inh_avg_higher_response, cmap='bwr')"
   ]
  },
  {
   "cell_type": "code",
   "execution_count": null,
   "metadata": {
    "collapsed": true
   },
   "outputs": [],
   "source": [
    "print(exh_avg_higher_response.shape)\n",
    "spikeplot.plot_ranked_neurons(exh_avg_higher_response, \"Higher response for object: \", 100, [\"object 0\", \"object 1\"])"
   ]
  },
  {
   "cell_type": "markdown",
   "metadata": {},
   "source": [
    "# Probability of NOT drawing these samples from the same distribution"
   ]
  },
  {
   "cell_type": "code",
   "execution_count": null,
   "metadata": {
    "collapsed": true
   },
   "outputs": [],
   "source": [
    "exc_t_p, inh_t_p = info.t_test_p_value(rates_subfolders[0][0], object_indices)\n",
    "spikeplot.show_activity_in_layers(exc_t_p, inh_t_p, cmap='bwr')"
   ]
  },
  {
   "cell_type": "code",
   "execution_count": null,
   "metadata": {
    "collapsed": true
   },
   "outputs": [],
   "source": [
    "print(exc_t_p.max())\n",
    "spikeplot.plot_ranked_neurons(exc_t_p, \"Probability of not beeing from the same distribution: \", 1000, [\"1-p\"], vmin=0.9999999999999999)"
   ]
  },
  {
   "cell_type": "markdown",
   "metadata": {},
   "source": [
    "# Mutual Information"
   ]
  },
  {
   "cell_type": "code",
   "execution_count": null,
   "metadata": {
    "collapsed": true
   },
   "outputs": [],
   "source": [
    "exc_mutual, inh_mutual = info.firing_rates_to_mutual_information(rates_subfolders[0][0], object_indices, n_bins=3, calc_inhibitory=True)\n",
    "spikeplot.show_activity_in_layers(exc_mutual, inh_mutual, cmap='bwr')"
   ]
  },
  {
   "cell_type": "code",
   "execution_count": null,
   "metadata": {
    "collapsed": true
   },
   "outputs": [],
   "source": [
    "spikeplot.plot_ranked_neurons(inh_mutual, \"Top neurons ranked for mutual information\", 100, [\"mutual information\"])"
   ]
  },
  {
   "cell_type": "code",
   "execution_count": null,
   "metadata": {
    "collapsed": true
   },
   "outputs": [],
   "source": []
  }
 ],
 "metadata": {
  "kernelspec": {
   "display_name": "Python 3",
   "language": "python",
   "name": "python3"
  },
  "language_info": {
   "codemirror_mode": {
    "name": "ipython",
    "version": 3
   },
   "file_extension": ".py",
   "mimetype": "text/x-python",
   "name": "python",
   "nbconvert_exporter": "python",
   "pygments_lexer": "ipython3",
   "version": "3.6.1"
  }
 },
 "nbformat": 4,
 "nbformat_minor": 2
}
