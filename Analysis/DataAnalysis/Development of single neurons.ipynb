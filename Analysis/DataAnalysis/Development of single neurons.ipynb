{
 "cells": [
  {
   "cell_type": "code",
   "execution_count": 1,
   "metadata": {},
   "outputs": [],
   "source": [
    "import numpy as np\n",
    "import sys\n",
    "\n",
    "import matplotlib.pyplot as plt\n",
    "%matplotlib inline\n",
    "\n",
    "sys.path.append(\"/Users/clemens/Documents/Code/AnalysisToolbox\")\n",
    "\n",
    "import spikeAnalysisToolsV2.data_loading as data\n",
    "import spikeAnalysisToolsV2.firing_rates as firing\n",
    "import spikeAnalysisToolsV2.helper as helper\n",
    "import spikeAnalysisToolsV2.overviews as overview\n",
    "import spikeAnalysisToolsV2.information_scores as info\n",
    "import spikeAnalysisToolsV2.plotting as spikeplot\n",
    "import spikeAnalysisToolsV2.combine_stimuli as combine\n",
    "import spikeAnalysisToolsV2.synapse_analysis as synapse_analysis"
   ]
  },
  {
   "cell_type": "code",
   "execution_count": 3,
   "metadata": {},
   "outputs": [],
   "source": [
    "## set the Masterpath to the folder where your output is saved\n",
    "\n",
    "masterpath = \"/Users/clemens/Documents/Code/ModelClemens/output\"\n",
    "## set the subfolder to the Simulation you want to analyse \n",
    "\n",
    "subfolders = [\n",
    "    \"12_10-21_59_all_CT\"\n",
    "            ]\n",
    "## if more than the inital epoch is needed *1 needs to be run\n",
    "extensions = [\"initial\"] + data.get_epochs(masterpath+\"/\"+subfolders[0])[::3]\n",
    "\n",
    "object_list_old = data.load_testing_stimuli_info(masterpath+ \"/\" + subfolders[0]) #assuming all the subfolders have the same\n",
    "n_stimuli = np.sum(obj['count'] for obj in object_list_old)\n",
    "\n",
    "\n",
    "# info_neurons is just an array of the information from above. This makes it easier to run the functions and pass the information. \n",
    "# info_times same for times\n",
    "network_architecture = dict(\n",
    "    num_exc_neurons_per_layer = 64*64,\n",
    "    num_inh_neurons_per_layer = 32*32,\n",
    "    num_layers = 4\n",
    ")\n",
    "\n",
    "info_times = dict(\n",
    "    length_of_stimulus = 2.0,\n",
    "    num_stimuli = n_stimuli,\n",
    "    time_start = 1.5,\n",
    "    time_end = 1.9\n",
    ")\n"
   ]
  },
  {
   "cell_type": "code",
   "execution_count": 4,
   "metadata": {},
   "outputs": [],
   "source": [
    "object_list_shape = data.load_testing_stimuli_indices_from_wildcarts(masterpath+\"/\" + subfolders[0], [\"***r\", \"***l\"])\n",
    "object_indices_shape = [o['indices'] for o in object_list_shape]\n",
    "\n",
    "object_indices = object_indices_shape"
   ]
  },
  {
   "cell_type": "code",
   "execution_count": null,
   "metadata": {},
   "outputs": [
    {
     "name": "stdout",
     "output_type": "stream",
     "text": [
      "Start\n"
     ]
    }
   ],
   "source": [
    "spikes = data.load_spikes_from_subfolders(masterpath, subfolders, extensions, False)\n",
    "print(\"loading spikes done\")\n",
    "\n",
    "rates_subfolders = firing.calculate_rates_subfolder(\n",
    "    spikes,\n",
    "    network_architecture, \n",
    "    info_times)\n",
    "spikes = None\n",
    "\n",
    "exc_rates, inh_rates = helper.nested_list_of_epochs_2_np(rates_subfolders[0])\n",
    "\n",
    "exc_info, inh_info = info.information_all_epochs(rates_subfolders[0], 'mutual_info', objects=object_indices, n_bins=3)\n",
    "rates_subfolders = None\n",
    "print(exc_info.shape)\n",
    "\n",
    "exc_rates_objects = combine.average_responses(exc_rates, object_indices, 1)\n",
    "inh_rates_objects = combine.average_responses(inh_rates, object_indices, 1)\n",
    "\n",
    "exc_rates = None\n",
    "inh_rates = None\n",
    "\n",
    "# Network Architecture\n",
    "net, weights = data.load_weights_all_epochs(masterpath+\"/\"+subfolders[0], extensions[1:])\n",
    "mask = synapse_analysis.Synapse_Mask(network_architecture, net)\n",
    "\n",
    "print(\".../done\")"
   ]
  },
  {
   "cell_type": "code",
   "execution_count": null,
   "metadata": {},
   "outputs": [],
   "source": [
    "spikeplot.plot_information_development(exc_info, mean_of_top_n=1000, threshold=0.9)"
   ]
  },
  {
   "cell_type": "markdown",
   "metadata": {},
   "source": [
    "# Development of Average Firing rates\n",
    "### Overall Average Firing Rate within Layer"
   ]
  },
  {
   "cell_type": "code",
   "execution_count": null,
   "metadata": {},
   "outputs": [],
   "source": [
    "print(exc_rates_objects.shape)\n",
    "spikeplot.plot_development_for_object(np.mean(exc_rates_objects, axis=3), \"Excitatory Average FR\")\n",
    "spikeplot.plot_development_for_object(np.mean(inh_rates_objects, axis=3), \"Inhibitory Average FR\")"
   ]
  },
  {
   "cell_type": "markdown",
   "metadata": {},
   "source": [
    "### Average Firing Rate For Informative neurons"
   ]
  },
  {
   "cell_type": "code",
   "execution_count": null,
   "metadata": {},
   "outputs": [],
   "source": [
    "neuron_informative = np.any(exc_info > 0.5, axis=0)\n",
    "print(exc_rates_objects.shape)\n",
    "\n",
    "\n",
    "mean_informative_neurons = np.empty(exc_rates_objects.shape[:3])\n",
    "\n",
    "for l in range(mean_informative_neurons.shape[2]): # go threw layers\n",
    "    mean_informative_neurons[:, :, l] = np.mean(exc_rates_objects[:, :, l, neuron_informative[0, l, :]], axis=2)\n",
    "\n",
    "# Neurons that at any time had information >0.5\n",
    "# Has shape layer, neuron\n",
    "#informative_layers, informative_neurons = np.where(neuron_informative)\n",
    "\n",
    "#print(exc_rates_objects)\n",
    "#print(exc_rates_objects[:, :, informative_layers, infor].shape)\n",
    "mean_informative_neurons[np.isnan(mean_informative_neurons)] = 0\n",
    "\n",
    "spikeplot.plot_development_for_object(mean_informative_neurons, \"Excitatory Average FR for informative neurons\")"
   ]
  },
  {
   "cell_type": "code",
   "execution_count": null,
   "metadata": {},
   "outputs": [],
   "source": [
    "neuron_not_informative = np.invert(neuron_informative)\n",
    "print(exc_rates_objects.shape)\n",
    "\n",
    "\n",
    "mean_not_informative_neurons = np.empty(exc_rates_objects.shape[:3])\n",
    "\n",
    "for l in range(mean_not_informative_neurons.shape[2]): # go threw layers\n",
    "    mean_not_informative_neurons[:, :, l] = np.mean(exc_rates_objects[:, :, l, neuron_not_informative[0, l, :]], axis=2)\n",
    "\n",
    "spikeplot.plot_development_for_object(mean_not_informative_neurons, \"Excitatory Average FR for UN-informative neurons\")"
   ]
  },
  {
   "cell_type": "markdown",
   "metadata": {},
   "source": [
    "# Finding interesting neurons"
   ]
  },
  {
   "cell_type": "code",
   "execution_count": null,
   "metadata": {},
   "outputs": [],
   "source": [
    "layer = 3\n",
    "epoch_in_which_to_max = 70\n",
    "\n",
    "decreasing_indices = np.argsort(exc_info, axis=3)[:,:, :, ::-1]\n",
    "target_n = decreasing_indices[epoch_in_which_to_max, 0, layer, 0]\n"
   ]
  },
  {
   "cell_type": "code",
   "execution_count": null,
   "metadata": {},
   "outputs": [],
   "source": []
  },
  {
   "cell_type": "code",
   "execution_count": null,
   "metadata": {},
   "outputs": [],
   "source": []
  },
  {
   "cell_type": "markdown",
   "metadata": {},
   "source": [
    "# Information vs Firing Rate"
   ]
  },
  {
   "cell_type": "code",
   "execution_count": null,
   "metadata": {},
   "outputs": [],
   "source": [
    "# info all neurons\n",
    "# firing rate for all objects and all neurons plot them\n",
    "# maybe with sum of incoming weights\n",
    "# maybe with animated historgram of incomming weights."
   ]
  },
  {
   "cell_type": "code",
   "execution_count": null,
   "metadata": {},
   "outputs": [],
   "source": [
    "n_obj = exc_rates_objects.shape[1]\n",
    "def plot_neuron(pos, rate_average=True):\n",
    "    layer, neuron_id = pos\n",
    "    \n",
    "    fig = plt.figure(figsize=(15,12))\n",
    "    ax = fig.add_subplot(1,2,1)\n",
    "    ax.set_title(\"Neuron {}\".format(pos))\n",
    "    \n",
    "    overall_id = helper.position_to_id(pos, True, network_architecture)\n",
    "    \n",
    "    incoming_exc_mask = np.logical_and(np.invert(mask.inh_lateral()), (net.post.values == overall_id) )\n",
    "    incoming_inh_mask = np.logical_and(mask.inh_lateral(), net.post.values == overall_id)\n",
    "    incoming_weights = weights[:, incoming_exc_mask]\n",
    "    mean_w = np.mean(incoming_weights, axis=1)\n",
    "    \n",
    "    # plot information dev\n",
    "    ax.plot(exc_info[:, 0, layer, neuron_id], label=\"information development\")\n",
    "    \n",
    "    # weight dev\n",
    "    ax.plot(mean_w, label=\"Mean incomming exc weights\")\n",
    "    \n",
    "    \n",
    "    if rate_average:\n",
    "        # average rates of this neuron\n",
    "        rates_neuron = exc_rates_objects[:, :, layer, neuron_id]\n",
    "        max_rate_neuron = np.max(rates_neuron)\n",
    "        rates_neuron /= max_rate_neuron\n",
    "    \n",
    "        for obj in range(n_obj):\n",
    "            ax.plot(rates_neuron[:, obj], label=\"FR to obj {} /={:.2f}\".format(obj, max_rate_neuron))\n",
    "    else:\n",
    "        # scatter the indivividual firing rates for each presentation\n",
    "        n_epochs = exc_info.shape[0]\n",
    "        \n",
    "        max_rate = np.max(exc_rates[:, :, layer, neuron_id])\n",
    "        \n",
    "        for i, obj in enumerate(object_indices):\n",
    "            firing_rates = exc_rates[:, obj, layer, neuron_id].flatten('C')/max_rate\n",
    "            epoch_numbers = np.repeat(np.arange(n_epochs), len(obj))\n",
    "            #print(epoch_numbers.shape)\n",
    "            #print(firing_rates.shape)\n",
    "            plt.scatter(epoch_numbers, firing_rates, marker='.', label=\"FR to obj {} /= {:.2f}\".format(i, max_rate))    \n",
    "    ax.legend()\n",
    "    \n",
    "    ax2 = fig.add_subplot(1,2,2)\n",
    "    ax2.set_title(\"Neuron {} - Currents\".format(pos))\n",
    "    print(weights.shape)\n",
    "    print(exc_rates_objects.shape)\n",
    "    exc_current = synapse_analysis.weighted_presynaptic_actvity(incoming_exc_mask, net, weights, (exc_rates_objects, inh_rates_objects))\n",
    "    inh_current = synapse_analysis.weighted_presynaptic_actvity(incoming_inh_mask, net, weights, (exc_rates_objects, inh_rates_objects))\n",
    "    \n",
    "    obj=0\n",
    "    ax2.plot(exc_current[:, obj], color='C2', label=\"Excitatory obj {}\".format(obj))\n",
    "    ax2.plot(-inh_current[:, obj], color='green', label=\"Inhibitory obj {}\".format(obj))\n",
    "    obj=1\n",
    "    ax2.plot(exc_current[:, obj], color='C3', label=\"Excitatory obj {}\".format(obj))\n",
    "    ax2.plot(-inh_current[:, obj], color='red', label=\"Inhibitory obj {}\".format(obj))\n",
    "        \n",
    "    ax2.legend()\n",
    "    \n",
    "    "
   ]
  },
  {
   "cell_type": "code",
   "execution_count": null,
   "metadata": {},
   "outputs": [],
   "source": [
    "target_n = decreasing_indices[epoch_in_which_to_max, 0, layer, 0]\n",
    "\n",
    "\n",
    "# Nice Neuron: L 2, N 1428\n",
    "neuron_pos = (layer, target_n)\n",
    "plot_neuron(neuron_pos, True)"
   ]
  },
  {
   "cell_type": "code",
   "execution_count": null,
   "metadata": {},
   "outputs": [],
   "source": [
    "target_n = decreasing_indices[epoch_in_which_to_max, 0, layer, 1]\n",
    "\n",
    "\n",
    "# Nice Neuron: L 2, N 1428\n",
    "neuron_pos = (layer, target_n)\n",
    "plot_neuron(neuron_pos, True)"
   ]
  },
  {
   "cell_type": "code",
   "execution_count": null,
   "metadata": {},
   "outputs": [],
   "source": [
    "target_n = decreasing_indices[epoch_in_which_to_max, 0, layer, 2]\n",
    "\n",
    "\n",
    "# Nice Neuron: L 2, N 1428\n",
    "neuron_pos = (layer, target_n)\n",
    "plot_neuron(neuron_pos, True)"
   ]
  },
  {
   "cell_type": "code",
   "execution_count": null,
   "metadata": {},
   "outputs": [],
   "source": [
    "target_n = decreasing_indices[epoch_in_which_to_max, 0, layer, 3]\n",
    "\n",
    "\n",
    "# Nice Neuron: L 2, N 1428\n",
    "neuron_pos = (layer, target_n)\n",
    "plot_neuron(neuron_pos, True)"
   ]
  },
  {
   "cell_type": "code",
   "execution_count": null,
   "metadata": {},
   "outputs": [],
   "source": [
    "target_n = decreasing_indices[epoch_in_which_to_max, 0, layer, 4]\n",
    "\n",
    "\n",
    "# Nice Neuron: L 2, N 1428\n",
    "neuron_pos = (layer, target_n)\n",
    "plot_neuron(neuron_pos, True)"
   ]
  },
  {
   "cell_type": "code",
   "execution_count": null,
   "metadata": {},
   "outputs": [],
   "source": [
    "target_n = decreasing_indices[epoch_in_which_to_max, 0, layer, 5]\n",
    "\n",
    "\n",
    "# Nice Neuron: L 2, N 1428\n",
    "neuron_pos = (layer, target_n)\n",
    "plot_neuron(neuron_pos, True)"
   ]
  },
  {
   "cell_type": "code",
   "execution_count": null,
   "metadata": {},
   "outputs": [],
   "source": [
    "target_n = decreasing_indices[epoch_in_which_to_max, 0, layer, 70]\n",
    "\n",
    "\n",
    "# Nice Neuron: L 2, N 1428\n",
    "neuron_pos = (layer, target_n)\n",
    "plot_neuron(neuron_pos)"
   ]
  },
  {
   "cell_type": "code",
   "execution_count": null,
   "metadata": {},
   "outputs": [],
   "source": []
  },
  {
   "cell_type": "code",
   "execution_count": null,
   "metadata": {},
   "outputs": [],
   "source": []
  },
  {
   "cell_type": "code",
   "execution_count": null,
   "metadata": {},
   "outputs": [],
   "source": []
  }
 ],
 "metadata": {
  "kernelspec": {
   "display_name": "myscipy",
   "language": "python",
   "name": "myscipy"
  },
  "language_info": {
   "codemirror_mode": {
    "name": "ipython",
    "version": 3
   },
   "file_extension": ".py",
   "mimetype": "text/x-python",
   "name": "python",
   "nbconvert_exporter": "python",
   "pygments_lexer": "ipython3",
   "version": "3.6.3"
  }
 },
 "nbformat": 4,
 "nbformat_minor": 2
}
