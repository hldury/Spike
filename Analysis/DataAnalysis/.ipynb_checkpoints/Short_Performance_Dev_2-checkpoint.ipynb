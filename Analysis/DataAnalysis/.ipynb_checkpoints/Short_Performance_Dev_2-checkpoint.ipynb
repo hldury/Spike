{
 "cells": [
  {
   "cell_type": "code",
   "execution_count": 1,
   "metadata": {
    "collapsed": true
   },
   "outputs": [],
   "source": [
    "import os\n",
    "import numpy as np\n",
    "import sys\n",
    "from timeit import default_timer as timer\n",
    "\n",
    "sys.path.append(\"/Users/hakunahahannah/Documents/Projects/Spiking3.0/Analysis/SpikeAnalysisToolbox/\")\n",
    "\n",
    "import spikeAnalysisToolsV2.data_loading as data\n",
    "import spikeAnalysisToolsV2.firing_rates as firing\n",
    "import spikeAnalysisToolsV2.helper as helper\n",
    "import spikeAnalysisToolsV2.overviews as overview\n",
    "import spikeAnalysisToolsV2.information_scores as info\n",
    "import spikeAnalysisToolsV2.plotting as spikeplot\n",
    "import spikeAnalysisToolsV2.combine_stimuli as combine\n",
    "\n",
    "\n",
    "#set the masterpath to where the output is saved\n",
    "masterpath = \"/Users/hakunahahannah/Documents/Projects/Spiking3.0/Build/output\"\n",
    "\n",
    "#subfolders = [\"20Ex20Id_dakota\"+stringC+\"tauC\"+stringD+\"tauD_230_epochs\"]\n",
    "subfolders = [\"obj150face450_dakota_230_epochs\"]\n",
    "## if more than the inital epoch is needed *1 needs to be run\n",
    "extensions = [\"initial\"] + data.get_epochs(masterpath+\"/\"+subfolders[0])\n"
   ]
  },
  {
   "cell_type": "code",
   "execution_count": 3,
   "metadata": {},
   "outputs": [
    {
     "name": "stdout",
     "output_type": "stream",
     "text": [
      "['initial']\n",
      "[{'count': 150, 'elements': {'download-162', 'download-60', 'download-1', 'download-70', 'download-138', 'download-53', 'download-166', 'download-47', 'download-43', 'download-150', 'download-18', 'download-27', 'download-41', 'download-173', 'download-49', 'download-62', 'download-121', 'download-171', 'download-35', 'download-40', 'download-58', 'download-28', 'download-125', 'download-167', 'download-88', 'download-81', 'download-123', 'download-159', 'download-142', 'download-126', 'download-163', 'download-89', 'download-112', 'download-119', 'download-78', 'download-141', 'download-87', 'download-16', 'download-33', 'download-45', 'download-50', 'download-98', 'download-2', 'download-80', 'download-23', 'download-170', 'download-20', 'download-155', 'download-65', 'download-48', 'download-9', 'download-113', 'download-74', 'download-129', 'download-79', 'download-92', 'download-102', 'download-145', 'download-34', 'download-25', 'download-146', 'download-172', 'download-107', 'download-56', 'download-7', 'download-84', 'download-157', 'download-154', 'download-64', 'download-83', 'download-68', 'download-101', 'download-76', 'download-144', 'download-165', 'download-52', 'download-160', 'download-12', 'download-32', 'download-106', 'download-169', 'download-72', 'download-91', 'download-46', 'download-152', 'download-63', 'download-19', 'download-93', 'download-99', 'download-13', 'download-111', 'download-139', 'download-148', 'download-156', 'download-15', 'download-86', 'download-117', 'download-140', 'download-147', 'download-151', 'download-108', 'download-31', 'download-11', 'download-42', 'download-103', 'download-132', 'download-44', 'download-135', 'download-136', 'download-96', 'download-39', 'download-67', 'download-51', 'download-82', 'download-161', 'download-36', 'download-37', 'download-94', 'download-24', 'download-143', 'download-104', 'download-122', 'download-10', 'download-14', 'download-90', 'download-109', 'download-17', 'download-75', 'download-168', 'download-105', 'download-149', 'download-100', 'download-69', 'download-116', 'download-77', 'download-133', 'download-137', 'download-59', 'download-30', 'download-97', 'download-120', 'download-38', 'download-21', 'download-114', 'download-5', 'download-128', 'download-134', 'download-115', 'download-66', 'download-8'}, 'indices': [0, 1, 2, 3, 4, 5, 6, 7, 8, 9, 10, 11, 12, 13, 14, 15, 16, 17, 18, 19, 20, 21, 22, 23, 24, 25, 26, 27, 28, 29, 30, 31, 32, 33, 34, 35, 36, 37, 38, 39, 40, 41, 42, 43, 44, 45, 46, 47, 48, 49, 50, 51, 52, 53, 54, 55, 56, 57, 58, 59, 60, 61, 62, 63, 64, 65, 66, 67, 68, 69, 70, 71, 72, 73, 74, 75, 76, 77, 78, 79, 80, 81, 82, 83, 84, 85, 86, 87, 88, 89, 90, 91, 92, 93, 94, 95, 96, 97, 98, 99, 100, 101, 102, 103, 104, 105, 106, 107, 108, 109, 110, 111, 112, 113, 114, 115, 116, 117, 118, 119, 120, 121, 122, 123, 124, 125, 126, 127, 128, 129, 130, 131, 132, 133, 134, 135, 136, 137, 138, 139, 140, 141, 142, 143, 144, 145, 146, 147, 148, 149]}, {'count': 150, 'elements': {'face149', 'face12', 'face97', 'face10', 'face2', 'face47', 'face13', 'face33', 'face105', 'face95', 'face79', 'face98', 'face127', 'face46', 'face96', 'face139', 'face108', 'face150', 'face142', 'face124', 'face44', 'face137', 'face28', 'face110', 'face146', 'face94', 'face92', 'face101', 'face54', 'face18', 'face32', 'face125', 'face128', 'face138', 'face91', 'face60', 'face53', 'face119', 'face4', 'face77', 'face130', 'face16', 'face40', 'face106', 'face20', 'face116', 'face14', 'face132', 'face134', 'face81', 'face30', 'face109', 'face122', 'face126', 'face5', 'face121', 'face62', 'face82', 'face78', 'face63', 'face111', 'face113', 'face69', 'face23', 'face35', 'face74', 'face73', 'face9', 'face31', 'face115', 'face29', 'face136', 'face71', 'face129', 'face114', 'face117', 'face6', 'face41', 'face67', 'face21', 'face86', 'face123', 'face65', 'face88', 'face17', 'face24', 'face99', 'face3', 'face1', 'face36', 'face100', 'face50', 'face75', 'face64', 'face42', 'face143', 'face107', 'face80', 'face34', 'face61', 'face66', 'face56', 'face26', 'face93', 'face112', 'face38', 'face48', 'face68', 'face140', 'face45', 'face58', 'face76', 'face87', 'face43', 'face131', 'face103', 'face135', 'face147', 'face27', 'face83', 'face89', 'face7', 'face15', 'face84', 'face52', 'face57', 'face85', 'face37', 'face102', 'face22', 'face120', 'face148', 'face70', 'face49', 'face90', 'face19', 'face55', 'face51', 'face118', 'face8', 'face141', 'face72', 'face25', 'face144', 'face104', 'face39', 'face133', 'face11', 'face145', 'face59'}, 'indices': [150, 151, 152, 153, 154, 155, 156, 157, 158, 159, 160, 161, 162, 163, 164, 165, 166, 167, 168, 169, 170, 171, 172, 173, 174, 175, 176, 177, 178, 179, 180, 181, 182, 183, 184, 185, 186, 187, 188, 189, 190, 191, 192, 193, 194, 195, 196, 197, 198, 199, 200, 201, 202, 203, 204, 205, 206, 207, 208, 209, 210, 211, 212, 213, 214, 215, 216, 217, 218, 219, 220, 221, 222, 223, 224, 225, 226, 227, 228, 229, 230, 231, 232, 233, 234, 235, 236, 237, 238, 239, 240, 241, 242, 243, 244, 245, 246, 247, 248, 249, 250, 251, 252, 253, 254, 255, 256, 257, 258, 259, 260, 261, 262, 263, 264, 265, 266, 267, 268, 269, 270, 271, 272, 273, 274, 275, 276, 277, 278, 279, 280, 281, 282, 283, 284, 285, 286, 287, 288, 289, 290, 291, 292, 293, 294, 295, 296, 297, 298, 299]}]\n"
     ]
    }
   ],
   "source": [
    "#too many epochs makes this computation too large; pick every 10th epoch or so\n",
    "extensions = extensions[::23]\n",
    "print(extensions)\n",
    "\n",
    "object_list = data.load_testing_stimuli_info(masterpath+\"/\" + subfolders[0]) \n",
    "print(object_list)\n",
    "n_stimuli = np.sum(obj['count'] for obj in object_list)\n",
    "object_indices = [obj['indices'] for obj in object_list]\n",
    "\n",
    "stimuli_names = data.load_testing_stimuli_names(masterpath+\"/\" + subfolders[0])\n",
    "stimulus_ids = dict()\n",
    "for i, obj in enumerate(stimuli_names):\n",
    "    cur_list = stimulus_ids.get(obj, None)\n",
    "    if cur_list is None:\n",
    "        stimulus_ids[obj] = [i,]\n",
    "    else:\n",
    "        stimulus_ids[obj].append(i)"
   ]
  },
  {
   "cell_type": "code",
   "execution_count": 4,
   "metadata": {
    "collapsed": true
   },
   "outputs": [],
   "source": [
    "# info_neurons is just an array of the information from above. This makes it easier to run the functions and pass the information. \n",
    "# info_times same for times\n",
    "network_architecture = dict(\n",
    "    num_exc_neurons_per_layer = 64*64,\n",
    "    num_inh_neurons_per_layer = 32*32,\n",
    "    num_layers = 4\n",
    ")\n",
    "\n",
    "info_times = dict(\n",
    "    length_of_stimulus = 2.0,\n",
    "    num_stimuli = n_stimuli,\n",
    "    time_start = 1.5,\n",
    "    time_end = 1.9\n",
    ")"
   ]
  },
  {
   "cell_type": "code",
   "execution_count": 5,
   "metadata": {},
   "outputs": [
    {
     "name": "stdout",
     "output_type": "stream",
     "text": [
      "Start\n",
      "loading done\n"
     ]
    },
    {
     "ename": "ValueError",
     "evalue": "cannot convert float NaN to integer",
     "output_type": "error",
     "traceback": [
      "\u001b[0;31m---------------------------------------------------------------------------\u001b[0m",
      "\u001b[0;31mRemoteTraceback\u001b[0m                           Traceback (most recent call last)",
      "\u001b[0;31mRemoteTraceback\u001b[0m: \n\"\"\"\nTraceback (most recent call last):\n  File \"/Applications/anaconda/lib/python3.6/multiprocessing/pool.py\", line 119, in worker\n    result = (True, func(*args, **kwds))\n  File \"/Applications/anaconda/lib/python3.6/multiprocessing/pool.py\", line 44, in mapstar\n    return list(map(*args))\n  File \"/Users/hakunahahannah/Documents/Projects/Spiking/Analysis/SpikeAnalysisToolbox/spikeAnalysisToolsV2/firing_rates.py\", line 332, in __call__\n    return self.function(input, *self.args)\n  File \"/Users/hakunahahannah/Documents/Projects/Spiking/Analysis/SpikeAnalysisToolbox/spikeAnalysisToolsV2/firing_rates.py\", line 257, in stimuli_and_layerwise_firing_rates\n    spikes_in_stimuli = helper.splitstimuli(spikes, length_of_stimulus)\n  File \"/Users/hakunahahannah/Documents/Projects/Spiking/Analysis/SpikeAnalysisToolbox/spikeAnalysisToolsV2/helper.py\", line 16, in splitstimuli\n    num_stimuli = int(np.ceil(np.max(spikes.times) / stimduration))\nValueError: cannot convert float NaN to integer\n\"\"\"",
      "\nThe above exception was the direct cause of the following exception:\n",
      "\u001b[0;31mValueError\u001b[0m                                Traceback (most recent call last)",
      "\u001b[0;32m<ipython-input-5-3cbf9ec80302>\u001b[0m in \u001b[0;36m<module>\u001b[0;34m()\u001b[0m\n\u001b[1;32m      5\u001b[0m     \u001b[0mspikes\u001b[0m\u001b[0;34m,\u001b[0m\u001b[0;34m\u001b[0m\u001b[0m\n\u001b[1;32m      6\u001b[0m     \u001b[0mnetwork_architecture\u001b[0m\u001b[0;34m,\u001b[0m\u001b[0;34m\u001b[0m\u001b[0m\n\u001b[0;32m----> 7\u001b[0;31m     info_times)\n\u001b[0m\u001b[1;32m      8\u001b[0m \u001b[0mprint\u001b[0m\u001b[0;34m(\u001b[0m\u001b[0;34m\"Multiprocessing version took {}\"\u001b[0m\u001b[0;34m.\u001b[0m\u001b[0mformat\u001b[0m\u001b[0;34m(\u001b[0m\u001b[0mtimer\u001b[0m\u001b[0;34m(\u001b[0m\u001b[0;34m)\u001b[0m \u001b[0;34m-\u001b[0m \u001b[0mstart\u001b[0m\u001b[0;34m)\u001b[0m\u001b[0;34m)\u001b[0m\u001b[0;34m\u001b[0m\u001b[0m\n\u001b[1;32m      9\u001b[0m \u001b[0;34m\u001b[0m\u001b[0m\n",
      "\u001b[0;32m/Users/hakunahahannah/Documents/Projects/Spiking/Analysis/SpikeAnalysisToolbox/spikeAnalysisToolsV2/firing_rates.py\u001b[0m in \u001b[0;36mcalculate_rates_subfolder\u001b[0;34m(spikes_for_folder, info_neurons, info_times)\u001b[0m\n\u001b[1;32m    190\u001b[0m         \u001b[0;31m# extension_rates = list()\u001b[0m\u001b[0;34m\u001b[0m\u001b[0;34m\u001b[0m\u001b[0m\n\u001b[1;32m    191\u001b[0m \u001b[0;34m\u001b[0m\u001b[0m\n\u001b[0;32m--> 192\u001b[0;31m         \u001b[0mextension_rates_pro\u001b[0m \u001b[0;34m=\u001b[0m \u001b[0mworker_pool\u001b[0m\u001b[0;34m.\u001b[0m\u001b[0mmap\u001b[0m\u001b[0;34m(\u001b[0m\u001b[0mCaller\u001b[0m\u001b[0;34m(\u001b[0m\u001b[0mstimuli_and_layerwise_firing_rates\u001b[0m\u001b[0;34m,\u001b[0m \u001b[0minfo_neurons\u001b[0m\u001b[0;34m,\u001b[0m \u001b[0minfo_times\u001b[0m\u001b[0;34m)\u001b[0m\u001b[0;34m,\u001b[0m \u001b[0mspikes_for_folder\u001b[0m\u001b[0;34m[\u001b[0m\u001b[0msubfolder\u001b[0m\u001b[0;34m]\u001b[0m\u001b[0;34m)\u001b[0m\u001b[0;34m\u001b[0m\u001b[0m\n\u001b[0m\u001b[1;32m    193\u001b[0m \u001b[0;34m\u001b[0m\u001b[0m\n\u001b[1;32m    194\u001b[0m         \u001b[0;31m# for extension in range(len(spikes_for_folder[0])):\u001b[0m\u001b[0;34m\u001b[0m\u001b[0;34m\u001b[0m\u001b[0m\n",
      "\u001b[0;32m/Applications/anaconda/lib/python3.6/multiprocessing/pool.py\u001b[0m in \u001b[0;36mmap\u001b[0;34m(self, func, iterable, chunksize)\u001b[0m\n\u001b[1;32m    258\u001b[0m         \u001b[0;32min\u001b[0m \u001b[0ma\u001b[0m \u001b[0mlist\u001b[0m \u001b[0mthat\u001b[0m \u001b[0;32mis\u001b[0m \u001b[0mreturned\u001b[0m\u001b[0;34m.\u001b[0m\u001b[0;34m\u001b[0m\u001b[0m\n\u001b[1;32m    259\u001b[0m         '''\n\u001b[0;32m--> 260\u001b[0;31m         \u001b[0;32mreturn\u001b[0m \u001b[0mself\u001b[0m\u001b[0;34m.\u001b[0m\u001b[0m_map_async\u001b[0m\u001b[0;34m(\u001b[0m\u001b[0mfunc\u001b[0m\u001b[0;34m,\u001b[0m \u001b[0miterable\u001b[0m\u001b[0;34m,\u001b[0m \u001b[0mmapstar\u001b[0m\u001b[0;34m,\u001b[0m \u001b[0mchunksize\u001b[0m\u001b[0;34m)\u001b[0m\u001b[0;34m.\u001b[0m\u001b[0mget\u001b[0m\u001b[0;34m(\u001b[0m\u001b[0;34m)\u001b[0m\u001b[0;34m\u001b[0m\u001b[0m\n\u001b[0m\u001b[1;32m    261\u001b[0m \u001b[0;34m\u001b[0m\u001b[0m\n\u001b[1;32m    262\u001b[0m     \u001b[0;32mdef\u001b[0m \u001b[0mstarmap\u001b[0m\u001b[0;34m(\u001b[0m\u001b[0mself\u001b[0m\u001b[0;34m,\u001b[0m \u001b[0mfunc\u001b[0m\u001b[0;34m,\u001b[0m \u001b[0miterable\u001b[0m\u001b[0;34m,\u001b[0m \u001b[0mchunksize\u001b[0m\u001b[0;34m=\u001b[0m\u001b[0;32mNone\u001b[0m\u001b[0;34m)\u001b[0m\u001b[0;34m:\u001b[0m\u001b[0;34m\u001b[0m\u001b[0m\n",
      "\u001b[0;32m/Applications/anaconda/lib/python3.6/multiprocessing/pool.py\u001b[0m in \u001b[0;36mget\u001b[0;34m(self, timeout)\u001b[0m\n\u001b[1;32m    606\u001b[0m             \u001b[0;32mreturn\u001b[0m \u001b[0mself\u001b[0m\u001b[0;34m.\u001b[0m\u001b[0m_value\u001b[0m\u001b[0;34m\u001b[0m\u001b[0m\n\u001b[1;32m    607\u001b[0m         \u001b[0;32melse\u001b[0m\u001b[0;34m:\u001b[0m\u001b[0;34m\u001b[0m\u001b[0m\n\u001b[0;32m--> 608\u001b[0;31m             \u001b[0;32mraise\u001b[0m \u001b[0mself\u001b[0m\u001b[0;34m.\u001b[0m\u001b[0m_value\u001b[0m\u001b[0;34m\u001b[0m\u001b[0m\n\u001b[0m\u001b[1;32m    609\u001b[0m \u001b[0;34m\u001b[0m\u001b[0m\n\u001b[1;32m    610\u001b[0m     \u001b[0;32mdef\u001b[0m \u001b[0m_set\u001b[0m\u001b[0;34m(\u001b[0m\u001b[0mself\u001b[0m\u001b[0;34m,\u001b[0m \u001b[0mi\u001b[0m\u001b[0;34m,\u001b[0m \u001b[0mobj\u001b[0m\u001b[0;34m)\u001b[0m\u001b[0;34m:\u001b[0m\u001b[0;34m\u001b[0m\u001b[0m\n",
      "\u001b[0;31mValueError\u001b[0m: cannot convert float NaN to integer"
     ]
    }
   ],
   "source": [
    "spikes = data.load_spikes_from_subfolders(masterpath, subfolders, extensions, False)\n",
    "print(\"loading done\")\n",
    "start = timer()\n",
    "rates_subfolders = firing.calculate_rates_subfolder(\n",
    "    spikes,\n",
    "    network_architecture, \n",
    "    info_times)\n",
    "print(\"Multiprocessing version took {}\".format(timer() - start))\n",
    "\n",
    "spikes = None # we don't need them any more "
   ]
  },
  {
   "cell_type": "code",
   "execution_count": 33,
   "metadata": {},
   "outputs": [
    {
     "name": "stdout",
     "output_type": "stream",
     "text": [
      "[[0], [1], [2], [3], [4], [5], [6], [7], [8], [9], [10], [11], [12], [13], [14], [15], [16], [17], [18], [19], [20], [21], [22], [23], [24], [25], [26], [27], [28], [29], [30], [31], [32], [33], [34], [35], [36], [37], [38], [39]]\n"
     ]
    }
   ],
   "source": [
    "# normalize rates\n",
    "#firing.inplace_normailize_mean_per_stimulus(rates_subfolders[0])\n",
    "#raise RuntimeWarning(\" !!!!!!!! ALARM FIRING RATES NORMALIZED !!!!!!!!\")\n",
    "\n",
    "#object_indices = list(stimulus_ids.values())\n",
    "#print(object_indices)\n",
    "#raise RuntimeWarning(\"Computing Information for each stimulus seperately now\")\n"
   ]
  },
  {
   "cell_type": "code",
   "execution_count": 5,
   "metadata": {},
   "outputs": [
    {
     "name": "stdout",
     "output_type": "stream",
     "text": [
      "Choosen Strategy: firing_rates_to_single_cell_information, || \n",
      "   Single Cell information\n",
      "   :param firing_rates: nested list of shape [stimulus][layer][exc/inh] -> pandas dataframe with fields \"ids\", \"firing_rate\"\n",
      "   :param objects:\n",
      "   :param n_bins: how many bins the firing rates are sorted into (to make the firing rates discrete)\n",
      "   :param calc_inhibitory: Flag (to save time)\n",
      "   :return:\n",
      "   \n"
     ]
    }
   ],
   "source": [
    "\n",
    "folder_of_interest = 0\n",
    "exc_information, inh_information = info.single_cell_information_all_epochs(rates_subfolders[folder_of_interest], object_indices, 3)\n",
    "\n",
    "#rates_subfolders = None # save memory\n",
    "#print(exc_information.shape)\n",
    "exc_mutual_info  = np.mean(exc_information, axis=1)\n",
    "#print(exc_mutual_info)\n",
    "#print(exc_mutual_info.shape)\n",
    "#print(len(exc_mutual_info.shape))\n",
    "info=np.expand_dims(exc_mutual_info, axis=1)"
   ]
  },
  {
   "cell_type": "code",
   "execution_count": 8,
   "metadata": {},
   "outputs": [
    {
     "name": "stdout",
     "output_type": "stream",
     "text": [
      "[[[[ 0.          0.          0.         ...,  0.          0.          0.        ]\n",
      "   [ 0.01007286  0.00669894  0.01687045 ...,  0.00334138  0.          0.00334138]\n",
      "   [ 0.02373549  0.01687045  0.02373549 ...,  0.00334138  0.01007286\n",
      "     0.00669894]\n",
      "   [ 0.00669894  0.02719374  0.01007286 ...,  0.02029445  0.01687045\n",
      "     0.01346331]]]\n",
      "\n",
      "\n",
      " [[[ 0.          0.          0.         ...,  0.          0.          0.        ]\n",
      "   [ 0.00669894  0.00334138  0.01687045 ...,  0.00334138  0.          0.00334138]\n",
      "   [ 0.01346331  0.02719374  0.02029445 ...,  0.01346331  0.01007286\n",
      "     0.01007286]\n",
      "   [ 0.01346331  0.04120259  0.01007286 ...,  0.02029445  0.01346331\n",
      "     0.02029445]]]\n",
      "\n",
      "\n",
      " [[[ 0.          0.          0.         ...,  0.          0.          0.        ]\n",
      "   [ 0.01007286  0.00334138  0.01346331 ...,  0.00334138  0.          0.00669894]\n",
      "   [ 0.02373549  0.01740447  0.02373549 ...,  0.01346331  0.01007286\n",
      "     0.01346331]\n",
      "   [ 0.00669894  0.04831516  0.01687045 ...,  0.0306694   0.01199776\n",
      "     0.02029445]]]\n",
      "\n",
      "\n",
      " [[[ 0.          0.          0.         ...,  0.          0.          0.        ]\n",
      "   [ 0.01346331  0.00669894  0.01687045 ...,  0.00334138  0.          0.01007286]\n",
      "   [ 0.13633614  0.00569787  0.0234433  ...,  0.02373549  0.02860344\n",
      "     0.02029445]\n",
      "   [ 0.00669894  0.00027783  0.00669894 ...,  0.02373549  0.03221119\n",
      "     0.05390027]]]\n",
      "\n",
      "\n",
      " [[[ 0.          0.          0.         ...,  0.          0.          0.        ]\n",
      "   [ 0.00827268  0.00669894  0.00736519 ...,  0.          0.          0.00334138]\n",
      "   [ 0.06555894  0.01436199  0.0082449  ...,  0.03416263  0.0262274\n",
      "     0.03416263]\n",
      "   [ 0.          0.04032301  0.01275707 ...,  0.00109547  0.01134768\n",
      "     0.05174807]]]]\n"
     ]
    }
   ],
   "source": [
    "item_label=None\n",
    "mean_of_top_n = 500\n",
    "threshold = 1\n",
    "\n",
    "if len(info.shape) != 4:\n",
    "    info = np.expand_dims(info, axis=1)\n",
    "    # The case that we have an information score that does not have one value for each item but a combined value\n",
    "    item_label = [\"combined value\"]\n",
    "\n",
    "print(info)"
   ]
  },
  {
   "cell_type": "code",
   "execution_count": 9,
   "metadata": {},
   "outputs": [
    {
     "name": "stdout",
     "output_type": "stream",
     "text": [
      "[[[ 0.06600448  0.03767788  0.02845493  0.02975377]]\n",
      "\n",
      " [[ 0.06541617  0.03857986  0.02936552  0.03232679]]\n",
      "\n",
      " [[ 0.07081737  0.05310669  0.03389355  0.03473484]]\n",
      "\n",
      " [[ 0.07266543  0.14424529  0.1249869   0.10301184]]\n",
      "\n",
      " [[ 0.07833775  0.14551608  0.11371186  0.09631499]]]\n"
     ]
    }
   ],
   "source": [
    "n_epochs, n_objects, n_layer, n_neurons = info.shape\n",
    "epochs=np.arange(n_epochs)\n",
    "\n",
    "if type(epochs) != list and type(epochs) != np.ndarray:\n",
    "    epochs = list(epochs)\n",
    "\n",
    "if not item_label:\n",
    "    item_label = list([\"Item {}\".format(i) for i in range(n_objects)])\n",
    "else:\n",
    "    assert(len(item_label) == n_objects)\n",
    "\n",
    "if mean_of_top_n == 'all':\n",
    "    avg_info = np.mean(info, axis=3)\n",
    "else:\n",
    "    info_top_n = np.sort(info, axis=3)[:, :, :, -1-mean_of_top_n:]\n",
    "    avg_info = np.mean(info_top_n, axis=3)\n",
    "    \n",
    "print(avg_info)"
   ]
  },
  {
   "cell_type": "code",
   "execution_count": 14,
   "metadata": {},
   "outputs": [
    {
     "name": "stdout",
     "output_type": "stream",
     "text": [
      "info in 4th layer =  [[ 0.02975377]\n",
      " [ 0.03232679]\n",
      " [ 0.03473484]\n",
      " [ 0.10301184]\n",
      " [ 0.09631499]]\n",
      "avg info across 4th layer =  0.0592284471475\n"
     ]
    }
   ],
   "source": [
    "#so we want to get the highest possible average information in the final layer\n",
    "fourth_layer = avg_info[:, :, 3]\n",
    "avg_fourth_layer = (np.mean(fourth_layer))\n",
    "print('info in 4th layer = ', fourth_layer)\n",
    "\n",
    "print('avg info across 4th layer = ', avg_fourth_layer)"
   ]
  },
  {
   "cell_type": "code",
   "execution_count": null,
   "metadata": {
    "collapsed": true
   },
   "outputs": [],
   "source": []
  }
 ],
 "metadata": {
  "kernelspec": {
   "display_name": "Python 3",
   "language": "python",
   "name": "python3"
  },
  "language_info": {
   "codemirror_mode": {
    "name": "ipython",
    "version": 3
   },
   "file_extension": ".py",
   "mimetype": "text/x-python",
   "name": "python",
   "nbconvert_exporter": "python",
   "pygments_lexer": "ipython3",
   "version": "3.6.1"
  }
 },
 "nbformat": 4,
 "nbformat_minor": 2
}
