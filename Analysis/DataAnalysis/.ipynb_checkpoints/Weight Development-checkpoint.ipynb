{
 "cells": [
  {
   "cell_type": "code",
   "execution_count": 46,
   "metadata": {
    "collapsed": true
   },
   "outputs": [],
   "source": [
    "import sys\n",
    "import numpy as np\n",
    "sys.path.append(\"/Users/hakunahahannah/Documents/Projects/Spiking/Analysis/SpikeAnalysisToolbox/\")\n",
    "\n",
    "import spikeAnalysisToolsV2.data_loading as data\n",
    "import spikeAnalysisToolsV2.synapse_analysis as synapse_analysis\n",
    "import spikeAnalysisToolsV2.plotting as spikeplot\n",
    "import spikeAnalysisToolsV2.helper as helper\n",
    "import spikeAnalysisToolsV2.firing_rates as firing\n",
    "import spikeAnalysisToolsV2.information_scores as info\n",
    "\n",
    "from IPython.display import HTML\n",
    "from matplotlib import rc\n",
    "rc('animation', html='html5')"
   ]
  },
  {
   "cell_type": "code",
   "execution_count": 47,
   "metadata": {},
   "outputs": [
    {
     "name": "stdout",
     "output_type": "stream",
     "text": [
      "<class 'int'>\n"
     ]
    }
   ],
   "source": [
    "masterpath = \"/Users/hakunahahannah/Documents/Projects/Spiking/Build/output\"\n",
    "experiment = \"/20Ex20Id_fanIn_230_epochs/\"\n",
    "basic_path = masterpath+experiment\n",
    "\n",
    "network_architecture = dict(num_inh_neurons_per_layer = 32*32, num_exc_neurons_per_layer= 64*64, num_layers=4)\n",
    "epochs = list(range(1, 401))\n",
    "#type(epochs[0])\n",
    "print(type(epochs[0]))"
   ]
  },
  {
   "cell_type": "code",
   "execution_count": 48,
   "metadata": {},
   "outputs": [
    {
     "name": "stdout",
     "output_type": "stream",
     "text": [
      "Epochs given as indices\n"
     ]
    }
   ],
   "source": [
    "if type(epochs[0]) ==int:\n",
    "    print(\"Epochs given as indices\")\n",
    "    all_epoch_paths = [basic_path+\"testing\"+\"/epoch{}\".format(e) for e in epochs]\n",
    "if type(epochs[0]) == str:\n",
    "        print(\"Epochs given by subfolder names\")\n",
    "        all_epoch_paths = [basic_path + \"/\" + epoch_name for epoch_name in epochs]"
   ]
  },
  {
   "cell_type": "code",
   "execution_count": 53,
   "metadata": {},
   "outputs": [
    {
     "name": "stdout",
     "output_type": "stream",
     "text": [
      "          delays   post    pre   weights\n",
      "0              1      0  -3850  0.000329\n",
      "1              1      0   -782  0.524587\n",
      "2              1      0  -2049  0.735424\n",
      "3              1      0  -7698  0.263306\n",
      "4              1      0  -1289  0.376224\n",
      "5              1      0   -517  0.196286\n",
      "6              1      0  -6915  0.975874\n",
      "7              1      0  -6162  0.512318\n",
      "8              1      0  -7945  0.530449\n",
      "9              1      0   -522  0.257102\n",
      "10             1      0  -1545  0.107087\n",
      "11             1      0   -525  0.815488\n",
      "12             1      0  -2821  0.900545\n",
      "13             1      0  -6670  0.452029\n",
      "14             1      0  -7706  0.245389\n",
      "15             1      0  -2310  0.247408\n",
      "16             1      0  -1042  0.188274\n",
      "17             1      0  -1042  0.323324\n",
      "18             1      0  -8722  0.103457\n",
      "19             1      0  -7711  0.807374\n",
      "20             1      0  -3073  0.534411\n",
      "21             1      0  -5121  0.844454\n",
      "22             1      0   -279  0.737019\n",
      "23             1      0  -2307  0.078333\n",
      "24             1      0  -2561  0.539009\n",
      "25             1      0  -4369  0.131009\n",
      "26             1      0  -6148  0.862525\n",
      "27             1      0  -2565  0.464596\n",
      "28             1      0  -6412  0.471973\n",
      "29             1      0  -3344  0.450005\n",
      "...          ...    ...    ...       ...\n",
      "15298530       9  19455  18801  0.736947\n",
      "15298531      13  19455  18608  0.866803\n",
      "15298532      24  19455  18670  0.357867\n",
      "15298533       9  19455  18751  0.671528\n",
      "15298534      32  19455  19327  0.363454\n",
      "15298535      17  19455  19352  0.563478\n",
      "15298536      40  19455  19431  0.370970\n",
      "15298537      37  19455  19320  0.896370\n",
      "15298538      38  19455  18303  0.296439\n",
      "15298539      26  19455  18805  0.249398\n",
      "15298540      33  19455  18744  0.628041\n",
      "15298541      47  19455  18551  0.488412\n",
      "15298542       7  19455  19263  0.741627\n",
      "15298543      29  19455  19116  0.519294\n",
      "15298544      36  19455  18491  0.773538\n",
      "15298545      25  19455  19125  0.854674\n",
      "15298546      24  19455  19250  0.503942\n",
      "15298547      23  19455  19453  0.748420\n",
      "15298548       5  19455  18930  0.688709\n",
      "15298549      29  19455  18045  0.140960\n",
      "15298550      40  19455  19378  0.106527\n",
      "15298551      49  19455  19455  0.394613\n",
      "15298552      38  19455  17851  0.261134\n",
      "15298553      19  19455  19245  0.879516\n",
      "15298554      35  19455  19196  0.028838\n",
      "15298555      12  19455  19389  0.676882\n",
      "15298556      47  19455  19447  0.352119\n",
      "15298557      34  19455  18751  0.072225\n",
      "15298558      44  19455  19186  0.883498\n",
      "15298559      16  19455  18422  0.948294\n",
      "\n",
      "[15298560 rows x 4 columns]\n"
     ]
    }
   ],
   "source": [
    "full_network_initial = data.load_network(basic_path + \"initial\")\n",
    "#in my network the weights are not listed for tested epochs \n",
    "#weights_all_epochs = list(map(data.load_only_weights, all_epoch_paths))\n",
    "#weight_matrix = np.stack([full_network_initial.weights.values] + weights_all_epochs, axis=0)\n",
    "print(full_network_initial)"
   ]
  },
  {
   "cell_type": "code",
   "execution_count": 37,
   "metadata": {},
   "outputs": [],
   "source": [
    "#won't stop raising an incorrect error\n",
    "#net, weights = data.load_weights_all_epochs(masterpath+experiment, epochs)"
   ]
  },
  {
   "cell_type": "code",
   "execution_count": 52,
   "metadata": {},
   "outputs": [
    {
     "ename": "NameError",
     "evalue": "name 'folder' is not defined",
     "output_type": "error",
     "traceback": [
      "\u001b[0;31m---------------------------------------------------------------------------\u001b[0m",
      "\u001b[0;31mNameError\u001b[0m                                 Traceback (most recent call last)",
      "\u001b[0;32m<ipython-input-52-fbaeb24a5e6a>\u001b[0m in \u001b[0;36m<module>\u001b[0;34m()\u001b[0m\n\u001b[0;32m----> 1\u001b[0;31m \u001b[0mobject_list\u001b[0m \u001b[0;34m=\u001b[0m \u001b[0mdata\u001b[0m\u001b[0;34m.\u001b[0m\u001b[0mload_testing_stimuli_info\u001b[0m\u001b[0;34m(\u001b[0m\u001b[0mfolder\u001b[0m \u001b[0;34m+\u001b[0m \u001b[0mexperiment\u001b[0m\u001b[0;34m)\u001b[0m\u001b[0;34m\u001b[0m\u001b[0m\n\u001b[0m\u001b[1;32m      2\u001b[0m \u001b[0mn_stimuli\u001b[0m \u001b[0;34m=\u001b[0m \u001b[0mnp\u001b[0m\u001b[0;34m.\u001b[0m\u001b[0msum\u001b[0m\u001b[0;34m(\u001b[0m\u001b[0;34m[\u001b[0m\u001b[0mobj\u001b[0m\u001b[0;34m[\u001b[0m\u001b[0;34m'count'\u001b[0m\u001b[0;34m]\u001b[0m \u001b[0;32mfor\u001b[0m \u001b[0mobj\u001b[0m \u001b[0;32min\u001b[0m \u001b[0mobject_list\u001b[0m\u001b[0;34m]\u001b[0m\u001b[0;34m)\u001b[0m\u001b[0;34m\u001b[0m\u001b[0m\n\u001b[1;32m      3\u001b[0m \u001b[0mprint\u001b[0m\u001b[0;34m(\u001b[0m\u001b[0mn_stimuli\u001b[0m\u001b[0;34m)\u001b[0m\u001b[0;34m\u001b[0m\u001b[0m\n\u001b[1;32m      4\u001b[0m \u001b[0mobject_list_shape\u001b[0m \u001b[0;34m=\u001b[0m \u001b[0mdata\u001b[0m\u001b[0;34m.\u001b[0m\u001b[0mload_testing_stimuli_indices_from_wildcarts\u001b[0m\u001b[0;34m(\u001b[0m\u001b[0mfolder\u001b[0m\u001b[0;34m+\u001b[0m\u001b[0;34m\"/\"\u001b[0m \u001b[0;34m+\u001b[0m \u001b[0mexperiment\u001b[0m\u001b[0;34m,\u001b[0m \u001b[0;34m[\u001b[0m\u001b[0;34m\"***r\"\u001b[0m\u001b[0;34m,\u001b[0m \u001b[0;34m\"***l\"\u001b[0m\u001b[0;34m]\u001b[0m\u001b[0;34m)\u001b[0m\u001b[0;34m\u001b[0m\u001b[0m\n\u001b[1;32m      5\u001b[0m \u001b[0mobject_indices_shape\u001b[0m \u001b[0;34m=\u001b[0m \u001b[0;34m[\u001b[0m\u001b[0mo\u001b[0m\u001b[0;34m[\u001b[0m\u001b[0;34m'indices'\u001b[0m\u001b[0;34m]\u001b[0m \u001b[0;32mfor\u001b[0m \u001b[0mo\u001b[0m \u001b[0;32min\u001b[0m \u001b[0mobject_list_shape\u001b[0m\u001b[0;34m]\u001b[0m\u001b[0;34m\u001b[0m\u001b[0m\n",
      "\u001b[0;31mNameError\u001b[0m: name 'folder' is not defined"
     ]
    }
   ],
   "source": [
    "\n",
    "    \n",
    "#this won't work due to the wildcards. needs further investigation. Look at synapses_networkPost??\n",
    "\n",
    "\n",
    "object_list = data.load_testing_stimuli_info(folder + experiment)\n",
    "n_stimuli = np.sum([obj['count'] for obj in object_list])\n",
    "print(n_stimuli)\n",
    "object_list_shape = data.load_testing_stimuli_indices_from_wildcarts(folder+\"/\" + experiment, [\"***r\", \"***l\"])\n",
    "object_indices_shape = [o['indices'] for o in object_list_shape]\n",
    "object_indices = object_list_shape\n",
    "\n",
    "info_times = dict(\n",
    "    length_of_stimulus = 2.0,\n",
    "    num_stimuli = n_stimuli,\n",
    "    time_start = 1.5,\n",
    "    time_end = 1.9\n",
    ")\n",
    "\n",
    "spikes = data.load_spikes_from_subfolders(folder, [experiment], [\"initial\"]+[\"/testing/epoch{}\".format(e) for e in epochs], False)\n",
    "print(\"loading done\")\n",
    "\n",
    "\n",
    "rates_subfolders = firing.calculate_rates_subfolder(\n",
    "    spikes,\n",
    "    network_architecture, \n",
    "    info_times)\n",
    "\n",
    "\n",
    "\n",
    "exc_mutual_info , _inh_mutual_info = info.information_all_epochs(rates_subfolders[0],'mutual_info', objects=object_indices, n_bins=3)\n",
    "\n",
    "print(exc_mutual_info.shape)\n",
    "\n",
    "mean_of_top_n = 1000\n",
    "top_2_exc = np.sort(exc_mutual_info, axis=3)[:, :, :, -1-mean_of_top_n:]\n",
    "\n",
    "top_n_mean_perf = np.mean(top_2_exc, axis=3)[:, 0, :] # secod dimension is 1. (~ information about 1 object which is actually the mean information of both)\n"
   ]
  },
  {
   "cell_type": "code",
   "execution_count": null,
   "metadata": {
    "collapsed": true
   },
   "outputs": [],
   "source": [
    "top_n_mean_perf.shape"
   ]
  },
  {
   "cell_type": "code",
   "execution_count": null,
   "metadata": {
    "collapsed": true
   },
   "outputs": [],
   "source": [
    "mask = synapse_analysis.Synapse_Mask(network_architecture, net)\n",
    "e2e_mask = mask.exc_feed_forward()\n",
    "\n",
    "development_of_sample_synapses = synapse_analysis.get_weight_development_random_sample(weights[:, e2e_mask], 50*50)\n",
    "development_of_sample_synapses -= development_of_sample_synapses[0, :]\n"
   ]
  },
  {
   "cell_type": "code",
   "execution_count": null,
   "metadata": {
    "collapsed": true
   },
   "outputs": [],
   "source": [
    "threshold=0.9\n",
    "n_neurons_above = np.zeros((len(epochs)+1,1))\n",
    "n_neurons_above = np.count_nonzero(exc_mutual_info >= threshold, axis=3)[:, 0, :]\n",
    "print(n_neurons_above.shape)"
   ]
  },
  {
   "cell_type": "code",
   "execution_count": null,
   "metadata": {
    "collapsed": true
   },
   "outputs": [],
   "source": [
    "# or top_n_mean_perf\n",
    "ani = spikeplot.animate_2d_matrix(development_of_sample_synapses, n_neurons_above, \"Weight development for e2e synapses\", label_perf=None, cmap=\"bwr\")\n",
    "HTML(ani.to_html5_video())\n"
   ]
  },
  {
   "cell_type": "markdown",
   "metadata": {},
   "source": [
    "# Incoming Synapses to single Neuron"
   ]
  },
  {
   "cell_type": "code",
   "execution_count": null,
   "metadata": {
    "collapsed": true
   },
   "outputs": [],
   "source": [
    "def weight_vs_info_for_neuron(neuron_pos):\n",
    "    info_that_neuron = exc_mutual_info[:, 0, neuron_pos[0], neuron_pos[1]]\n",
    "    \n",
    "\n",
    "    overall_id = helper.position_to_id(neuron_pos, True, network_architecture)\n",
    "    pos_2d = helper.id_to_position(overall_id, network_architecture)\n",
    "\n",
    "    mask_incoming_e_to_that_neuron = np.logical_and( net.post.values == overall_id , np.invert(mask.inh_lateral()))\n",
    "\n",
    "    n_syn = np.count_nonzero(mask_incoming_e_to_that_neuron)\n",
    "    needed_padding = int(np.ceil(np.sqrt(n_syn))**2 - n_syn)\n",
    "\n",
    "    incoming_synapses = weights[:, mask_incoming_e_to_that_neuron]\n",
    "    \n",
    "    padded_incoming_synapses_weight_dev = np.pad(incoming_synapses, ((0,0), (0, needed_padding)), mode='constant')\n",
    "    padded_incoming_synapses_weight_dev -= padded_incoming_synapses_weight_dev[0, :]\n",
    "    \n",
    "    #weight_stuff\n",
    "    mean_weight = np.mean(incoming_synapses, axis=1)\n",
    "    # number of changed synapses\n",
    "    max_diff = np.max(padded_incoming_synapses_weight_dev)\n",
    "    epsilon = 0.05\n",
    "    n_changed = np.count_nonzero(padded_incoming_synapses_weight_dev > epsilon*max_diff, axis=1)\n",
    "    max_n_changed = np.max(n_changed)\n",
    "    n_changed = n_changed / max_n_changed\n",
    "\n",
    "    \n",
    "    all_information_measures = np.concatenate([np.expand_dims(bla, 1) for bla in [info_that_neuron, mean_weight, n_changed]], axis=1)\n",
    "\n",
    "    \n",
    "    \n",
    "\n",
    "    ani = spikeplot.animate_2d_matrix(padded_incoming_synapses_weight_dev, all_information_measures, \"incoming synapses to neuron: {}\".format(pos_2d), \n",
    "                                      label_perf=[\"information\", \"avg weight\", \"n changed synapses (/{})\".format(max_n_changed)], cmap=\"bwr\")\n",
    "    return  HTML(ani.to_html5_video())"
   ]
  },
  {
   "cell_type": "code",
   "execution_count": null,
   "metadata": {
    "collapsed": true
   },
   "outputs": [],
   "source": [
    "layer = 2\n",
    "\n",
    "decreasing_indices = np.argsort(exc_mutual_info, axis=3)[:,:, :, ::-1]\n",
    "target_n = decreasing_indices[82, 0, layer, 0]\n",
    "\n",
    "# maybe plot a histogram of absolute weights in here as well\n",
    "\n",
    "# Nice Neuron: L 2, N 1428\n",
    "neuron_pos = (2, target_n)\n",
    "\n",
    "weight_vs_info_for_neuron(neuron_pos)"
   ]
  },
  {
   "cell_type": "code",
   "execution_count": null,
   "metadata": {
    "collapsed": true
   },
   "outputs": [],
   "source": [
    "target_n = decreasing_indices[82, 0, layer, 1]\n",
    "# Nice Neuron: L 2, N 1428\n",
    "neuron_pos = (2, target_n)\n",
    "\n",
    "weight_vs_info_for_neuron(neuron_pos)"
   ]
  },
  {
   "cell_type": "code",
   "execution_count": null,
   "metadata": {
    "collapsed": true
   },
   "outputs": [],
   "source": [
    "target_n = decreasing_indices[82, 0, layer, -203]\n",
    "# Nice Neuron: L 2, N 1428\n",
    "neuron_pos = (2, target_n)\n",
    "\n",
    "weight_vs_info_for_neuron(neuron_pos)"
   ]
  },
  {
   "cell_type": "code",
   "execution_count": null,
   "metadata": {
    "collapsed": true
   },
   "outputs": [],
   "source": [
    "target_n = decreasing_indices[82, 0, layer, -225]\n",
    "# Nice Neuron: L 2, N 1428\n",
    "neuron_pos = (2, target_n)\n",
    "\n",
    "weight_vs_info_for_neuron(neuron_pos)"
   ]
  },
  {
   "cell_type": "markdown",
   "metadata": {},
   "source": [
    "# Overall Weight Development"
   ]
  },
  {
   "cell_type": "code",
   "execution_count": 17,
   "metadata": {
    "collapsed": true
   },
   "outputs": [],
   "source": [
    "inhibitory_mask = np.invert(mask.inh_lateral() | mask.exc_to_inhibitory())\n",
    "mean_weights = np.mean(weights[:, inhibitory_mask], axis=1)"
   ]
  },
  {
   "cell_type": "code",
   "execution_count": 8,
   "metadata": {},
   "outputs": [
    {
     "ename": "NameError",
     "evalue": "name 'mean_weights' is not defined",
     "output_type": "error",
     "traceback": [
      "\u001b[0;31m---------------------------------------------------------------------------\u001b[0m",
      "\u001b[0;31mNameError\u001b[0m                                 Traceback (most recent call last)",
      "\u001b[0;32m<ipython-input-8-8746fba53ef7>\u001b[0m in \u001b[0;36m<module>\u001b[0;34m()\u001b[0m\n\u001b[0;32m----> 1\u001b[0;31m \u001b[0mmean_weights\u001b[0m\u001b[0;34m.\u001b[0m\u001b[0mshape\u001b[0m\u001b[0;34m\u001b[0m\u001b[0m\n\u001b[0m",
      "\u001b[0;31mNameError\u001b[0m: name 'mean_weights' is not defined"
     ]
    }
   ],
   "source": [
    "mean_weights.shape"
   ]
  },
  {
   "cell_type": "code",
   "execution_count": 18,
   "metadata": {},
   "outputs": [
    {
     "data": {
      "text/plain": [
       "[<matplotlib.lines.Line2D at 0x1446bc390>]"
      ]
     },
     "execution_count": 18,
     "metadata": {},
     "output_type": "execute_result"
    },
    {
     "data": {
      "image/png": "[encoded data removed]",
      "text/plain": [
       "<matplotlib.figure.Figure at 0x10bde54e0>"
      ]
     },
     "metadata": {},
     "output_type": "display_data"
    }
   ],
   "source": [
    "import matplotlib.pyplot as plt\n",
    "%matplotlib inline\n",
    "fig = plt.figure()\n",
    "ax = fig.add_subplot(1,1,1)\n",
    "ax.plot(mean_weights)\n"
   ]
  },
  {
   "cell_type": "code",
   "execution_count": null,
   "metadata": {
    "collapsed": true
   },
   "outputs": [],
   "source": []
  }
 ],
 "metadata": {
  "kernelspec": {
   "display_name": "Python 3",
   "language": "python",
   "name": "python3"
  },
  "language_info": {
   "codemirror_mode": {
    "name": "ipython",
    "version": 3
   },
   "file_extension": ".py",
   "mimetype": "text/x-python",
   "name": "python",
   "nbconvert_exporter": "python",
   "pygments_lexer": "ipython3",
   "version": "3.6.1"
  }
 },
 "nbformat": 4,
 "nbformat_minor": 2
}
