{
 "cells": [
  {
   "cell_type": "code",
   "execution_count": 1,
   "metadata": {},
   "outputs": [],
   "source": [
    "import numpy as np\n",
    "import pandas as pd\n",
    "import sys\n",
    "\n",
    "from timeit import default_timer as timer\n",
    "import matplotlib.pyplot as plt\n",
    "%matplotlib inline\n",
    "\n",
    "sys.path.append(\"/Users/clemens/Documents/Code/AnalysisToolbox\")\n",
    "\n",
    "import spikeAnalysisToolsV2.data_loading as data\n",
    "import spikeAnalysisToolsV2.synapse_analysis as synapse_analysis\n",
    "import spikeAnalysisToolsV2.plotting as spikeplot\n",
    "import spikeAnalysisToolsV2.helper as helper"
   ]
  },
  {
   "cell_type": "code",
   "execution_count": 2,
   "metadata": {},
   "outputs": [],
   "source": [
    "filter_path = \"/Users/clemens/Documents/Code/ModelClemens/Data/MatlabGaborFilter/centered_inputs/Filtered\"\n",
    "all_filter = data.load_filter_all_obj(filter_path, \"list\")"
   ]
  },
  {
   "cell_type": "code",
   "execution_count": 3,
   "metadata": {},
   "outputs": [
    {
     "data": {
      "text/plain": [
       "{'1bcl': [<Filter: 1bcl.2.0.0>,\n",
       "  <Filter: 1bcl.2.0.180>,\n",
       "  <Filter: 1bcl.2.135.0>,\n",
       "  <Filter: 1bcl.2.135.180>,\n",
       "  <Filter: 1bcl.2.45.0>,\n",
       "  <Filter: 1bcl.2.45.180>,\n",
       "  <Filter: 1bcl.2.90.0>,\n",
       "  <Filter: 1bcl.2.90.180>],\n",
       " '1bcr': [<Filter: 1bcr.2.0.0>,\n",
       "  <Filter: 1bcr.2.0.180>,\n",
       "  <Filter: 1bcr.2.135.0>,\n",
       "  <Filter: 1bcr.2.135.180>,\n",
       "  <Filter: 1bcr.2.45.0>,\n",
       "  <Filter: 1bcr.2.45.180>,\n",
       "  <Filter: 1bcr.2.90.0>,\n",
       "  <Filter: 1bcr.2.90.180>],\n",
       " '1bdl': [<Filter: 1bdl.2.0.0>,\n",
       "  <Filter: 1bdl.2.0.180>,\n",
       "  <Filter: 1bdl.2.135.0>,\n",
       "  <Filter: 1bdl.2.135.180>,\n",
       "  <Filter: 1bdl.2.45.0>,\n",
       "  <Filter: 1bdl.2.45.180>,\n",
       "  <Filter: 1bdl.2.90.0>,\n",
       "  <Filter: 1bdl.2.90.180>],\n",
       " '1bdr': [<Filter: 1bdr.2.0.0>,\n",
       "  <Filter: 1bdr.2.0.180>,\n",
       "  <Filter: 1bdr.2.135.0>,\n",
       "  <Filter: 1bdr.2.135.180>,\n",
       "  <Filter: 1bdr.2.45.0>,\n",
       "  <Filter: 1bdr.2.45.180>,\n",
       "  <Filter: 1bdr.2.90.0>,\n",
       "  <Filter: 1bdr.2.90.180>],\n",
       " '1wcl': [<Filter: 1wcl.2.0.0>,\n",
       "  <Filter: 1wcl.2.0.180>,\n",
       "  <Filter: 1wcl.2.135.0>,\n",
       "  <Filter: 1wcl.2.135.180>,\n",
       "  <Filter: 1wcl.2.45.0>,\n",
       "  <Filter: 1wcl.2.45.180>,\n",
       "  <Filter: 1wcl.2.90.0>,\n",
       "  <Filter: 1wcl.2.90.180>],\n",
       " '1wcr': [<Filter: 1wcr.2.0.0>,\n",
       "  <Filter: 1wcr.2.0.180>,\n",
       "  <Filter: 1wcr.2.135.0>,\n",
       "  <Filter: 1wcr.2.135.180>,\n",
       "  <Filter: 1wcr.2.45.0>,\n",
       "  <Filter: 1wcr.2.45.180>,\n",
       "  <Filter: 1wcr.2.90.0>,\n",
       "  <Filter: 1wcr.2.90.180>],\n",
       " '1wdl': [<Filter: 1wdl.2.0.0>,\n",
       "  <Filter: 1wdl.2.0.180>,\n",
       "  <Filter: 1wdl.2.135.0>,\n",
       "  <Filter: 1wdl.2.135.180>,\n",
       "  <Filter: 1wdl.2.45.0>,\n",
       "  <Filter: 1wdl.2.45.180>,\n",
       "  <Filter: 1wdl.2.90.0>,\n",
       "  <Filter: 1wdl.2.90.180>],\n",
       " '1wdr': [<Filter: 1wdr.2.0.0>,\n",
       "  <Filter: 1wdr.2.0.180>,\n",
       "  <Filter: 1wdr.2.135.0>,\n",
       "  <Filter: 1wdr.2.135.180>,\n",
       "  <Filter: 1wdr.2.45.0>,\n",
       "  <Filter: 1wdr.2.45.180>,\n",
       "  <Filter: 1wdr.2.90.0>,\n",
       "  <Filter: 1wdr.2.90.180>],\n",
       " '2bcl': [<Filter: 2bcl.2.0.0>,\n",
       "  <Filter: 2bcl.2.0.180>,\n",
       "  <Filter: 2bcl.2.135.0>,\n",
       "  <Filter: 2bcl.2.135.180>,\n",
       "  <Filter: 2bcl.2.45.0>,\n",
       "  <Filter: 2bcl.2.45.180>,\n",
       "  <Filter: 2bcl.2.90.0>,\n",
       "  <Filter: 2bcl.2.90.180>],\n",
       " '2bcr': [<Filter: 2bcr.2.0.0>,\n",
       "  <Filter: 2bcr.2.0.180>,\n",
       "  <Filter: 2bcr.2.135.0>,\n",
       "  <Filter: 2bcr.2.135.180>,\n",
       "  <Filter: 2bcr.2.45.0>,\n",
       "  <Filter: 2bcr.2.45.180>,\n",
       "  <Filter: 2bcr.2.90.0>,\n",
       "  <Filter: 2bcr.2.90.180>],\n",
       " '2bdl': [<Filter: 2bdl.2.0.0>,\n",
       "  <Filter: 2bdl.2.0.180>,\n",
       "  <Filter: 2bdl.2.135.0>,\n",
       "  <Filter: 2bdl.2.135.180>,\n",
       "  <Filter: 2bdl.2.45.0>,\n",
       "  <Filter: 2bdl.2.45.180>,\n",
       "  <Filter: 2bdl.2.90.0>,\n",
       "  <Filter: 2bdl.2.90.180>],\n",
       " '2bdr': [<Filter: 2bdr.2.0.0>,\n",
       "  <Filter: 2bdr.2.0.180>,\n",
       "  <Filter: 2bdr.2.135.0>,\n",
       "  <Filter: 2bdr.2.135.180>,\n",
       "  <Filter: 2bdr.2.45.0>,\n",
       "  <Filter: 2bdr.2.45.180>,\n",
       "  <Filter: 2bdr.2.90.0>,\n",
       "  <Filter: 2bdr.2.90.180>],\n",
       " '2wcl': [<Filter: 2wcl.2.0.0>,\n",
       "  <Filter: 2wcl.2.0.180>,\n",
       "  <Filter: 2wcl.2.135.0>,\n",
       "  <Filter: 2wcl.2.135.180>,\n",
       "  <Filter: 2wcl.2.45.0>,\n",
       "  <Filter: 2wcl.2.45.180>,\n",
       "  <Filter: 2wcl.2.90.0>,\n",
       "  <Filter: 2wcl.2.90.180>],\n",
       " '2wcr': [<Filter: 2wcr.2.0.0>,\n",
       "  <Filter: 2wcr.2.0.180>,\n",
       "  <Filter: 2wcr.2.135.0>,\n",
       "  <Filter: 2wcr.2.135.180>,\n",
       "  <Filter: 2wcr.2.45.0>,\n",
       "  <Filter: 2wcr.2.45.180>,\n",
       "  <Filter: 2wcr.2.90.0>,\n",
       "  <Filter: 2wcr.2.90.180>],\n",
       " '2wdl': [<Filter: 2wdl.2.0.0>,\n",
       "  <Filter: 2wdl.2.0.180>,\n",
       "  <Filter: 2wdl.2.135.0>,\n",
       "  <Filter: 2wdl.2.135.180>,\n",
       "  <Filter: 2wdl.2.45.0>,\n",
       "  <Filter: 2wdl.2.45.180>,\n",
       "  <Filter: 2wdl.2.90.0>,\n",
       "  <Filter: 2wdl.2.90.180>],\n",
       " '2wdr': [<Filter: 2wdr.2.0.0>,\n",
       "  <Filter: 2wdr.2.0.180>,\n",
       "  <Filter: 2wdr.2.135.0>,\n",
       "  <Filter: 2wdr.2.135.180>,\n",
       "  <Filter: 2wdr.2.45.0>,\n",
       "  <Filter: 2wdr.2.45.180>,\n",
       "  <Filter: 2wdr.2.90.0>,\n",
       "  <Filter: 2wdr.2.90.180>]}"
      ]
     },
     "execution_count": 3,
     "metadata": {},
     "output_type": "execute_result"
    }
   ],
   "source": [
    "all_filter"
   ]
  },
  {
   "cell_type": "code",
   "execution_count": 4,
   "metadata": {},
   "outputs": [],
   "source": [
    "def add_filter(stimulus):\n",
    "    \"\"\"\n",
    "    :param stimulus: list of Filter objects\n",
    "    :returns: numpy array with sum of all filter values\n",
    "    \"\"\"\n",
    "    all_val = [np.expand_dims(f.values, 0) for f in stimulus]\n",
    "    np_ar = np.concatenate(all_val, axis=0)\n",
    "    print(np_ar.shape)\n",
    "    return np.sum(np_ar, axis=0)\n",
    "\n",
    "def add_all_stim(all_stim):\n",
    "    \"\"\"\n",
    "    :param all_stim: dictionary of stimuli, containg the Filter object\n",
    "    :return: same dictionary but now containing numpy arrays\n",
    "    \"\"\"\n",
    "    new_dict = dict()\n",
    "    for key, value in d.items():\n",
    "        new_dict[key] = add_filter(value)\n",
    "    return new_dict\n",
    "\n",
    "def stim_dict_to_np_and_label(stim_dict):\n",
    "    \"\"\"\n",
    "    :param stim_dict: dictionary with stimulus name as key, and numpy array as value\n",
    "    :return: label (list of names), all combined (numpy array of shape [n_stimuli, n_neurons])\n",
    "    \"\"\"\n",
    "    label = list(stim_dict.keys())\n",
    "    val = np.concatenate([np.expand_dims(stim_dict[k],0) for k in stim_dict.keys()], axis=0)\n",
    "    return label, val"
   ]
  },
  {
   "cell_type": "code",
   "execution_count": null,
   "metadata": {},
   "outputs": [],
   "source": []
  },
  {
   "cell_type": "code",
   "execution_count": 5,
   "metadata": {},
   "outputs": [
    {
     "name": "stdout",
     "output_type": "stream",
     "text": [
      "(8, 16384)\n"
     ]
    }
   ],
   "source": [
    "one_obj = add_filter(all_filter['1bcl'])"
   ]
  },
  {
   "cell_type": "code",
   "execution_count": 6,
   "metadata": {},
   "outputs": [
    {
     "data": {
      "image/png": "[encoded data removed]",
      "text/plain": [
       "<matplotlib.figure.Figure at 0x107a074e0>"
      ]
     },
     "metadata": {},
     "output_type": "display_data"
    }
   ],
   "source": [
    "spikeplot.show_values_all_things(np.expand_dims(one_obj,0), \"Object\")"
   ]
  },
  {
   "cell_type": "code",
   "execution_count": null,
   "metadata": {},
   "outputs": [],
   "source": []
  },
  {
   "cell_type": "code",
   "execution_count": null,
   "metadata": {},
   "outputs": [],
   "source": []
  }
 ],
 "metadata": {
  "kernelspec": {
   "display_name": "myscipy",
   "language": "python",
   "name": "myscipy"
  },
  "language_info": {
   "codemirror_mode": {
    "name": "ipython",
    "version": 3
   },
   "file_extension": ".py",
   "mimetype": "text/x-python",
   "name": "python",
   "nbconvert_exporter": "python",
   "pygments_lexer": "ipython3",
   "version": "3.6.3"
  }
 },
 "nbformat": 4,
 "nbformat_minor": 2
}
