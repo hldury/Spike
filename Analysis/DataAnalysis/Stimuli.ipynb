{
 "cells": [
  {
   "cell_type": "code",
   "execution_count": 1,
   "metadata": {
    "collapsed": true
   },
   "outputs": [],
   "source": [
    "import numpy as np\n",
    "import pandas as pd\n",
    "import sys\n",
    "\n",
    "from timeit import default_timer as timer\n",
    "import matplotlib.pyplot as plt\n",
    "%matplotlib inline\n",
    "\n",
    "sys.path.append(\"/Users/clemens/Documents/Code/AnalysisToolbox\")\n",
    "\n",
    "import spikeAnalysisToolsV2.data_loading as data\n",
    "import spikeAnalysisToolsV2.synapse_analysis as synapse_analysis\n",
    "import spikeAnalysisToolsV2.plotting as spikeplot\n",
    "import spikeAnalysisToolsV2.helper as helper"
   ]
  },
  {
   "cell_type": "code",
   "execution_count": 2,
   "metadata": {},
   "outputs": [
    {
     "name": "stdout",
     "output_type": "stream",
     "text": [
      "loading from /Users/clemens/Documents/Code/ModelClemens/Data/MatlabGaborFilter/testing/Filtered/1bbl.flt/1bbl.2.0.0.gbo\n",
      "loading from /Users/clemens/Documents/Code/ModelClemens/Data/MatlabGaborFilter/testing/Filtered/1bbl.flt/1bbl.2.0.180.gbo\n",
      "loading from /Users/clemens/Documents/Code/ModelClemens/Data/MatlabGaborFilter/testing/Filtered/1bbl.flt/1bbl.2.135.0.gbo\n",
      "loading from /Users/clemens/Documents/Code/ModelClemens/Data/MatlabGaborFilter/testing/Filtered/1bbl.flt/1bbl.2.135.180.gbo\n",
      "loading from /Users/clemens/Documents/Code/ModelClemens/Data/MatlabGaborFilter/testing/Filtered/1bbl.flt/1bbl.2.45.0.gbo\n",
      "loading from /Users/clemens/Documents/Code/ModelClemens/Data/MatlabGaborFilter/testing/Filtered/1bbl.flt/1bbl.2.45.180.gbo\n",
      "loading from /Users/clemens/Documents/Code/ModelClemens/Data/MatlabGaborFilter/testing/Filtered/1bbl.flt/1bbl.2.90.0.gbo\n",
      "loading from /Users/clemens/Documents/Code/ModelClemens/Data/MatlabGaborFilter/testing/Filtered/1bbl.flt/1bbl.2.90.180.gbo\n",
      "loading from /Users/clemens/Documents/Code/ModelClemens/Data/MatlabGaborFilter/testing/Filtered/1bbr.flt/1bbr.2.0.0.gbo\n",
      "loading from /Users/clemens/Documents/Code/ModelClemens/Data/MatlabGaborFilter/testing/Filtered/1bbr.flt/1bbr.2.0.180.gbo\n",
      "loading from /Users/clemens/Documents/Code/ModelClemens/Data/MatlabGaborFilter/testing/Filtered/1bbr.flt/1bbr.2.135.0.gbo\n",
      "loading from /Users/clemens/Documents/Code/ModelClemens/Data/MatlabGaborFilter/testing/Filtered/1bbr.flt/1bbr.2.135.180.gbo\n",
      "loading from /Users/clemens/Documents/Code/ModelClemens/Data/MatlabGaborFilter/testing/Filtered/1bbr.flt/1bbr.2.45.0.gbo\n",
      "loading from /Users/clemens/Documents/Code/ModelClemens/Data/MatlabGaborFilter/testing/Filtered/1bbr.flt/1bbr.2.45.180.gbo\n",
      "loading from /Users/clemens/Documents/Code/ModelClemens/Data/MatlabGaborFilter/testing/Filtered/1bbr.flt/1bbr.2.90.0.gbo\n",
      "loading from /Users/clemens/Documents/Code/ModelClemens/Data/MatlabGaborFilter/testing/Filtered/1bbr.flt/1bbr.2.90.180.gbo\n",
      "loading from /Users/clemens/Documents/Code/ModelClemens/Data/MatlabGaborFilter/testing/Filtered/1bhl.flt/1bhl.2.0.0.gbo\n",
      "loading from /Users/clemens/Documents/Code/ModelClemens/Data/MatlabGaborFilter/testing/Filtered/1bhl.flt/1bhl.2.0.180.gbo\n",
      "loading from /Users/clemens/Documents/Code/ModelClemens/Data/MatlabGaborFilter/testing/Filtered/1bhl.flt/1bhl.2.135.0.gbo\n",
      "loading from /Users/clemens/Documents/Code/ModelClemens/Data/MatlabGaborFilter/testing/Filtered/1bhl.flt/1bhl.2.135.180.gbo\n",
      "loading from /Users/clemens/Documents/Code/ModelClemens/Data/MatlabGaborFilter/testing/Filtered/1bhl.flt/1bhl.2.45.0.gbo\n",
      "loading from /Users/clemens/Documents/Code/ModelClemens/Data/MatlabGaborFilter/testing/Filtered/1bhl.flt/1bhl.2.45.180.gbo\n",
      "loading from /Users/clemens/Documents/Code/ModelClemens/Data/MatlabGaborFilter/testing/Filtered/1bhl.flt/1bhl.2.90.0.gbo\n",
      "loading from /Users/clemens/Documents/Code/ModelClemens/Data/MatlabGaborFilter/testing/Filtered/1bhl.flt/1bhl.2.90.180.gbo\n",
      "loading from /Users/clemens/Documents/Code/ModelClemens/Data/MatlabGaborFilter/testing/Filtered/1bhr.flt/1bhr.2.0.0.gbo\n",
      "loading from /Users/clemens/Documents/Code/ModelClemens/Data/MatlabGaborFilter/testing/Filtered/1bhr.flt/1bhr.2.0.180.gbo\n",
      "loading from /Users/clemens/Documents/Code/ModelClemens/Data/MatlabGaborFilter/testing/Filtered/1bhr.flt/1bhr.2.135.0.gbo\n",
      "loading from /Users/clemens/Documents/Code/ModelClemens/Data/MatlabGaborFilter/testing/Filtered/1bhr.flt/1bhr.2.135.180.gbo\n",
      "loading from /Users/clemens/Documents/Code/ModelClemens/Data/MatlabGaborFilter/testing/Filtered/1bhr.flt/1bhr.2.45.0.gbo\n",
      "loading from /Users/clemens/Documents/Code/ModelClemens/Data/MatlabGaborFilter/testing/Filtered/1bhr.flt/1bhr.2.45.180.gbo\n",
      "loading from /Users/clemens/Documents/Code/ModelClemens/Data/MatlabGaborFilter/testing/Filtered/1bhr.flt/1bhr.2.90.0.gbo\n",
      "loading from /Users/clemens/Documents/Code/ModelClemens/Data/MatlabGaborFilter/testing/Filtered/1bhr.flt/1bhr.2.90.180.gbo\n",
      "loading from /Users/clemens/Documents/Code/ModelClemens/Data/MatlabGaborFilter/testing/Filtered/1wbr.flt/1wbr.2.0.0.gbo\n",
      "loading from /Users/clemens/Documents/Code/ModelClemens/Data/MatlabGaborFilter/testing/Filtered/1wbr.flt/1wbr.2.0.180.gbo\n",
      "loading from /Users/clemens/Documents/Code/ModelClemens/Data/MatlabGaborFilter/testing/Filtered/1wbr.flt/1wbr.2.135.0.gbo\n",
      "loading from /Users/clemens/Documents/Code/ModelClemens/Data/MatlabGaborFilter/testing/Filtered/1wbr.flt/1wbr.2.135.180.gbo\n",
      "loading from /Users/clemens/Documents/Code/ModelClemens/Data/MatlabGaborFilter/testing/Filtered/1wbr.flt/1wbr.2.45.0.gbo\n",
      "loading from /Users/clemens/Documents/Code/ModelClemens/Data/MatlabGaborFilter/testing/Filtered/1wbr.flt/1wbr.2.45.180.gbo\n",
      "loading from /Users/clemens/Documents/Code/ModelClemens/Data/MatlabGaborFilter/testing/Filtered/1wbr.flt/1wbr.2.90.0.gbo\n",
      "loading from /Users/clemens/Documents/Code/ModelClemens/Data/MatlabGaborFilter/testing/Filtered/1wbr.flt/1wbr.2.90.180.gbo\n",
      "loading from /Users/clemens/Documents/Code/ModelClemens/Data/MatlabGaborFilter/testing/Filtered/1wol.flt/1wol.2.0.0.gbo\n",
      "loading from /Users/clemens/Documents/Code/ModelClemens/Data/MatlabGaborFilter/testing/Filtered/1wol.flt/1wol.2.0.180.gbo\n",
      "loading from /Users/clemens/Documents/Code/ModelClemens/Data/MatlabGaborFilter/testing/Filtered/1wol.flt/1wol.2.135.0.gbo\n",
      "loading from /Users/clemens/Documents/Code/ModelClemens/Data/MatlabGaborFilter/testing/Filtered/1wol.flt/1wol.2.135.180.gbo\n",
      "loading from /Users/clemens/Documents/Code/ModelClemens/Data/MatlabGaborFilter/testing/Filtered/1wol.flt/1wol.2.45.0.gbo\n",
      "loading from /Users/clemens/Documents/Code/ModelClemens/Data/MatlabGaborFilter/testing/Filtered/1wol.flt/1wol.2.45.180.gbo\n",
      "loading from /Users/clemens/Documents/Code/ModelClemens/Data/MatlabGaborFilter/testing/Filtered/1wol.flt/1wol.2.90.0.gbo\n",
      "loading from /Users/clemens/Documents/Code/ModelClemens/Data/MatlabGaborFilter/testing/Filtered/1wol.flt/1wol.2.90.180.gbo\n",
      "loading from /Users/clemens/Documents/Code/ModelClemens/Data/MatlabGaborFilter/testing/Filtered/1wor.flt/1wor.2.0.0.gbo\n",
      "loading from /Users/clemens/Documents/Code/ModelClemens/Data/MatlabGaborFilter/testing/Filtered/1wor.flt/1wor.2.0.180.gbo\n",
      "loading from /Users/clemens/Documents/Code/ModelClemens/Data/MatlabGaborFilter/testing/Filtered/1wor.flt/1wor.2.135.0.gbo\n",
      "loading from /Users/clemens/Documents/Code/ModelClemens/Data/MatlabGaborFilter/testing/Filtered/1wor.flt/1wor.2.135.180.gbo\n",
      "loading from /Users/clemens/Documents/Code/ModelClemens/Data/MatlabGaborFilter/testing/Filtered/1wor.flt/1wor.2.45.0.gbo\n",
      "loading from /Users/clemens/Documents/Code/ModelClemens/Data/MatlabGaborFilter/testing/Filtered/1wor.flt/1wor.2.45.180.gbo\n",
      "loading from /Users/clemens/Documents/Code/ModelClemens/Data/MatlabGaborFilter/testing/Filtered/1wor.flt/1wor.2.90.0.gbo\n",
      "loading from /Users/clemens/Documents/Code/ModelClemens/Data/MatlabGaborFilter/testing/Filtered/1wor.flt/1wor.2.90.180.gbo\n",
      "loading from /Users/clemens/Documents/Code/ModelClemens/Data/MatlabGaborFilter/testing/Filtered/1wpl.flt/1wpl.2.0.0.gbo\n",
      "loading from /Users/clemens/Documents/Code/ModelClemens/Data/MatlabGaborFilter/testing/Filtered/1wpl.flt/1wpl.2.0.180.gbo\n",
      "loading from /Users/clemens/Documents/Code/ModelClemens/Data/MatlabGaborFilter/testing/Filtered/1wpl.flt/1wpl.2.135.0.gbo\n",
      "loading from /Users/clemens/Documents/Code/ModelClemens/Data/MatlabGaborFilter/testing/Filtered/1wpl.flt/1wpl.2.135.180.gbo\n",
      "loading from /Users/clemens/Documents/Code/ModelClemens/Data/MatlabGaborFilter/testing/Filtered/1wpl.flt/1wpl.2.45.0.gbo\n",
      "loading from /Users/clemens/Documents/Code/ModelClemens/Data/MatlabGaborFilter/testing/Filtered/1wpl.flt/1wpl.2.45.180.gbo\n",
      "loading from /Users/clemens/Documents/Code/ModelClemens/Data/MatlabGaborFilter/testing/Filtered/1wpl.flt/1wpl.2.90.0.gbo\n",
      "loading from /Users/clemens/Documents/Code/ModelClemens/Data/MatlabGaborFilter/testing/Filtered/1wpl.flt/1wpl.2.90.180.gbo\n",
      "loading from /Users/clemens/Documents/Code/ModelClemens/Data/MatlabGaborFilter/testing/Filtered/2bbl.flt/2bbl.2.0.0.gbo\n",
      "loading from /Users/clemens/Documents/Code/ModelClemens/Data/MatlabGaborFilter/testing/Filtered/2bbl.flt/2bbl.2.0.180.gbo\n",
      "loading from /Users/clemens/Documents/Code/ModelClemens/Data/MatlabGaborFilter/testing/Filtered/2bbl.flt/2bbl.2.135.0.gbo\n",
      "loading from /Users/clemens/Documents/Code/ModelClemens/Data/MatlabGaborFilter/testing/Filtered/2bbl.flt/2bbl.2.135.180.gbo\n",
      "loading from /Users/clemens/Documents/Code/ModelClemens/Data/MatlabGaborFilter/testing/Filtered/2bbl.flt/2bbl.2.45.0.gbo\n",
      "loading from /Users/clemens/Documents/Code/ModelClemens/Data/MatlabGaborFilter/testing/Filtered/2bbl.flt/2bbl.2.45.180.gbo\n",
      "loading from /Users/clemens/Documents/Code/ModelClemens/Data/MatlabGaborFilter/testing/Filtered/2bbl.flt/2bbl.2.90.0.gbo\n",
      "loading from /Users/clemens/Documents/Code/ModelClemens/Data/MatlabGaborFilter/testing/Filtered/2bbl.flt/2bbl.2.90.180.gbo\n",
      "loading from /Users/clemens/Documents/Code/ModelClemens/Data/MatlabGaborFilter/testing/Filtered/2bbr.flt/2bbr.2.0.0.gbo\n",
      "loading from /Users/clemens/Documents/Code/ModelClemens/Data/MatlabGaborFilter/testing/Filtered/2bbr.flt/2bbr.2.0.180.gbo\n",
      "loading from /Users/clemens/Documents/Code/ModelClemens/Data/MatlabGaborFilter/testing/Filtered/2bbr.flt/2bbr.2.135.0.gbo\n",
      "loading from /Users/clemens/Documents/Code/ModelClemens/Data/MatlabGaborFilter/testing/Filtered/2bbr.flt/2bbr.2.135.180.gbo\n",
      "loading from /Users/clemens/Documents/Code/ModelClemens/Data/MatlabGaborFilter/testing/Filtered/2bbr.flt/2bbr.2.45.0.gbo\n",
      "loading from /Users/clemens/Documents/Code/ModelClemens/Data/MatlabGaborFilter/testing/Filtered/2bbr.flt/2bbr.2.45.180.gbo\n",
      "loading from /Users/clemens/Documents/Code/ModelClemens/Data/MatlabGaborFilter/testing/Filtered/2bbr.flt/2bbr.2.90.0.gbo\n",
      "loading from /Users/clemens/Documents/Code/ModelClemens/Data/MatlabGaborFilter/testing/Filtered/2bbr.flt/2bbr.2.90.180.gbo\n",
      "loading from /Users/clemens/Documents/Code/ModelClemens/Data/MatlabGaborFilter/testing/Filtered/2bhl.flt/2bhl.2.0.0.gbo\n",
      "loading from /Users/clemens/Documents/Code/ModelClemens/Data/MatlabGaborFilter/testing/Filtered/2bhl.flt/2bhl.2.0.180.gbo\n",
      "loading from /Users/clemens/Documents/Code/ModelClemens/Data/MatlabGaborFilter/testing/Filtered/2bhl.flt/2bhl.2.135.0.gbo\n",
      "loading from /Users/clemens/Documents/Code/ModelClemens/Data/MatlabGaborFilter/testing/Filtered/2bhl.flt/2bhl.2.135.180.gbo\n",
      "loading from /Users/clemens/Documents/Code/ModelClemens/Data/MatlabGaborFilter/testing/Filtered/2bhl.flt/2bhl.2.45.0.gbo\n",
      "loading from /Users/clemens/Documents/Code/ModelClemens/Data/MatlabGaborFilter/testing/Filtered/2bhl.flt/2bhl.2.45.180.gbo\n",
      "loading from /Users/clemens/Documents/Code/ModelClemens/Data/MatlabGaborFilter/testing/Filtered/2bhl.flt/2bhl.2.90.0.gbo\n",
      "loading from /Users/clemens/Documents/Code/ModelClemens/Data/MatlabGaborFilter/testing/Filtered/2bhl.flt/2bhl.2.90.180.gbo\n",
      "loading from /Users/clemens/Documents/Code/ModelClemens/Data/MatlabGaborFilter/testing/Filtered/2bhr.flt/2bhr.2.0.0.gbo\n",
      "loading from /Users/clemens/Documents/Code/ModelClemens/Data/MatlabGaborFilter/testing/Filtered/2bhr.flt/2bhr.2.0.180.gbo\n",
      "loading from /Users/clemens/Documents/Code/ModelClemens/Data/MatlabGaborFilter/testing/Filtered/2bhr.flt/2bhr.2.135.0.gbo\n",
      "loading from /Users/clemens/Documents/Code/ModelClemens/Data/MatlabGaborFilter/testing/Filtered/2bhr.flt/2bhr.2.135.180.gbo\n",
      "loading from /Users/clemens/Documents/Code/ModelClemens/Data/MatlabGaborFilter/testing/Filtered/2bhr.flt/2bhr.2.45.0.gbo\n",
      "loading from /Users/clemens/Documents/Code/ModelClemens/Data/MatlabGaborFilter/testing/Filtered/2bhr.flt/2bhr.2.45.180.gbo\n",
      "loading from /Users/clemens/Documents/Code/ModelClemens/Data/MatlabGaborFilter/testing/Filtered/2bhr.flt/2bhr.2.90.0.gbo\n",
      "loading from /Users/clemens/Documents/Code/ModelClemens/Data/MatlabGaborFilter/testing/Filtered/2bhr.flt/2bhr.2.90.180.gbo\n",
      "loading from /Users/clemens/Documents/Code/ModelClemens/Data/MatlabGaborFilter/testing/Filtered/2wol.flt/2wol.2.0.0.gbo\n",
      "loading from /Users/clemens/Documents/Code/ModelClemens/Data/MatlabGaborFilter/testing/Filtered/2wol.flt/2wol.2.0.180.gbo\n",
      "loading from /Users/clemens/Documents/Code/ModelClemens/Data/MatlabGaborFilter/testing/Filtered/2wol.flt/2wol.2.135.0.gbo\n",
      "loading from /Users/clemens/Documents/Code/ModelClemens/Data/MatlabGaborFilter/testing/Filtered/2wol.flt/2wol.2.135.180.gbo\n",
      "loading from /Users/clemens/Documents/Code/ModelClemens/Data/MatlabGaborFilter/testing/Filtered/2wol.flt/2wol.2.45.0.gbo\n",
      "loading from /Users/clemens/Documents/Code/ModelClemens/Data/MatlabGaborFilter/testing/Filtered/2wol.flt/2wol.2.45.180.gbo\n",
      "loading from /Users/clemens/Documents/Code/ModelClemens/Data/MatlabGaborFilter/testing/Filtered/2wol.flt/2wol.2.90.0.gbo\n",
      "loading from /Users/clemens/Documents/Code/ModelClemens/Data/MatlabGaborFilter/testing/Filtered/2wol.flt/2wol.2.90.180.gbo\n",
      "loading from /Users/clemens/Documents/Code/ModelClemens/Data/MatlabGaborFilter/testing/Filtered/2wor.flt/2wor.2.0.0.gbo\n",
      "loading from /Users/clemens/Documents/Code/ModelClemens/Data/MatlabGaborFilter/testing/Filtered/2wor.flt/2wor.2.0.180.gbo\n",
      "loading from /Users/clemens/Documents/Code/ModelClemens/Data/MatlabGaborFilter/testing/Filtered/2wor.flt/2wor.2.135.0.gbo\n",
      "loading from /Users/clemens/Documents/Code/ModelClemens/Data/MatlabGaborFilter/testing/Filtered/2wor.flt/2wor.2.135.180.gbo\n",
      "loading from /Users/clemens/Documents/Code/ModelClemens/Data/MatlabGaborFilter/testing/Filtered/2wor.flt/2wor.2.45.0.gbo\n",
      "loading from /Users/clemens/Documents/Code/ModelClemens/Data/MatlabGaborFilter/testing/Filtered/2wor.flt/2wor.2.45.180.gbo\n",
      "loading from /Users/clemens/Documents/Code/ModelClemens/Data/MatlabGaborFilter/testing/Filtered/2wor.flt/2wor.2.90.0.gbo\n",
      "loading from /Users/clemens/Documents/Code/ModelClemens/Data/MatlabGaborFilter/testing/Filtered/2wor.flt/2wor.2.90.180.gbo\n",
      "loading from /Users/clemens/Documents/Code/ModelClemens/Data/MatlabGaborFilter/testing/Filtered/2wpl.flt/2wpl.2.0.0.gbo\n",
      "loading from /Users/clemens/Documents/Code/ModelClemens/Data/MatlabGaborFilter/testing/Filtered/2wpl.flt/2wpl.2.0.180.gbo\n",
      "loading from /Users/clemens/Documents/Code/ModelClemens/Data/MatlabGaborFilter/testing/Filtered/2wpl.flt/2wpl.2.135.0.gbo\n",
      "loading from /Users/clemens/Documents/Code/ModelClemens/Data/MatlabGaborFilter/testing/Filtered/2wpl.flt/2wpl.2.135.180.gbo\n",
      "loading from /Users/clemens/Documents/Code/ModelClemens/Data/MatlabGaborFilter/testing/Filtered/2wpl.flt/2wpl.2.45.0.gbo\n",
      "loading from /Users/clemens/Documents/Code/ModelClemens/Data/MatlabGaborFilter/testing/Filtered/2wpl.flt/2wpl.2.45.180.gbo\n",
      "loading from /Users/clemens/Documents/Code/ModelClemens/Data/MatlabGaborFilter/testing/Filtered/2wpl.flt/2wpl.2.90.0.gbo\n",
      "loading from /Users/clemens/Documents/Code/ModelClemens/Data/MatlabGaborFilter/testing/Filtered/2wpl.flt/2wpl.2.90.180.gbo\n",
      "loading from /Users/clemens/Documents/Code/ModelClemens/Data/MatlabGaborFilter/testing/Filtered/2wpr.flt/2wpr.2.0.0.gbo\n",
      "loading from /Users/clemens/Documents/Code/ModelClemens/Data/MatlabGaborFilter/testing/Filtered/2wpr.flt/2wpr.2.0.180.gbo\n",
      "loading from /Users/clemens/Documents/Code/ModelClemens/Data/MatlabGaborFilter/testing/Filtered/2wpr.flt/2wpr.2.135.0.gbo\n",
      "loading from /Users/clemens/Documents/Code/ModelClemens/Data/MatlabGaborFilter/testing/Filtered/2wpr.flt/2wpr.2.135.180.gbo\n",
      "loading from /Users/clemens/Documents/Code/ModelClemens/Data/MatlabGaborFilter/testing/Filtered/2wpr.flt/2wpr.2.45.0.gbo\n",
      "loading from /Users/clemens/Documents/Code/ModelClemens/Data/MatlabGaborFilter/testing/Filtered/2wpr.flt/2wpr.2.45.180.gbo\n",
      "loading from /Users/clemens/Documents/Code/ModelClemens/Data/MatlabGaborFilter/testing/Filtered/2wpr.flt/2wpr.2.90.0.gbo\n",
      "loading from /Users/clemens/Documents/Code/ModelClemens/Data/MatlabGaborFilter/testing/Filtered/2wpr.flt/2wpr.2.90.180.gbo\n"
     ]
    }
   ],
   "source": [
    "filter_path = \"/Users/clemens/Documents/Code/ModelClemens/Data/MatlabGaborFilter/testing/Filtered\"\n",
    "all_filter = data.load_filter_all_obj(filter_path, \"list\")"
   ]
  },
  {
   "cell_type": "code",
   "execution_count": 3,
   "metadata": {
    "collapsed": true
   },
   "outputs": [],
   "source": [
    "def concat_filter(stimulus):\n",
    "    \"\"\"\n",
    "    :param stimulus: list of Filter objects\n",
    "    :returns: numpy array with sum of all filter values\n",
    "    \"\"\"\n",
    "    all_val = [np.expand_dims(f.values, 0)-f.values[0] for f in stimulus]\n",
    "    # /np.linalg.norm(f.values) normalisation\n",
    "    np_ar = np.concatenate(all_val, axis=0)\n",
    "    return np_ar\n",
    "\n",
    "def combine_all_stim(all_stim, combine_fun=None):\n",
    "    \"\"\"\n",
    "    :param all_stim: dictionary of stimuli, containg the Filter object\n",
    "    :return: same dictionary but now containing numpy arrays\n",
    "    \"\"\"\n",
    "    new_dict = dict()\n",
    "    for key, value in all_stim.items():\n",
    "        stim = concat_filter(value)\n",
    "        if combine_fun:\n",
    "            stim = combine_fun(stim, axis=0)\n",
    "        new_dict[key] = stim\n",
    "    return new_dict\n",
    "\n",
    "def stim_dict_to_np_and_label(stim_dict):\n",
    "    \"\"\"\n",
    "    :param stim_dict: dictionary with stimulus name as key, and numpy array as value\n",
    "    :return: label (list of names), all combined (numpy array of shape [n_stimuli, n_neurons])\n",
    "    \"\"\"\n",
    "    label = list(stim_dict.keys())\n",
    "    val = np.concatenate([np.expand_dims(stim_dict[k],0) for k in stim_dict.keys()], axis=0)\n",
    "    return label, val"
   ]
  },
  {
   "cell_type": "code",
   "execution_count": 5,
   "metadata": {
    "collapsed": true
   },
   "outputs": [],
   "source": [
    "all_stim_np = combine_all_stim(all_filter)\n"
   ]
  },
  {
   "cell_type": "markdown",
   "metadata": {},
   "source": [
    "## Show Filter"
   ]
  },
  {
   "cell_type": "code",
   "execution_count": 6,
   "metadata": {},
   "outputs": [
    {
     "data": {
      "image/png": "[encoded data removed]",
      "text/plain": [
       "<matplotlib.figure.Figure at 0x10c2e3358>"
      ]
     },
     "metadata": {},
     "output_type": "display_data"
    }
   ],
   "source": [
    "spikeplot.show_values_all_things(list(all_stim_np.values())[4], \"Filter\")"
   ]
  },
  {
   "cell_type": "markdown",
   "metadata": {},
   "source": [
    "## Statistics of the filter"
   ]
  },
  {
   "cell_type": "code",
   "execution_count": 7,
   "metadata": {},
   "outputs": [
    {
     "name": "stdout",
     "output_type": "stream",
     "text": [
      "[1167  639 1184  738 1187  744 1181  745]\n",
      "(8, 16384)\n",
      "[1167  639 1187  744 1184  738 1181  745]\n",
      "(8, 16384)\n",
      "[1047  576 1067  622 1049  614 1032  631]\n",
      "(8, 16384)\n",
      "[1054  586 1063  625 1086  632 1046  641]\n",
      "(8, 16384)\n",
      "[ 821 1228  776 1352  780 1348  775 1305]\n",
      "(8, 16384)\n",
      "[ 905 1336  828 1492  836 1488  869 1431]\n",
      "(8, 16384)\n",
      "[ 888 1343  820 1507  824 1496  856 1448]\n",
      "(8, 16384)\n",
      "[ 821 1228  780 1348  776 1352  775 1305]\n",
      "(8, 16384)\n",
      "[1167  639 1184  738 1187  744 1181  745]\n",
      "(8, 16384)\n",
      "[1167  639 1187  744 1184  738 1181  745]\n",
      "(8, 16384)\n",
      "[1054  586 1086  632 1063  625 1046  641]\n",
      "(8, 16384)\n",
      "[1047  576 1049  614 1067  622 1032  631]\n",
      "(8, 16384)\n",
      "[ 853 1422  855 1509  861 1512  858 1489]\n",
      "(8, 16384)\n",
      "[ 887 1336  819 1495  818 1488  848 1451]\n",
      "(8, 16384)\n",
      "[ 821 1228  780 1348  776 1352  775 1305]\n",
      "(8, 16384)\n",
      "[ 821 1228  776 1352  780 1348  775 1305]\n",
      "(8, 16384)\n"
     ]
    },
    {
     "data": {
      "image/png": "[encoded data removed]",
      "text/plain": [
       "<matplotlib.figure.Figure at 0x1090c9828>"
      ]
     },
     "metadata": {},
     "output_type": "display_data"
    }
   ],
   "source": [
    "for key, val in all_stim_np.items():\n",
    "    print(np.count_nonzero(val > 0.0001, axis=1))\n",
    "    plt.hist(val[0])\n",
    "    print(val.shape)"
   ]
  },
  {
   "cell_type": "code",
   "execution_count": 16,
   "metadata": {},
   "outputs": [
    {
     "data": {
      "text/plain": [
       "(array([  1.14281000e+05,   9.73000000e+03,   2.16500000e+03,\n",
       "          7.65000000e+02,   3.05000000e+02,   1.18000000e+02,\n",
       "          7.00000000e+01,   2.40000000e+01,   1.60000000e+01,\n",
       "          1.60000000e+01]),\n",
       " array([  1.00118043e-04,   5.41264970e-02,   1.08152876e-01,\n",
       "          1.62179255e-01,   2.16205634e-01,   2.70232013e-01,\n",
       "          3.24258392e-01,   3.78284771e-01,   4.32311150e-01,\n",
       "          4.86337529e-01,   5.40363908e-01]),\n",
       " <a list of 10 Patch objects>)"
      ]
     },
     "execution_count": 16,
     "metadata": {},
     "output_type": "execute_result"
    },
    {
     "data": {
      "image/png": "[encoded data removed]",
      "text/plain": [
       "<matplotlib.figure.Figure at 0x10c3d69e8>"
      ]
     },
     "metadata": {},
     "output_type": "display_data"
    }
   ],
   "source": [
    "all_filter_values_flat = np.concatenate(list(all_stim_np.values())).flatten()\n",
    "plt.hist(all_filter_values_flat[all_filter_values_flat> 0.0001])"
   ]
  },
  {
   "cell_type": "markdown",
   "metadata": {},
   "source": [
    "## Are left and right objects really indistiguisable at the border\n",
    "###"
   ]
  },
  {
   "cell_type": "code",
   "execution_count": 8,
   "metadata": {
    "collapsed": true
   },
   "outputs": [],
   "source": [
    "def distinguishable_pixel(filter_a, filter_b, epsilon=0.001):\n",
    "    assert(filter_a.shape == filter_b.shape)\n",
    "    mval = max(np.max(filter_a), np.max(filter_b))\n",
    "    print(np.sum(filter_a))\n",
    "    print(np.sum(filter_b))\n",
    "    \n",
    "    values_different = np.abs(filter_a - filter_b) >= epsilon * mval\n",
    "    #values_different = np.any(values_different, axis=0)\n",
    "    return values_different\n",
    "\n",
    "\n",
    "all_filter_dict = combine_all_stim(all_filter, None)\n",
    "\n",
    "def show_distinguishape_pixel(name_a, name_b):\n",
    "    any_val_different = distinguishable_pixel(all_filter_dict[name_a], all_filter_dict[name_b])\n",
    "    spikeplot.show_values_all_things(any_val_different, \"Pixel that have a different Value in any of the gabor filter\")"
   ]
  },
  {
   "cell_type": "code",
   "execution_count": 9,
   "metadata": {},
   "outputs": [
    {
     "ename": "KeyError",
     "evalue": "'1bdl'",
     "output_type": "error",
     "traceback": [
      "\u001b[0;31m---------------------------------------------------------------------------\u001b[0m",
      "\u001b[0;31mKeyError\u001b[0m                                  Traceback (most recent call last)",
      "\u001b[0;32m<ipython-input-9-88a6068cde06>\u001b[0m in \u001b[0;36m<module>\u001b[0;34m()\u001b[0m\n\u001b[0;32m----> 1\u001b[0;31m \u001b[0mshow_distinguishape_pixel\u001b[0m\u001b[0;34m(\u001b[0m\u001b[0;34m'1bdl'\u001b[0m\u001b[0;34m,\u001b[0m \u001b[0;34m'1wdr'\u001b[0m\u001b[0;34m)\u001b[0m\u001b[0;34m\u001b[0m\u001b[0m\n\u001b[0m",
      "\u001b[0;32m<ipython-input-8-3d63c6f7d978>\u001b[0m in \u001b[0;36mshow_distinguishape_pixel\u001b[0;34m(name_a, name_b)\u001b[0m\n\u001b[1;32m     13\u001b[0m \u001b[0;34m\u001b[0m\u001b[0m\n\u001b[1;32m     14\u001b[0m \u001b[0;32mdef\u001b[0m \u001b[0mshow_distinguishape_pixel\u001b[0m\u001b[0;34m(\u001b[0m\u001b[0mname_a\u001b[0m\u001b[0;34m,\u001b[0m \u001b[0mname_b\u001b[0m\u001b[0;34m)\u001b[0m\u001b[0;34m:\u001b[0m\u001b[0;34m\u001b[0m\u001b[0m\n\u001b[0;32m---> 15\u001b[0;31m     \u001b[0many_val_different\u001b[0m \u001b[0;34m=\u001b[0m \u001b[0mdistinguishable_pixel\u001b[0m\u001b[0;34m(\u001b[0m\u001b[0mall_filter_dict\u001b[0m\u001b[0;34m[\u001b[0m\u001b[0mname_a\u001b[0m\u001b[0;34m]\u001b[0m\u001b[0;34m,\u001b[0m \u001b[0mall_filter_dict\u001b[0m\u001b[0;34m[\u001b[0m\u001b[0mname_b\u001b[0m\u001b[0;34m]\u001b[0m\u001b[0;34m)\u001b[0m\u001b[0;34m\u001b[0m\u001b[0m\n\u001b[0m\u001b[1;32m     16\u001b[0m     \u001b[0mspikeplot\u001b[0m\u001b[0;34m.\u001b[0m\u001b[0mshow_values_all_things\u001b[0m\u001b[0;34m(\u001b[0m\u001b[0many_val_different\u001b[0m\u001b[0;34m,\u001b[0m \u001b[0;34m\"Pixel that have a different Value in any of the gabor filter\"\u001b[0m\u001b[0;34m)\u001b[0m\u001b[0;34m\u001b[0m\u001b[0m\n",
      "\u001b[0;31mKeyError\u001b[0m: '1bdl'"
     ]
    }
   ],
   "source": [
    "show_distinguishape_pixel('1bdl', '1wdr')"
   ]
  },
  {
   "cell_type": "markdown",
   "metadata": {},
   "source": [
    "### Trying to gues border type (left or right border of the object) from just one pixel"
   ]
  },
  {
   "cell_type": "code",
   "execution_count": null,
   "metadata": {
    "collapsed": true
   },
   "outputs": [],
   "source": [
    "#argsort\n",
    "#np.all( < n_first) || np.all( > n_first)\n",
    "def determinant_pixel(stimuli_a, stimuli_b, epsilon=0.1):\n",
    "    \"\"\"\n",
    "    For each pixel we see if we can find a threshold, that pefectly distinguishes the classes A and B\n",
    "    each stimuli_(a,b) is of shape [stimulus, filter_layer, pixel]\"\"\"\n",
    "    \n",
    "    n_a = stimuli_a.shape[0]\n",
    "    n_b = stimuli_b.shape[0]\n",
    "    assert(n_a == n_b)\n",
    "    \n",
    "    stacked = np.concatenate([stimuli_a, stimuli_b], axis=0)\n",
    "    \n",
    "    sorted_values = np.sort(stacked, axis=0) # sort along the stimuli axis, \n",
    "    thresholds = sorted_values[n_a, :, :] #if a is 4 we take the 5th value. all a values have to be < this\n",
    "    print(stimuli_a.shape)\n",
    "    \n",
    "    values_a_smaller = np.all((stimuli_a < thresholds), axis=0) & np.all((stimuli_b >= thresholds), axis=0) \n",
    "    values_a_bigger  = np.all((stimuli_b < thresholds), axis=0) & np.all((stimuli_a >= thresholds), axis=0)\n",
    "                                     \n",
    "   \n",
    "    assert(not np.any(values_a_smaller & values_a_bigger))\n",
    "    \n",
    "    result = np.zeros(values_a_smaller.shape)\n",
    "\n",
    "    result[values_a_smaller] = +1\n",
    "    result[values_a_bigger] = +1\n",
    "    \n",
    "    \n",
    "    #values_different = np.any(values_different, axis=0)\n",
    "    return result\n",
    "\n",
    "all_filter_dict = combine_all_stim(all_filter, None)\n",
    "\n",
    "def show_determinant_pixel(group_a, group_b):\n",
    "    \"\"\"group_a and b are a list of names of stimuli that we want to distinguish\"\"\"\n",
    "    \n",
    "    stimuli_a = np.concatenate([np.expand_dims(all_filter_dict[stim_name], 0) for stim_name in group_a], axis=0)\n",
    "    stimuli_b = np.concatenate([np.expand_dims(all_filter_dict[stim_name], 0) for stim_name in group_b], axis=0)\n",
    "    \n",
    "    result = determinant_pixel(stimuli_a, stimuli_b)\n",
    "    print(result[0])\n",
    "\n",
    "    spikeplot.show_values_all_things(result, \"Pixel that have a different Value in any of the gabor filter\", cmap='gray')"
   ]
  },
  {
   "cell_type": "code",
   "execution_count": null,
   "metadata": {
    "collapsed": true
   },
   "outputs": [],
   "source": [
    "show_determinant_pixel(['1wdl', '1bcl', '1wcl', '1bcl'], ['1wdr', '1bdr', '1wcr', '1bcr'])\n",
    "#show_determinant_pixel(['1bcl'], ['1bcr'])"
   ]
  },
  {
   "cell_type": "markdown",
   "metadata": {},
   "source": [
    "## Stimuli and Stuff"
   ]
  },
  {
   "cell_type": "code",
   "execution_count": null,
   "metadata": {
    "collapsed": true
   },
   "outputs": [],
   "source": [
    "all_stim_sum = add_all_stim(all_filter)\n",
    "label, val = stim_dict_to_np_and_label(all_stim_sum)"
   ]
  },
  {
   "cell_type": "code",
   "execution_count": null,
   "metadata": {
    "collapsed": true
   },
   "outputs": [],
   "source": []
  },
  {
   "cell_type": "code",
   "execution_count": null,
   "metadata": {
    "collapsed": true,
    "scrolled": false
   },
   "outputs": [],
   "source": [
    "spikeplot.show_values_all_things(val, \"Object\", thing_label = label)"
   ]
  },
  {
   "cell_type": "code",
   "execution_count": null,
   "metadata": {
    "collapsed": true
   },
   "outputs": [],
   "source": [
    "\n",
    "a= np.expand_dims(all_stim_sum['1bcl'] - all_stim_sum['1wcl'], 0)\n",
    "\n",
    "spikeplot.show_values_all_things(a, \"Dif between white and black circle\")"
   ]
  },
  {
   "cell_type": "markdown",
   "metadata": {},
   "source": [
    "## PCA"
   ]
  },
  {
   "cell_type": "code",
   "execution_count": null,
   "metadata": {
    "collapsed": true
   },
   "outputs": [],
   "source": [
    "from sklearn.decomposition import PCA\n",
    "def calculate_pca(list_of_stim):\n",
    "    \"\"\"list of stim is a list with string stimulus names for which pca is calculated\"\"\"\n",
    "    relevant_values = np.concatenate([np.expand_dims(all_stim_sum[s],0) for s in list_of_stim], axis=0)\n",
    "    pca = PCA(n_components=2)\n",
    "    pca.fit(relevant_values)\n",
    "    comp = pca.components_\n",
    "    print(\"Explained variance {}\".format(pca.explained_variance_))\n",
    "    return comp"
   ]
  },
  {
   "cell_type": "code",
   "execution_count": null,
   "metadata": {
    "collapsed": true
   },
   "outputs": [],
   "source": [
    "loc1 = [\"1wcl\", \"1wcr\", \"1bcl\", \"1bcr\", \"1wdl\", \"1wdr\", \"1bdl\", \"1bdr\"]\n",
    "loc2 = [\"2wcl\", \"2wcr\", \"2bcl\", \"2bcr\", \"2wdl\", \"2wdr\", \"2bdl\", \"2bdr\"]\n",
    "loc1_diamond = [\"1wdl\", \"1wdr\", \"1bdl\", \"1bdr\"]"
   ]
  },
  {
   "cell_type": "code",
   "execution_count": null,
   "metadata": {
    "collapsed": true
   },
   "outputs": [],
   "source": []
  },
  {
   "cell_type": "code",
   "execution_count": null,
   "metadata": {
    "collapsed": true
   },
   "outputs": [],
   "source": [
    "comp = calculate_pca(loc1_diamond)\n",
    "spikeplot.show_values_all_things(comp, \"Principal Components\", thing_label = [\"first\", \"second\"])"
   ]
  },
  {
   "cell_type": "code",
   "execution_count": null,
   "metadata": {
    "collapsed": true
   },
   "outputs": [],
   "source": []
  }
 ],
 "metadata": {
  "kernelspec": {
   "display_name": "Python 3",
   "language": "python",
   "name": "python3"
  },
  "language_info": {
   "codemirror_mode": {
    "name": "ipython",
    "version": 3
   },
   "file_extension": ".py",
   "mimetype": "text/x-python",
   "name": "python",
   "nbconvert_exporter": "python",
   "pygments_lexer": "ipython3",
   "version": "3.6.1"
  }
 },
 "nbformat": 4,
 "nbformat_minor": 2
}
