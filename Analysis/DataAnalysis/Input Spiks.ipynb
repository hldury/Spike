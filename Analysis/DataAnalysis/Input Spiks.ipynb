{
 "cells": [
  {
   "cell_type": "code",
   "execution_count": 215,
   "metadata": {
    "collapsed": true
   },
   "outputs": [],
   "source": [
    "import numpy as np\n",
    "import pandas as pd\n",
    "import sys\n",
    "from timeit import default_timer as timer\n",
    "import matplotlib.pyplot as plt\n",
    "%matplotlib inline\n",
    "\n",
    "sys.path.append(\"/Users/clemens/Documents/Code/AnalysisToolbox\")\n",
    "\n",
    "import spikeAnalysisToolsV2.data_loading as data\n",
    "import spikeAnalysisToolsV2.firing_rates as firing\n",
    "import spikeAnalysisToolsV2.helper as helper\n",
    "import spikeAnalysisToolsV2.overviews as overview\n",
    "import spikeAnalysisToolsV2.plotting as spikeplot"
   ]
  },
  {
   "cell_type": "code",
   "execution_count": 216,
   "metadata": {},
   "outputs": [
    {
     "name": "stdout",
     "output_type": "stream",
     "text": [
      "[{'count': 4, 'elements': {'random_0000'}, 'indices': [0, 1, 2, 3]}]\n",
      "['obj0:random_0000', 'obj0:random_0000', 'obj0:random_0000', 'obj0:random_0000']\n"
     ]
    }
   ],
   "source": [
    "masterpath = \"/Users/clemens/Documents/Code/ModelClemens/output\"\n",
    "## set the subfolder to the Simulation you want to analyse \n",
    "\n",
    "subfolders = [\n",
    "    \"01_08-19_23_noise2\"\n",
    "    #\"01_08-19_17_noise2\"\n",
    "            ]\n",
    "## if more than the inital epoch is needed *1 needs to be run\n",
    "extensions = [\"initial\"] #+ [\"testing/epoch80\"]\n",
    "#extensions = [\"testing/epoch100\"]\n",
    "\n",
    "object_list = data.load_testing_stimuli_info(masterpath+\"/\" + subfolders[0]) #assuming all the subfolders have the same\n",
    "stimuli_names = data.load_testing_stimuli_names(masterpath+\"/\" + subfolders[0])\n",
    "n_stimuli = np.sum(obj['count'] for obj in object_list)\n",
    "object_indices = [obj['indices'] for obj in object_list]\n",
    "\n",
    "# info_neurons is just an array of the information from above. This makes it easier to run the functions and pass the information. \n",
    "# info_times same for times\n",
    "network_architecture = dict(\n",
    "    num_exc_neurons_per_layer = 64*64,\n",
    "    num_inh_neurons_per_layer = 32*32,\n",
    "    num_layers = 4\n",
    ")\n",
    "\n",
    "info_times = dict(\n",
    "    length_of_stimulus = 2.0,\n",
    "    num_stimuli = n_stimuli,\n",
    "    time_start = 1.5,\n",
    "    time_end = 1.9\n",
    ")\n",
    "\n",
    "print(object_list)\n",
    "print(stimuli_names)"
   ]
  },
  {
   "cell_type": "code",
   "execution_count": 217,
   "metadata": {},
   "outputs": [
    {
     "name": "stdout",
     "output_type": "stream",
     "text": [
      "Start\n",
      "01_08-19_23_noise2\n"
     ]
    }
   ],
   "source": [
    "spikes = data.load_spikes_from_subfolders(masterpath, subfolders, extensions, True)"
   ]
  },
  {
   "cell_type": "code",
   "execution_count": 218,
   "metadata": {},
   "outputs": [
    {
     "name": "stdout",
     "output_type": "stream",
     "text": [
      "mean: 0.5227328216318496\n"
     ]
    }
   ],
   "source": [
    "max_id = spikes[0][0].ids.max()+1\n",
    "min_id = spikes[0][0].ids.min()\n",
    "rates = firing.spikesToFR(spikes[0][0], (min_id, max_id), (0, 2.0))\n",
    "\n",
    "print(\"mean: {}\".format(np.mean(rates.firing_rates.values)))"
   ]
  },
  {
   "cell_type": "code",
   "execution_count": 219,
   "metadata": {},
   "outputs": [
    {
     "data": {
      "text/plain": [
       "array([ 82. ,  74. ,  72.5, ...,   4.5,   4.5,   4.5])"
      ]
     },
     "execution_count": 219,
     "metadata": {},
     "output_type": "execute_result"
    }
   ],
   "source": [
    "fr_sorted = np.sort(rates.firing_rates.values)[:-5000:-1]\n",
    "fr_sorted"
   ]
  },
  {
   "cell_type": "code",
   "execution_count": 220,
   "metadata": {},
   "outputs": [
    {
     "data": {
      "text/plain": [
       "[<matplotlib.lines.Line2D at 0x114619780>]"
      ]
     },
     "execution_count": 220,
     "metadata": {},
     "output_type": "execute_result"
    },
    {
     "data": {
      "image/png": "[encoded data removed]",
      "text/plain": [
       "<matplotlib.figure.Figure at 0x10f9d17f0>"
      ]
     },
     "metadata": {},
     "output_type": "display_data"
    }
   ],
   "source": [
    "plt.plot(fr_sorted)"
   ]
  },
  {
   "cell_type": "code",
   "execution_count": 221,
   "metadata": {},
   "outputs": [
    {
     "data": {
      "text/plain": [
       "(array([  1.27985000e+05,   1.94100000e+03,   7.68000000e+02,\n",
       "          2.26000000e+02,   9.40000000e+01,   2.90000000e+01,\n",
       "          1.40000000e+01,   5.00000000e+00,   2.00000000e+00,\n",
       "          2.00000000e+00]),\n",
       " array([  0. ,   8.2,  16.4,  24.6,  32.8,  41. ,  49.2,  57.4,  65.6,\n",
       "         73.8,  82. ]),\n",
       " <a list of 10 Patch objects>)"
      ]
     },
     "execution_count": 221,
     "metadata": {},
     "output_type": "execute_result"
    },
    {
     "data": {
      "image/png": "[encoded data removed]",
      "text/plain": [
       "<matplotlib.figure.Figure at 0x11441e4e0>"
      ]
     },
     "metadata": {},
     "output_type": "display_data"
    }
   ],
   "source": [
    "plt.hist(rates.firing_rates.values)"
   ]
  },
  {
   "cell_type": "code",
   "execution_count": null,
   "metadata": {
    "collapsed": true
   },
   "outputs": [],
   "source": []
  },
  {
   "cell_type": "code",
   "execution_count": null,
   "metadata": {
    "collapsed": true
   },
   "outputs": [],
   "source": []
  }
 ],
 "metadata": {
  "kernelspec": {
   "display_name": "Python 3",
   "language": "python",
   "name": "python3"
  },
  "language_info": {
   "codemirror_mode": {
    "name": "ipython",
    "version": 3
   },
   "file_extension": ".py",
   "mimetype": "text/x-python",
   "name": "python",
   "nbconvert_exporter": "python",
   "pygments_lexer": "ipython3",
   "version": "3.6.1"
  }
 },
 "nbformat": 4,
 "nbformat_minor": 2
}
